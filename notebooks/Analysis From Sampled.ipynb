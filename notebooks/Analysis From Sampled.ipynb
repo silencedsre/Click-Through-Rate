{
 "cells": [
  {
   "cell_type": "code",
   "execution_count": 1,
   "metadata": {
    "pycharm": {
     "is_executing": false
    }
   },
   "outputs": [],
   "source": [
    "import pandas as pd\n",
    "import numpy as np\n",
    "import matplotlib.pyplot as plt\n",
    "import seaborn as sns"
   ]
  },
  {
   "cell_type": "code",
   "execution_count": 2,
   "metadata": {
    "pycharm": {
     "is_executing": false
    }
   },
   "outputs": [],
   "source": [
    "filename = '../datasets/data/train_sample.csv'\n",
    "df = pd.read_csv(filename)"
   ]
  },
  {
   "cell_type": "code",
   "execution_count": 3,
   "metadata": {
    "pycharm": {
     "is_executing": false
    }
   },
   "outputs": [
    {
     "data": {
      "text/plain": "Index(['Unnamed: 0', 'srch_id', 'date_time', 'site_id',\n       'visitor_location_country_id', 'visitor_hist_starrating',\n       'visitor_hist_adr_usd', 'prop_country_id', 'prop_id', 'prop_starrating',\n       'prop_review_score', 'prop_brand_bool', 'prop_location_score1',\n       'prop_location_score2', 'prop_log_historical_price', 'position',\n       'price_usd', 'promotion_flag', 'srch_destination_id',\n       'srch_length_of_stay', 'srch_booking_window', 'srch_adults_count',\n       'srch_children_count', 'srch_room_count', 'srch_saturday_night_bool',\n       'srch_query_affinity_score', 'orig_destination_distance', 'random_bool',\n       'comp1_rate', 'comp1_inv', 'comp1_rate_percent_diff', 'comp2_rate',\n       'comp2_inv', 'comp2_rate_percent_diff', 'comp3_rate', 'comp3_inv',\n       'comp3_rate_percent_diff', 'comp4_rate', 'comp4_inv',\n       'comp4_rate_percent_diff', 'comp5_rate', 'comp5_inv',\n       'comp5_rate_percent_diff', 'comp6_rate', 'comp6_inv',\n       'comp6_rate_percent_diff', 'comp7_rate', 'comp7_inv',\n       'comp7_rate_percent_diff', 'comp8_rate', 'comp8_inv',\n       'comp8_rate_percent_diff', 'click_bool', 'gross_bookings_usd',\n       'booking_bool'],\n      dtype='object')"
     },
     "metadata": {},
     "output_type": "execute_result",
     "execution_count": 3
    }
   ],
   "source": [
    "df.columns"
   ]
  },
  {
   "cell_type": "code",
   "execution_count": 4,
   "metadata": {
    "pycharm": {
     "is_executing": false
    }
   },
   "outputs": [
    {
     "data": {
      "text/plain": "Unnamed: 0                          0\nsrch_id                             0\ndate_time                           0\nsite_id                             0\nvisitor_location_country_id         0\nprop_country_id                     0\nprop_id                             0\nprop_starrating                     0\nprop_review_score                1434\nprop_brand_bool                     0\nprop_location_score1                0\nprop_location_score2           217893\nprop_log_historical_price           0\nposition                            0\nprice_usd                           0\npromotion_flag                      0\nsrch_destination_id                 0\nsrch_length_of_stay                 0\nsrch_booking_window                 0\nsrch_adults_count                   0\nsrch_children_count                 0\nsrch_room_count                     0\nsrch_saturday_night_bool            0\norig_destination_distance      321173\nrandom_bool                         0\nclick_bool                          0\nbooking_bool                        0\ndtype: int64"
     },
     "metadata": {},
     "output_type": "execute_result",
     "execution_count": 4
    }
   ],
   "source": [
    "null_counts = df.isnull().sum()\n",
    "refined_cols = null_counts[null_counts <500000]\n",
    "refined_cols"
   ]
  },
  {
   "cell_type": "code",
   "execution_count": 5,
   "metadata": {
    "pycharm": {
     "is_executing": false
    }
   },
   "outputs": [],
   "source": [
    "cols = []\n",
    "for items in refined_cols.iteritems():\n",
    "    cols.append(items[0])"
   ]
  },
  {
   "cell_type": "code",
   "execution_count": 6,
   "metadata": {
    "pycharm": {
     "is_executing": false
    }
   },
   "outputs": [],
   "source": [
    "df = df.filter(cols, axis=1)\n",
    "df = df.drop('Unnamed: 0', axis=1)"
   ]
  },
  {
   "cell_type": "code",
   "execution_count": 7,
   "metadata": {
    "pycharm": {
     "is_executing": false
    }
   },
   "outputs": [
    {
     "data": {
      "text/plain": "   srch_id            date_time  site_id  visitor_location_country_id  \\\n0        1  2013-04-04 08:32:15       12                          187   \n1        1  2013-04-04 08:32:15       12                          187   \n2        4  2012-12-31 08:59:22        5                          219   \n3        6  2013-06-05 12:27:51       14                          100   \n4        8  2013-03-20 17:50:44        5                          219   \n\n   prop_country_id  prop_id  prop_starrating  prop_review_score  \\\n0              219    50984                2                0.0   \n1              219    85728                2                3.0   \n2              219    75491                2                3.5   \n3              100   104251                3                4.0   \n4              219    33805                3                3.5   \n\n   prop_brand_bool  prop_location_score1  ...  srch_length_of_stay  \\\n0                0                  1.61  ...                    1   \n1                1                  1.79  ...                    1   \n2                0                  3.22  ...                    2   \n3                1                  1.95  ...                    1   \n4                1                  3.14  ...                    1   \n\n   srch_booking_window  srch_adults_count  srch_children_count  \\\n0                    0                  4                    0   \n1                    0                  4                    0   \n2                   46                  1                    0   \n3                    5                  2                    0   \n4                    0                  1                    0   \n\n   srch_room_count  srch_saturday_night_bool  orig_destination_distance  \\\n0                1                         1                        NaN   \n1                1                         1                        NaN   \n2                1                         1                     238.30   \n3                1                         0                     652.84   \n4                1                         0                       3.83   \n\n   random_bool  click_bool  booking_bool  \n0            1           0             0  \n1            1           0             0  \n2            1           0             0  \n3            0           1             1  \n4            0           0             0  \n\n[5 rows x 26 columns]",
      "text/html": "<div>\n<style scoped>\n    .dataframe tbody tr th:only-of-type {\n        vertical-align: middle;\n    }\n\n    .dataframe tbody tr th {\n        vertical-align: top;\n    }\n\n    .dataframe thead th {\n        text-align: right;\n    }\n</style>\n<table border=\"1\" class=\"dataframe\">\n  <thead>\n    <tr style=\"text-align: right;\">\n      <th></th>\n      <th>srch_id</th>\n      <th>date_time</th>\n      <th>site_id</th>\n      <th>visitor_location_country_id</th>\n      <th>prop_country_id</th>\n      <th>prop_id</th>\n      <th>prop_starrating</th>\n      <th>prop_review_score</th>\n      <th>prop_brand_bool</th>\n      <th>prop_location_score1</th>\n      <th>...</th>\n      <th>srch_length_of_stay</th>\n      <th>srch_booking_window</th>\n      <th>srch_adults_count</th>\n      <th>srch_children_count</th>\n      <th>srch_room_count</th>\n      <th>srch_saturday_night_bool</th>\n      <th>orig_destination_distance</th>\n      <th>random_bool</th>\n      <th>click_bool</th>\n      <th>booking_bool</th>\n    </tr>\n  </thead>\n  <tbody>\n    <tr>\n      <th>0</th>\n      <td>1</td>\n      <td>2013-04-04 08:32:15</td>\n      <td>12</td>\n      <td>187</td>\n      <td>219</td>\n      <td>50984</td>\n      <td>2</td>\n      <td>0.0</td>\n      <td>0</td>\n      <td>1.61</td>\n      <td>...</td>\n      <td>1</td>\n      <td>0</td>\n      <td>4</td>\n      <td>0</td>\n      <td>1</td>\n      <td>1</td>\n      <td>NaN</td>\n      <td>1</td>\n      <td>0</td>\n      <td>0</td>\n    </tr>\n    <tr>\n      <th>1</th>\n      <td>1</td>\n      <td>2013-04-04 08:32:15</td>\n      <td>12</td>\n      <td>187</td>\n      <td>219</td>\n      <td>85728</td>\n      <td>2</td>\n      <td>3.0</td>\n      <td>1</td>\n      <td>1.79</td>\n      <td>...</td>\n      <td>1</td>\n      <td>0</td>\n      <td>4</td>\n      <td>0</td>\n      <td>1</td>\n      <td>1</td>\n      <td>NaN</td>\n      <td>1</td>\n      <td>0</td>\n      <td>0</td>\n    </tr>\n    <tr>\n      <th>2</th>\n      <td>4</td>\n      <td>2012-12-31 08:59:22</td>\n      <td>5</td>\n      <td>219</td>\n      <td>219</td>\n      <td>75491</td>\n      <td>2</td>\n      <td>3.5</td>\n      <td>0</td>\n      <td>3.22</td>\n      <td>...</td>\n      <td>2</td>\n      <td>46</td>\n      <td>1</td>\n      <td>0</td>\n      <td>1</td>\n      <td>1</td>\n      <td>238.30</td>\n      <td>1</td>\n      <td>0</td>\n      <td>0</td>\n    </tr>\n    <tr>\n      <th>3</th>\n      <td>6</td>\n      <td>2013-06-05 12:27:51</td>\n      <td>14</td>\n      <td>100</td>\n      <td>100</td>\n      <td>104251</td>\n      <td>3</td>\n      <td>4.0</td>\n      <td>1</td>\n      <td>1.95</td>\n      <td>...</td>\n      <td>1</td>\n      <td>5</td>\n      <td>2</td>\n      <td>0</td>\n      <td>1</td>\n      <td>0</td>\n      <td>652.84</td>\n      <td>0</td>\n      <td>1</td>\n      <td>1</td>\n    </tr>\n    <tr>\n      <th>4</th>\n      <td>8</td>\n      <td>2013-03-20 17:50:44</td>\n      <td>5</td>\n      <td>219</td>\n      <td>219</td>\n      <td>33805</td>\n      <td>3</td>\n      <td>3.5</td>\n      <td>1</td>\n      <td>3.14</td>\n      <td>...</td>\n      <td>1</td>\n      <td>0</td>\n      <td>1</td>\n      <td>0</td>\n      <td>1</td>\n      <td>0</td>\n      <td>3.83</td>\n      <td>0</td>\n      <td>0</td>\n      <td>0</td>\n    </tr>\n  </tbody>\n</table>\n<p>5 rows × 26 columns</p>\n</div>"
     },
     "metadata": {},
     "output_type": "execute_result",
     "execution_count": 7
    }
   ],
   "source": [
    "df.head()"
   ]
  },
  {
   "cell_type": "code",
   "execution_count": 8,
   "metadata": {
    "pycharm": {
     "is_executing": false
    }
   },
   "outputs": [
    {
     "data": {
      "text/plain": "srch_id                          int64\ndate_time                       object\nsite_id                          int64\nvisitor_location_country_id      int64\nprop_country_id                  int64\nprop_id                          int64\nprop_starrating                  int64\nprop_review_score              float64\nprop_brand_bool                  int64\nprop_location_score1           float64\nprop_location_score2           float64\nprop_log_historical_price      float64\nposition                         int64\nprice_usd                      float64\npromotion_flag                   int64\nsrch_destination_id              int64\nsrch_length_of_stay              int64\nsrch_booking_window              int64\nsrch_adults_count                int64\nsrch_children_count              int64\nsrch_room_count                  int64\nsrch_saturday_night_bool         int64\norig_destination_distance      float64\nrandom_bool                      int64\nclick_bool                       int64\nbooking_bool                     int64\ndtype: object"
     },
     "metadata": {},
     "output_type": "execute_result",
     "execution_count": 8
    }
   ],
   "source": [
    "df.dtypes"
   ]
  },
  {
   "cell_type": "code",
   "execution_count": 9,
   "metadata": {
    "pycharm": {
     "is_executing": false
    }
   },
   "outputs": [
    {
     "data": {
      "text/plain": "srch_id                                     665573\ndate_time                      2013-06-30 23:58:24\nsite_id                                         34\nvisitor_location_country_id                    231\nprop_country_id                                230\nprop_id                                     140820\nprop_starrating                                  5\nprop_review_score                                5\nprop_brand_bool                                  1\nprop_location_score1                          6.98\nprop_location_score2                             1\nprop_log_historical_price                     6.21\nposition                                        40\nprice_usd                              3.23512e+06\npromotion_flag                                   1\nsrch_destination_id                          28416\nsrch_length_of_stay                             59\nsrch_booking_window                            498\nsrch_adults_count                                9\nsrch_children_count                              9\nsrch_room_count                                  8\nsrch_saturday_night_bool                         1\norig_destination_distance                    11685\nrandom_bool                                      1\nclick_bool                                       1\nbooking_bool                                     1\ndtype: object"
     },
     "metadata": {},
     "output_type": "execute_result",
     "execution_count": 9
    }
   ],
   "source": [
    "df.max()"
   ]
  },
  {
   "cell_type": "markdown",
   "metadata": {},
   "source": [
    "### maybe change dtypes to float16 or int16 except some"
   ]
  },
  {
   "cell_type": "code",
   "execution_count": 10,
   "metadata": {
    "pycharm": {
     "is_executing": false
    }
   },
   "outputs": [
    {
     "data": {
      "text/plain": "srch_id                             0\ndate_time                           0\nsite_id                             0\nvisitor_location_country_id         0\nprop_country_id                     0\nprop_id                             0\nprop_starrating                     0\nprop_review_score                1434\nprop_brand_bool                     0\nprop_location_score1                0\nprop_location_score2           217893\nprop_log_historical_price           0\nposition                            0\nprice_usd                           0\npromotion_flag                      0\nsrch_destination_id                 0\nsrch_length_of_stay                 0\nsrch_booking_window                 0\nsrch_adults_count                   0\nsrch_children_count                 0\nsrch_room_count                     0\nsrch_saturday_night_bool            0\norig_destination_distance      321173\nrandom_bool                         0\nclick_bool                          0\nbooking_bool                        0\ndtype: int64"
     },
     "metadata": {},
     "output_type": "execute_result",
     "execution_count": 10
    }
   ],
   "source": [
    "df.isnull().sum()"
   ]
  },
  {
   "cell_type": "markdown",
   "metadata": {},
   "source": [
    "### maybe do seperate analysis for `prop_location_score2` and `orig_destination_distance` but drop for now"
   ]
  },
  {
   "cell_type": "code",
   "execution_count": 11,
   "metadata": {
    "pycharm": {
     "is_executing": false
    }
   },
   "outputs": [],
   "source": [
    "df = df.drop(['prop_location_score2','orig_destination_distance']  , axis=1)"
   ]
  },
  {
   "cell_type": "code",
   "execution_count": 12,
   "metadata": {
    "pycharm": {
     "is_executing": false
    }
   },
   "outputs": [
    {
     "data": {
      "text/plain": "   srch_id            date_time  site_id  visitor_location_country_id  \\\n0        1  2013-04-04 08:32:15       12                          187   \n1        1  2013-04-04 08:32:15       12                          187   \n2        4  2012-12-31 08:59:22        5                          219   \n3        6  2013-06-05 12:27:51       14                          100   \n4        8  2013-03-20 17:50:44        5                          219   \n\n   prop_country_id  prop_id  prop_starrating  prop_review_score  \\\n0              219    50984                2                0.0   \n1              219    85728                2                3.0   \n2              219    75491                2                3.5   \n3              100   104251                3                4.0   \n4              219    33805                3                3.5   \n\n   prop_brand_bool  prop_location_score1  ...  srch_destination_id  \\\n0                0                  1.61  ...                23246   \n1                1                  1.79  ...                23246   \n2                0                  3.22  ...                12588   \n3                1                  1.95  ...                21106   \n4                1                  3.14  ...                 7082   \n\n   srch_length_of_stay  srch_booking_window  srch_adults_count  \\\n0                    1                    0                  4   \n1                    1                    0                  4   \n2                    2                   46                  1   \n3                    1                    5                  2   \n4                    1                    0                  1   \n\n   srch_children_count  srch_room_count  srch_saturday_night_bool  \\\n0                    0                1                         1   \n1                    0                1                         1   \n2                    0                1                         1   \n3                    0                1                         0   \n4                    0                1                         0   \n\n   random_bool  click_bool  booking_bool  \n0            1           0             0  \n1            1           0             0  \n2            1           0             0  \n3            0           1             1  \n4            0           0             0  \n\n[5 rows x 24 columns]",
      "text/html": "<div>\n<style scoped>\n    .dataframe tbody tr th:only-of-type {\n        vertical-align: middle;\n    }\n\n    .dataframe tbody tr th {\n        vertical-align: top;\n    }\n\n    .dataframe thead th {\n        text-align: right;\n    }\n</style>\n<table border=\"1\" class=\"dataframe\">\n  <thead>\n    <tr style=\"text-align: right;\">\n      <th></th>\n      <th>srch_id</th>\n      <th>date_time</th>\n      <th>site_id</th>\n      <th>visitor_location_country_id</th>\n      <th>prop_country_id</th>\n      <th>prop_id</th>\n      <th>prop_starrating</th>\n      <th>prop_review_score</th>\n      <th>prop_brand_bool</th>\n      <th>prop_location_score1</th>\n      <th>...</th>\n      <th>srch_destination_id</th>\n      <th>srch_length_of_stay</th>\n      <th>srch_booking_window</th>\n      <th>srch_adults_count</th>\n      <th>srch_children_count</th>\n      <th>srch_room_count</th>\n      <th>srch_saturday_night_bool</th>\n      <th>random_bool</th>\n      <th>click_bool</th>\n      <th>booking_bool</th>\n    </tr>\n  </thead>\n  <tbody>\n    <tr>\n      <th>0</th>\n      <td>1</td>\n      <td>2013-04-04 08:32:15</td>\n      <td>12</td>\n      <td>187</td>\n      <td>219</td>\n      <td>50984</td>\n      <td>2</td>\n      <td>0.0</td>\n      <td>0</td>\n      <td>1.61</td>\n      <td>...</td>\n      <td>23246</td>\n      <td>1</td>\n      <td>0</td>\n      <td>4</td>\n      <td>0</td>\n      <td>1</td>\n      <td>1</td>\n      <td>1</td>\n      <td>0</td>\n      <td>0</td>\n    </tr>\n    <tr>\n      <th>1</th>\n      <td>1</td>\n      <td>2013-04-04 08:32:15</td>\n      <td>12</td>\n      <td>187</td>\n      <td>219</td>\n      <td>85728</td>\n      <td>2</td>\n      <td>3.0</td>\n      <td>1</td>\n      <td>1.79</td>\n      <td>...</td>\n      <td>23246</td>\n      <td>1</td>\n      <td>0</td>\n      <td>4</td>\n      <td>0</td>\n      <td>1</td>\n      <td>1</td>\n      <td>1</td>\n      <td>0</td>\n      <td>0</td>\n    </tr>\n    <tr>\n      <th>2</th>\n      <td>4</td>\n      <td>2012-12-31 08:59:22</td>\n      <td>5</td>\n      <td>219</td>\n      <td>219</td>\n      <td>75491</td>\n      <td>2</td>\n      <td>3.5</td>\n      <td>0</td>\n      <td>3.22</td>\n      <td>...</td>\n      <td>12588</td>\n      <td>2</td>\n      <td>46</td>\n      <td>1</td>\n      <td>0</td>\n      <td>1</td>\n      <td>1</td>\n      <td>1</td>\n      <td>0</td>\n      <td>0</td>\n    </tr>\n    <tr>\n      <th>3</th>\n      <td>6</td>\n      <td>2013-06-05 12:27:51</td>\n      <td>14</td>\n      <td>100</td>\n      <td>100</td>\n      <td>104251</td>\n      <td>3</td>\n      <td>4.0</td>\n      <td>1</td>\n      <td>1.95</td>\n      <td>...</td>\n      <td>21106</td>\n      <td>1</td>\n      <td>5</td>\n      <td>2</td>\n      <td>0</td>\n      <td>1</td>\n      <td>0</td>\n      <td>0</td>\n      <td>1</td>\n      <td>1</td>\n    </tr>\n    <tr>\n      <th>4</th>\n      <td>8</td>\n      <td>2013-03-20 17:50:44</td>\n      <td>5</td>\n      <td>219</td>\n      <td>219</td>\n      <td>33805</td>\n      <td>3</td>\n      <td>3.5</td>\n      <td>1</td>\n      <td>3.14</td>\n      <td>...</td>\n      <td>7082</td>\n      <td>1</td>\n      <td>0</td>\n      <td>1</td>\n      <td>0</td>\n      <td>1</td>\n      <td>0</td>\n      <td>0</td>\n      <td>0</td>\n      <td>0</td>\n    </tr>\n  </tbody>\n</table>\n<p>5 rows × 24 columns</p>\n</div>"
     },
     "metadata": {},
     "output_type": "execute_result",
     "execution_count": 12
    }
   ],
   "source": [
    "df.head()"
   ]
  },
  {
   "cell_type": "code",
   "execution_count": 13,
   "metadata": {
    "pycharm": {
     "is_executing": false
    }
   },
   "outputs": [
    {
     "data": {
      "text/plain": "<matplotlib.axes._subplots.AxesSubplot at 0x7fc32e5f6048>"
     },
     "metadata": {},
     "output_type": "execute_result",
     "execution_count": 13
    },
    {
     "data": {
      "text/plain": "<Figure size 432x288 with 1 Axes>",
      "image/png": "[encoded data removed]"
     },
     "metadata": {
      "needs_background": "light"
     },
     "output_type": "display_data"
    }
   ],
   "source": [
    "df['prop_review_score'].plot.hist()"
   ]
  },
  {
   "cell_type": "markdown",
   "metadata": {},
   "source": [
    "### fill prop_review_score with median "
   ]
  },
  {
   "cell_type": "code",
   "execution_count": 14,
   "metadata": {
    "pycharm": {
     "is_executing": false
    }
   },
   "outputs": [
    {
     "data": {
      "text/plain": "dtype('float64')"
     },
     "metadata": {},
     "output_type": "execute_result",
     "execution_count": 14
    }
   ],
   "source": [
    "df['prop_review_score'].dtype"
   ]
  },
  {
   "cell_type": "code",
   "execution_count": 15,
   "metadata": {
    "pycharm": {
     "is_executing": false
    }
   },
   "outputs": [
    {
     "data": {
      "text/plain": "0         0.0\n1         3.0\n2         3.5\n3         4.0\n4         3.5\n         ... \n991748    4.0\n991749    3.5\n991750    4.0\n991751    5.0\n991752    4.0\nName: prop_review_score, Length: 991753, dtype: float64"
     },
     "metadata": {},
     "output_type": "execute_result",
     "execution_count": 15
    }
   ],
   "source": [
    "pd.to_numeric(df['prop_review_score'], errors='coerce')"
   ]
  },
  {
   "cell_type": "code",
   "execution_count": 16,
   "metadata": {
    "pycharm": {
     "is_executing": false
    }
   },
   "outputs": [],
   "source": [
    "# def custom_func(num_str):\n",
    "#     if pd.isnull(num_str):\n",
    "#         return num_str\n",
    "# abc = df['prop_review_score'].map(custom_func)"
   ]
  },
  {
   "cell_type": "code",
   "execution_count": 17,
   "metadata": {
    "pycharm": {
     "is_executing": false
    }
   },
   "outputs": [],
   "source": [
    "df['prop_review_score'].fillna((df['prop_review_score'].mean()), inplace=True)"
   ]
  },
  {
   "cell_type": "code",
   "execution_count": 18,
   "metadata": {
    "pycharm": {
     "is_executing": false
    }
   },
   "outputs": [
    {
     "data": {
      "text/plain": "   srch_id            date_time  site_id  visitor_location_country_id  \\\n0        1  2013-04-04 08:32:15       12                          187   \n1        1  2013-04-04 08:32:15       12                          187   \n2        4  2012-12-31 08:59:22        5                          219   \n3        6  2013-06-05 12:27:51       14                          100   \n4        8  2013-03-20 17:50:44        5                          219   \n\n   prop_country_id  prop_id  prop_starrating  prop_review_score  \\\n0              219    50984                2                0.0   \n1              219    85728                2                3.0   \n2              219    75491                2                3.5   \n3              100   104251                3                4.0   \n4              219    33805                3                3.5   \n\n   prop_brand_bool  prop_location_score1  ...  srch_destination_id  \\\n0                0                  1.61  ...                23246   \n1                1                  1.79  ...                23246   \n2                0                  3.22  ...                12588   \n3                1                  1.95  ...                21106   \n4                1                  3.14  ...                 7082   \n\n   srch_length_of_stay  srch_booking_window  srch_adults_count  \\\n0                    1                    0                  4   \n1                    1                    0                  4   \n2                    2                   46                  1   \n3                    1                    5                  2   \n4                    1                    0                  1   \n\n   srch_children_count  srch_room_count  srch_saturday_night_bool  \\\n0                    0                1                         1   \n1                    0                1                         1   \n2                    0                1                         1   \n3                    0                1                         0   \n4                    0                1                         0   \n\n   random_bool  click_bool  booking_bool  \n0            1           0             0  \n1            1           0             0  \n2            1           0             0  \n3            0           1             1  \n4            0           0             0  \n\n[5 rows x 24 columns]",
      "text/html": "<div>\n<style scoped>\n    .dataframe tbody tr th:only-of-type {\n        vertical-align: middle;\n    }\n\n    .dataframe tbody tr th {\n        vertical-align: top;\n    }\n\n    .dataframe thead th {\n        text-align: right;\n    }\n</style>\n<table border=\"1\" class=\"dataframe\">\n  <thead>\n    <tr style=\"text-align: right;\">\n      <th></th>\n      <th>srch_id</th>\n      <th>date_time</th>\n      <th>site_id</th>\n      <th>visitor_location_country_id</th>\n      <th>prop_country_id</th>\n      <th>prop_id</th>\n      <th>prop_starrating</th>\n      <th>prop_review_score</th>\n      <th>prop_brand_bool</th>\n      <th>prop_location_score1</th>\n      <th>...</th>\n      <th>srch_destination_id</th>\n      <th>srch_length_of_stay</th>\n      <th>srch_booking_window</th>\n      <th>srch_adults_count</th>\n      <th>srch_children_count</th>\n      <th>srch_room_count</th>\n      <th>srch_saturday_night_bool</th>\n      <th>random_bool</th>\n      <th>click_bool</th>\n      <th>booking_bool</th>\n    </tr>\n  </thead>\n  <tbody>\n    <tr>\n      <th>0</th>\n      <td>1</td>\n      <td>2013-04-04 08:32:15</td>\n      <td>12</td>\n      <td>187</td>\n      <td>219</td>\n      <td>50984</td>\n      <td>2</td>\n      <td>0.0</td>\n      <td>0</td>\n      <td>1.61</td>\n      <td>...</td>\n      <td>23246</td>\n      <td>1</td>\n      <td>0</td>\n      <td>4</td>\n      <td>0</td>\n      <td>1</td>\n      <td>1</td>\n      <td>1</td>\n      <td>0</td>\n      <td>0</td>\n    </tr>\n    <tr>\n      <th>1</th>\n      <td>1</td>\n      <td>2013-04-04 08:32:15</td>\n      <td>12</td>\n      <td>187</td>\n      <td>219</td>\n      <td>85728</td>\n      <td>2</td>\n      <td>3.0</td>\n      <td>1</td>\n      <td>1.79</td>\n      <td>...</td>\n      <td>23246</td>\n      <td>1</td>\n      <td>0</td>\n      <td>4</td>\n      <td>0</td>\n      <td>1</td>\n      <td>1</td>\n      <td>1</td>\n      <td>0</td>\n      <td>0</td>\n    </tr>\n    <tr>\n      <th>2</th>\n      <td>4</td>\n      <td>2012-12-31 08:59:22</td>\n      <td>5</td>\n      <td>219</td>\n      <td>219</td>\n      <td>75491</td>\n      <td>2</td>\n      <td>3.5</td>\n      <td>0</td>\n      <td>3.22</td>\n      <td>...</td>\n      <td>12588</td>\n      <td>2</td>\n      <td>46</td>\n      <td>1</td>\n      <td>0</td>\n      <td>1</td>\n      <td>1</td>\n      <td>1</td>\n      <td>0</td>\n      <td>0</td>\n    </tr>\n    <tr>\n      <th>3</th>\n      <td>6</td>\n      <td>2013-06-05 12:27:51</td>\n      <td>14</td>\n      <td>100</td>\n      <td>100</td>\n      <td>104251</td>\n      <td>3</td>\n      <td>4.0</td>\n      <td>1</td>\n      <td>1.95</td>\n      <td>...</td>\n      <td>21106</td>\n      <td>1</td>\n      <td>5</td>\n      <td>2</td>\n      <td>0</td>\n      <td>1</td>\n      <td>0</td>\n      <td>0</td>\n      <td>1</td>\n      <td>1</td>\n    </tr>\n    <tr>\n      <th>4</th>\n      <td>8</td>\n      <td>2013-03-20 17:50:44</td>\n      <td>5</td>\n      <td>219</td>\n      <td>219</td>\n      <td>33805</td>\n      <td>3</td>\n      <td>3.5</td>\n      <td>1</td>\n      <td>3.14</td>\n      <td>...</td>\n      <td>7082</td>\n      <td>1</td>\n      <td>0</td>\n      <td>1</td>\n      <td>0</td>\n      <td>1</td>\n      <td>0</td>\n      <td>0</td>\n      <td>0</td>\n      <td>0</td>\n    </tr>\n  </tbody>\n</table>\n<p>5 rows × 24 columns</p>\n</div>"
     },
     "metadata": {},
     "output_type": "execute_result",
     "execution_count": 18
    }
   ],
   "source": [
    "df.head()"
   ]
  },
  {
   "cell_type": "code",
   "execution_count": 19,
   "metadata": {
    "pycharm": {
     "is_executing": false
    }
   },
   "outputs": [
    {
     "name": "stdout",
     "text": [
      "<class 'pandas.core.frame.DataFrame'>\nRangeIndex: 991753 entries, 0 to 991752\nData columns (total 24 columns):\nsrch_id                        991753 non-null int64\ndate_time                      991753 non-null object\nsite_id                        991753 non-null int64\nvisitor_location_country_id    991753 non-null int64\nprop_country_id                991753 non-null int64\nprop_id                        991753 non-null int64\nprop_starrating                991753 non-null int64\nprop_review_score              991753 non-null float64\nprop_brand_bool                991753 non-null int64\nprop_location_score1           991753 non-null float64\nprop_log_historical_price      991753 non-null float64\nposition                       991753 non-null int64\nprice_usd                      991753 non-null float64\npromotion_flag                 991753 non-null int64\nsrch_destination_id            991753 non-null int64\nsrch_length_of_stay            991753 non-null int64\nsrch_booking_window            991753 non-null int64\nsrch_adults_count              991753 non-null int64\nsrch_children_count            991753 non-null int64\nsrch_room_count                991753 non-null int64\nsrch_saturday_night_bool       991753 non-null int64\nrandom_bool                    991753 non-null int64\nclick_bool                     991753 non-null int64\nbooking_bool                   991753 non-null int64\ndtypes: float64(4), int64(19), object(1)\nmemory usage: 181.6+ MB\n"
     ],
     "output_type": "stream"
    }
   ],
   "source": [
    "df.info()"
   ]
  },
  {
   "cell_type": "code",
   "execution_count": 20,
   "metadata": {
    "pycharm": {
     "is_executing": false
    }
   },
   "outputs": [
    {
     "data": {
      "text/plain": "array([0. , 3. , 3.5, ..., 4. , 5. , 4. ])"
     },
     "metadata": {},
     "output_type": "execute_result",
     "execution_count": 20
    }
   ],
   "source": [
    "df['prop_review_score'].values"
   ]
  },
  {
   "cell_type": "code",
   "execution_count": 21,
   "metadata": {
    "pycharm": {
     "is_executing": false
    }
   },
   "outputs": [],
   "source": [
    "to_sns = df.drop('date_time', axis=1)"
   ]
  },
  {
   "cell_type": "code",
   "execution_count": 22,
   "metadata": {
    "pycharm": {
     "is_executing": false
    }
   },
   "outputs": [],
   "source": [
    "# fig, ax = plt.subplots(figsize=(20,8))         # Sample figsize in inches\n",
    "# sns.heatmap(to_sns)"
   ]
  },
  {
   "cell_type": "code",
   "execution_count": 23,
   "metadata": {
    "pycharm": {
     "is_executing": false
    }
   },
   "outputs": [
    {
     "data": {
      "text/plain": "<matplotlib.axes._subplots.AxesSubplot at 0x7fc32f884978>"
     },
     "metadata": {},
     "output_type": "execute_result",
     "execution_count": 23
    },
    {
     "data": {
      "text/plain": "<Figure size 432x288 with 1 Axes>",
      "image/png": "[encoded data removed]"
     },
     "metadata": {
      "needs_background": "light"
     },
     "output_type": "display_data"
    }
   ],
   "source": [
    "sns.distplot(to_sns['prop_review_score'])"
   ]
  },
  {
   "cell_type": "code",
   "execution_count": 24,
   "metadata": {
    "pycharm": {
     "is_executing": false
    }
   },
   "outputs": [],
   "source": [
    "# ax = sns.regplot(x=df['price_usd'], y=df['click_bool'])"
   ]
  },
  {
   "cell_type": "code",
   "execution_count": 25,
   "metadata": {
    "pycharm": {
     "is_executing": false
    }
   },
   "outputs": [
    {
     "data": {
      "text/plain": "<Figure size 432x288 with 1 Axes>",
      "image/png": "[encoded data removed]"
     },
     "metadata": {
      "needs_background": "light"
     },
     "output_type": "display_data"
    }
   ],
   "source": [
    "ax = sns.scatterplot(x=df['prop_review_score'], y=df['price_usd'])"
   ]
  },
  {
   "cell_type": "code",
   "execution_count": 26,
   "metadata": {
    "pycharm": {
     "is_executing": false
    }
   },
   "outputs": [
    {
     "data": {
      "text/plain": "<Figure size 432x288 with 1 Axes>",
      "image/png": "[encoded data removed]"
     },
     "metadata": {
      "needs_background": "light"
     },
     "output_type": "display_data"
    }
   ],
   "source": [
    "ax = sns.scatterplot(x=df['srch_length_of_stay'], y=df['price_usd'])"
   ]
  },
  {
   "cell_type": "code",
   "execution_count": 27,
   "metadata": {
    "pycharm": {
     "is_executing": false
    }
   },
   "outputs": [
    {
     "data": {
      "text/plain": "<matplotlib.axes._subplots.AxesSubplot at 0x7fc34d0f9b00>"
     },
     "metadata": {},
     "output_type": "execute_result",
     "execution_count": 27
    },
    {
     "data": {
      "text/plain": "<Figure size 432x288 with 1 Axes>",
      "image/png": "[encoded data removed]"
     },
     "metadata": {
      "needs_background": "light"
     },
     "output_type": "display_data"
    }
   ],
   "source": [
    "df['price_usd'].plot.box()"
   ]
  },
  {
   "cell_type": "code",
   "execution_count": 28,
   "metadata": {
    "pycharm": {
     "is_executing": false
    }
   },
   "outputs": [
    {
     "data": {
      "text/plain": "(3235118.0, 0.0, 222.32683981797885, 122.0)"
     },
     "metadata": {},
     "output_type": "execute_result",
     "execution_count": 28
    }
   ],
   "source": [
    "df['price_usd'].max(), df['price_usd'].min(), df['price_usd'].mean(), df['price_usd'].median()"
   ]
  },
  {
   "cell_type": "code",
   "execution_count": 29,
   "metadata": {
    "pycharm": {
     "is_executing": false
    }
   },
   "outputs": [],
   "source": [
    "price = df[['visitor_location_country_id', 'prop_country_id', 'prop_starrating', 'prop_id', 'srch_length_of_stay', 'position', 'promotion_flag', 'price_usd']][df['price_usd'] > 10000]"
   ]
  },
  {
   "cell_type": "code",
   "execution_count": 30,
   "metadata": {
    "pycharm": {
     "is_executing": false
    }
   },
   "outputs": [
    {
     "data": {
      "text/plain": "       visitor_location_country_id  prop_country_id  prop_starrating  prop_id  \\\n1140                           160               23                5    24349   \n1141                           160               23                5    24788   \n1143                           160               23                4   111036   \n7069                            59               59                5    93869   \n7691                           219              219                2    19018   \n7692                           219              219                4    20362   \n7693                           219              219                4    21721   \n7694                           219              219                4    66702   \n7695                           219              219                2   130415   \n7933                           100              100                4      848   \n16453                          216              138                3    17829   \n16454                          216              138                4    63987   \n16455                          216              138                4    87695   \n20631                          219              219                4    67619   \n20632                          219              219                4    80832   \n20633                          219              219                5    99219   \n20634                          219              219                4   125744   \n31554                           92               55                5    18575   \n31555                           92               55                4    65797   \n31556                           92               55                5    66347   \n31557                           92               55                4   101134   \n42036                           98               98                4    30414   \n42037                           98               98                4    57843   \n42091                          219              219                3    42875   \n42092                          219              219                3   121665   \n42093                          219              219                3   137592   \n42976                          216              220                4     2108   \n47704                           26              158                5    82281   \n47705                           26              158                5   123400   \n55253                          181              206                4    38114   \n\n       srch_length_of_stay  position  promotion_flag  price_usd  \n1140                     2        27               0   13392.00  \n1141                     2         2               0   17410.00  \n1143                     2        31               0   13303.00  \n7069                     3         6               0   12355.00  \n7691                     3        19               0   97739.00  \n7692                     3        15               1  211411.00  \n7693                     3         8               0  250892.00  \n7694                     3         4               1  176022.00  \n7695                     3         9               0  114042.00  \n7933                     1         8               1   17108.65  \n16453                    1        24               0   10214.00  \n16454                    1         4               1   19222.00  \n16455                    1         7               0   16021.00  \n20631                    4        15               1   16854.00  \n20632                    4         7               1   17436.00  \n20633                    4        11               1   21375.00  \n20634                    4        12               1   15709.00  \n31554                    7        16               0  548432.84  \n31555                    7        15               0  421064.58  \n31556                    7        30               0  822602.80  \n31557                    7         4               0  311588.49  \n42036                    1         4               1  181431.24  \n42037                    1        18               1  103674.55  \n42091                    7        30               1  214364.00  \n42092                    7        31               0  214981.00  \n42093                    7        29               1  212242.00  \n42976                    1        10               0   28357.23  \n47704                   14        24               0   11672.00  \n47705                   14         2               1   10500.00  \n55253                    1        29               1   57812.00  ",
      "text/html": "<div>\n<style scoped>\n    .dataframe tbody tr th:only-of-type {\n        vertical-align: middle;\n    }\n\n    .dataframe tbody tr th {\n        vertical-align: top;\n    }\n\n    .dataframe thead th {\n        text-align: right;\n    }\n</style>\n<table border=\"1\" class=\"dataframe\">\n  <thead>\n    <tr style=\"text-align: right;\">\n      <th></th>\n      <th>visitor_location_country_id</th>\n      <th>prop_country_id</th>\n      <th>prop_starrating</th>\n      <th>prop_id</th>\n      <th>srch_length_of_stay</th>\n      <th>position</th>\n      <th>promotion_flag</th>\n      <th>price_usd</th>\n    </tr>\n  </thead>\n  <tbody>\n    <tr>\n      <th>1140</th>\n      <td>160</td>\n      <td>23</td>\n      <td>5</td>\n      <td>24349</td>\n      <td>2</td>\n      <td>27</td>\n      <td>0</td>\n      <td>13392.00</td>\n    </tr>\n    <tr>\n      <th>1141</th>\n      <td>160</td>\n      <td>23</td>\n      <td>5</td>\n      <td>24788</td>\n      <td>2</td>\n      <td>2</td>\n      <td>0</td>\n      <td>17410.00</td>\n    </tr>\n    <tr>\n      <th>1143</th>\n      <td>160</td>\n      <td>23</td>\n      <td>4</td>\n      <td>111036</td>\n      <td>2</td>\n      <td>31</td>\n      <td>0</td>\n      <td>13303.00</td>\n    </tr>\n    <tr>\n      <th>7069</th>\n      <td>59</td>\n      <td>59</td>\n      <td>5</td>\n      <td>93869</td>\n      <td>3</td>\n      <td>6</td>\n      <td>0</td>\n      <td>12355.00</td>\n    </tr>\n    <tr>\n      <th>7691</th>\n      <td>219</td>\n      <td>219</td>\n      <td>2</td>\n      <td>19018</td>\n      <td>3</td>\n      <td>19</td>\n      <td>0</td>\n      <td>97739.00</td>\n    </tr>\n    <tr>\n      <th>7692</th>\n      <td>219</td>\n      <td>219</td>\n      <td>4</td>\n      <td>20362</td>\n      <td>3</td>\n      <td>15</td>\n      <td>1</td>\n      <td>211411.00</td>\n    </tr>\n    <tr>\n      <th>7693</th>\n      <td>219</td>\n      <td>219</td>\n      <td>4</td>\n      <td>21721</td>\n      <td>3</td>\n      <td>8</td>\n      <td>0</td>\n      <td>250892.00</td>\n    </tr>\n    <tr>\n      <th>7694</th>\n      <td>219</td>\n      <td>219</td>\n      <td>4</td>\n      <td>66702</td>\n      <td>3</td>\n      <td>4</td>\n      <td>1</td>\n      <td>176022.00</td>\n    </tr>\n    <tr>\n      <th>7695</th>\n      <td>219</td>\n      <td>219</td>\n      <td>2</td>\n      <td>130415</td>\n      <td>3</td>\n      <td>9</td>\n      <td>0</td>\n      <td>114042.00</td>\n    </tr>\n    <tr>\n      <th>7933</th>\n      <td>100</td>\n      <td>100</td>\n      <td>4</td>\n      <td>848</td>\n      <td>1</td>\n      <td>8</td>\n      <td>1</td>\n      <td>17108.65</td>\n    </tr>\n    <tr>\n      <th>16453</th>\n      <td>216</td>\n      <td>138</td>\n      <td>3</td>\n      <td>17829</td>\n      <td>1</td>\n      <td>24</td>\n      <td>0</td>\n      <td>10214.00</td>\n    </tr>\n    <tr>\n      <th>16454</th>\n      <td>216</td>\n      <td>138</td>\n      <td>4</td>\n      <td>63987</td>\n      <td>1</td>\n      <td>4</td>\n      <td>1</td>\n      <td>19222.00</td>\n    </tr>\n    <tr>\n      <th>16455</th>\n      <td>216</td>\n      <td>138</td>\n      <td>4</td>\n      <td>87695</td>\n      <td>1</td>\n      <td>7</td>\n      <td>0</td>\n      <td>16021.00</td>\n    </tr>\n    <tr>\n      <th>20631</th>\n      <td>219</td>\n      <td>219</td>\n      <td>4</td>\n      <td>67619</td>\n      <td>4</td>\n      <td>15</td>\n      <td>1</td>\n      <td>16854.00</td>\n    </tr>\n    <tr>\n      <th>20632</th>\n      <td>219</td>\n      <td>219</td>\n      <td>4</td>\n      <td>80832</td>\n      <td>4</td>\n      <td>7</td>\n      <td>1</td>\n      <td>17436.00</td>\n    </tr>\n    <tr>\n      <th>20633</th>\n      <td>219</td>\n      <td>219</td>\n      <td>5</td>\n      <td>99219</td>\n      <td>4</td>\n      <td>11</td>\n      <td>1</td>\n      <td>21375.00</td>\n    </tr>\n    <tr>\n      <th>20634</th>\n      <td>219</td>\n      <td>219</td>\n      <td>4</td>\n      <td>125744</td>\n      <td>4</td>\n      <td>12</td>\n      <td>1</td>\n      <td>15709.00</td>\n    </tr>\n    <tr>\n      <th>31554</th>\n      <td>92</td>\n      <td>55</td>\n      <td>5</td>\n      <td>18575</td>\n      <td>7</td>\n      <td>16</td>\n      <td>0</td>\n      <td>548432.84</td>\n    </tr>\n    <tr>\n      <th>31555</th>\n      <td>92</td>\n      <td>55</td>\n      <td>4</td>\n      <td>65797</td>\n      <td>7</td>\n      <td>15</td>\n      <td>0</td>\n      <td>421064.58</td>\n    </tr>\n    <tr>\n      <th>31556</th>\n      <td>92</td>\n      <td>55</td>\n      <td>5</td>\n      <td>66347</td>\n      <td>7</td>\n      <td>30</td>\n      <td>0</td>\n      <td>822602.80</td>\n    </tr>\n    <tr>\n      <th>31557</th>\n      <td>92</td>\n      <td>55</td>\n      <td>4</td>\n      <td>101134</td>\n      <td>7</td>\n      <td>4</td>\n      <td>0</td>\n      <td>311588.49</td>\n    </tr>\n    <tr>\n      <th>42036</th>\n      <td>98</td>\n      <td>98</td>\n      <td>4</td>\n      <td>30414</td>\n      <td>1</td>\n      <td>4</td>\n      <td>1</td>\n      <td>181431.24</td>\n    </tr>\n    <tr>\n      <th>42037</th>\n      <td>98</td>\n      <td>98</td>\n      <td>4</td>\n      <td>57843</td>\n      <td>1</td>\n      <td>18</td>\n      <td>1</td>\n      <td>103674.55</td>\n    </tr>\n    <tr>\n      <th>42091</th>\n      <td>219</td>\n      <td>219</td>\n      <td>3</td>\n      <td>42875</td>\n      <td>7</td>\n      <td>30</td>\n      <td>1</td>\n      <td>214364.00</td>\n    </tr>\n    <tr>\n      <th>42092</th>\n      <td>219</td>\n      <td>219</td>\n      <td>3</td>\n      <td>121665</td>\n      <td>7</td>\n      <td>31</td>\n      <td>0</td>\n      <td>214981.00</td>\n    </tr>\n    <tr>\n      <th>42093</th>\n      <td>219</td>\n      <td>219</td>\n      <td>3</td>\n      <td>137592</td>\n      <td>7</td>\n      <td>29</td>\n      <td>1</td>\n      <td>212242.00</td>\n    </tr>\n    <tr>\n      <th>42976</th>\n      <td>216</td>\n      <td>220</td>\n      <td>4</td>\n      <td>2108</td>\n      <td>1</td>\n      <td>10</td>\n      <td>0</td>\n      <td>28357.23</td>\n    </tr>\n    <tr>\n      <th>47704</th>\n      <td>26</td>\n      <td>158</td>\n      <td>5</td>\n      <td>82281</td>\n      <td>14</td>\n      <td>24</td>\n      <td>0</td>\n      <td>11672.00</td>\n    </tr>\n    <tr>\n      <th>47705</th>\n      <td>26</td>\n      <td>158</td>\n      <td>5</td>\n      <td>123400</td>\n      <td>14</td>\n      <td>2</td>\n      <td>1</td>\n      <td>10500.00</td>\n    </tr>\n    <tr>\n      <th>55253</th>\n      <td>181</td>\n      <td>206</td>\n      <td>4</td>\n      <td>38114</td>\n      <td>1</td>\n      <td>29</td>\n      <td>1</td>\n      <td>57812.00</td>\n    </tr>\n  </tbody>\n</table>\n</div>"
     },
     "metadata": {},
     "output_type": "execute_result",
     "execution_count": 30
    }
   ],
   "source": [
    "price.head(30)"
   ]
  },
  {
   "cell_type": "code",
   "execution_count": 31,
   "metadata": {
    "pycharm": {
     "is_executing": false
    }
   },
   "outputs": [
    {
     "data": {
      "text/plain": "       visitor_location_country_id  prop_country_id  prop_starrating  \\\ncount                   369.000000       369.000000       369.000000   \nmean                    155.363144       160.940379         3.728997   \nstd                      65.956988        72.858758         0.979268   \nmin                      10.000000         4.000000         0.000000   \n25%                      92.000000        98.000000         3.000000   \n50%                     181.000000       206.000000         4.000000   \n75%                     219.000000       219.000000         4.000000   \nmax                     220.000000       225.000000         5.000000   \n\n             prop_id  srch_length_of_stay    position  promotion_flag  \\\ncount     369.000000           369.000000  369.000000      369.000000   \nmean    69023.249322             2.647696   15.308943        0.346883   \nstd     42941.318878             2.216662    9.025745        0.476625   \nmin       640.000000             1.000000    1.000000        0.000000   \n25%     29938.000000             1.000000    7.000000        0.000000   \n50%     71379.000000             2.000000   15.000000        0.000000   \n75%    105534.000000             3.000000   24.000000        1.000000   \nmax    140696.000000            14.000000   32.000000        1.000000   \n\n          price_usd  \ncount  3.690000e+02  \nmean   1.786207e+05  \nstd    3.954096e+05  \nmin    1.006700e+04  \n25%    1.570900e+04  \n50%    4.722892e+04  \n75%    1.727610e+05  \nmax    3.235118e+06  ",
      "text/html": "<div>\n<style scoped>\n    .dataframe tbody tr th:only-of-type {\n        vertical-align: middle;\n    }\n\n    .dataframe tbody tr th {\n        vertical-align: top;\n    }\n\n    .dataframe thead th {\n        text-align: right;\n    }\n</style>\n<table border=\"1\" class=\"dataframe\">\n  <thead>\n    <tr style=\"text-align: right;\">\n      <th></th>\n      <th>visitor_location_country_id</th>\n      <th>prop_country_id</th>\n      <th>prop_starrating</th>\n      <th>prop_id</th>\n      <th>srch_length_of_stay</th>\n      <th>position</th>\n      <th>promotion_flag</th>\n      <th>price_usd</th>\n    </tr>\n  </thead>\n  <tbody>\n    <tr>\n      <th>count</th>\n      <td>369.000000</td>\n      <td>369.000000</td>\n      <td>369.000000</td>\n      <td>369.000000</td>\n      <td>369.000000</td>\n      <td>369.000000</td>\n      <td>369.000000</td>\n      <td>3.690000e+02</td>\n    </tr>\n    <tr>\n      <th>mean</th>\n      <td>155.363144</td>\n      <td>160.940379</td>\n      <td>3.728997</td>\n      <td>69023.249322</td>\n      <td>2.647696</td>\n      <td>15.308943</td>\n      <td>0.346883</td>\n      <td>1.786207e+05</td>\n    </tr>\n    <tr>\n      <th>std</th>\n      <td>65.956988</td>\n      <td>72.858758</td>\n      <td>0.979268</td>\n      <td>42941.318878</td>\n      <td>2.216662</td>\n      <td>9.025745</td>\n      <td>0.476625</td>\n      <td>3.954096e+05</td>\n    </tr>\n    <tr>\n      <th>min</th>\n      <td>10.000000</td>\n      <td>4.000000</td>\n      <td>0.000000</td>\n      <td>640.000000</td>\n      <td>1.000000</td>\n      <td>1.000000</td>\n      <td>0.000000</td>\n      <td>1.006700e+04</td>\n    </tr>\n    <tr>\n      <th>25%</th>\n      <td>92.000000</td>\n      <td>98.000000</td>\n      <td>3.000000</td>\n      <td>29938.000000</td>\n      <td>1.000000</td>\n      <td>7.000000</td>\n      <td>0.000000</td>\n      <td>1.570900e+04</td>\n    </tr>\n    <tr>\n      <th>50%</th>\n      <td>181.000000</td>\n      <td>206.000000</td>\n      <td>4.000000</td>\n      <td>71379.000000</td>\n      <td>2.000000</td>\n      <td>15.000000</td>\n      <td>0.000000</td>\n      <td>4.722892e+04</td>\n    </tr>\n    <tr>\n      <th>75%</th>\n      <td>219.000000</td>\n      <td>219.000000</td>\n      <td>4.000000</td>\n      <td>105534.000000</td>\n      <td>3.000000</td>\n      <td>24.000000</td>\n      <td>1.000000</td>\n      <td>1.727610e+05</td>\n    </tr>\n    <tr>\n      <th>max</th>\n      <td>220.000000</td>\n      <td>225.000000</td>\n      <td>5.000000</td>\n      <td>140696.000000</td>\n      <td>14.000000</td>\n      <td>32.000000</td>\n      <td>1.000000</td>\n      <td>3.235118e+06</td>\n    </tr>\n  </tbody>\n</table>\n</div>"
     },
     "metadata": {},
     "output_type": "execute_result",
     "execution_count": 31
    }
   ],
   "source": [
    "price.describe()"
   ]
  },
  {
   "cell_type": "code",
   "execution_count": 32,
   "metadata": {
    "pycharm": {
     "is_executing": false
    }
   },
   "outputs": [
    {
     "name": "stdout",
     "text": [
      "<class 'pandas.core.frame.DataFrame'>\nInt64Index: 369 entries, 1140 to 990794\nData columns (total 8 columns):\nvisitor_location_country_id    369 non-null int64\nprop_country_id                369 non-null int64\nprop_starrating                369 non-null int64\nprop_id                        369 non-null int64\nsrch_length_of_stay            369 non-null int64\nposition                       369 non-null int64\npromotion_flag                 369 non-null int64\nprice_usd                      369 non-null float64\ndtypes: float64(1), int64(7)\nmemory usage: 25.9 KB\n"
     ],
     "output_type": "stream"
    }
   ],
   "source": [
    "price.info()"
   ]
  },
  {
   "cell_type": "code",
   "execution_count": 33,
   "metadata": {
    "pycharm": {
     "is_executing": false
    }
   },
   "outputs": [
    {
     "data": {
      "text/plain": "array([219, 100, 158,  31, 216,  15,  98,  55,  30, 137, 215,  56, 129,\n        99,  53, 181,  35,  59, 132, 127, 109, 195, 131,  70, 220,  13,\n        92,  91, 113, 117, 205,  14,  41, 164,   9, 138, 194, 103,  50,\n        81,   4, 202, 102,  73,  26,  39,  23, 230,  60,  32, 125,  16,\n       225, 157, 145, 221, 151,  71,  10,  80,  68,  77,  61, 153, 178,\n       182,  48, 119, 206, 156,  18, 134, 173,  88, 223,  97, 123,   2,\n       211, 184, 213, 154, 187,  37, 189,  33, 212,  21,  17,  45,  74,\n       229,  47, 224, 200, 149,  27, 122,  93,  69,  63, 106,  83,  42,\n        34, 197,  96, 159, 152, 161,  76, 186,  38, 196, 163,  86, 124,\n       172, 155,  51,  11,  40, 214, 177, 162, 201,  22,  90, 169, 171,\n       179, 143, 146, 203,  72, 136, 141, 128,  20, 120, 111,  57,  25,\n        44,  65, 160, 180,  82, 190,  89, 167, 226, 112, 140,   1,  87,\n       207, 222,  46, 208,   7, 192, 185, 108,  79, 135, 126, 217, 165,\n        62])"
     },
     "metadata": {},
     "output_type": "execute_result",
     "execution_count": 33
    }
   ],
   "source": [
    "df['prop_country_id'].unique()"
   ]
  },
  {
   "cell_type": "code",
   "execution_count": 34,
   "metadata": {
    "pycharm": {
     "is_executing": false
    }
   },
   "outputs": [
    {
     "data": {
      "text/plain": "99674"
     },
     "metadata": {},
     "output_type": "execute_result",
     "execution_count": 34
    }
   ],
   "source": [
    "len(df['prop_id'].unique())"
   ]
  },
  {
   "cell_type": "code",
   "execution_count": 35,
   "metadata": {
    "pycharm": {
     "is_executing": false
    }
   },
   "outputs": [
    {
     "data": {
      "text/plain": "array([ 24349,  24788, 111036,  93869,  19018,  20362,  21721,  66702,\n       130415,    848,  17829,  63987,  87695,  67619,  80832,  99219,\n       125744,  18575,  65797,  66347, 101134,  30414,  57843,  42875,\n       121665, 137592,   2108,  82281, 123400,  38114, 100787, 102981,\n          715,  25857,  92295, 135426,  38835,  30713,  93081, 121048,\n        30422,  79033,  10944,  17349,  97757,  93660,   5119,  24723,\n       118778, 125176, 129484,  87341,   1352,  99656,   2275,  58072,\n        63097, 113274,  54310, 114255, 136758,  50349,  75711,  97600,\n        19268,  47567,  84176, 130144,  26823, 129506,  91209, 117019,\n       100503, 105382,  12500,  52515,  73379, 139000,  63437,  86986,\n       120479,  53684,  75314,  42712, 139153,  37346,  69261,  86639,\n       121267, 129968,  87788, 109731,   2351,   8559,  73200,   7881,\n        45554,  72731, 110663,  24236,  83194, 136709,   6271,  56330,\n       131608,  11218, 118653,  62779, 105860,   4472,  98159, 118314,\n        19807,  81654,  40279,  60468,  19956,  21693,  37029, 102992,\n        81804, 107721,  39047,  52408, 100594,  22437, 123555,  32234,\n        63105, 123012,  34026, 100304,  44553, 125187,  88380,   7596,\n        58632,  44213,   1775,  42694,  38029,  11099,  46865,  60875,\n       134393,  64821,  78814, 115525,   5841, 136598, 126910,  88899,\n        69539, 119806,   1067,  16841,  37464, 132529, 132864,  73531,\n        56068, 107912, 133722,  59765,  74569,  41400,   6128,  15351,\n        63708,  73745, 116855,  14923,   7008,  20995,  50014,  34400,\n        84594,  41278,  53494, 139197,  29938,  22019,  60832,  65642,\n        80230, 120352, 125042,   4610,   6150,  82766, 100921, 113537,\n       130276,  28531, 109152, 134594,  48076,  35679,  73058, 109804,\n        45211, 105534,  81968, 134969,  40517,  74754,  71379,   3279,\n        96029,  81179,  84431,  17231,  93131,  63504, 125085,  96513,\n        10895,  15887, 134568,  12105,  19902, 129580,  31881,  62969,\n        83051,  92022,  44148,  45827, 113461, 133966,   1750,   6718,\n         9752,  21362,  24242,  99722, 110218, 104783,   1502,  33238,\n        98855,  33542,  33880,  61139,  94000, 119217,  51883,  88389,\n        11948,  13674,  79449,  46780,  12277,  57098, 101467,   6900,\n        48309, 119735,  11158,  48648,  40715,  92176,  16708,  79526,\n         2906,  70273, 112261,  22106,  17344,  68170,  16128, 118666,\n       137135,  19363,  36142, 138615, 102874,  93099,  60725,  78324,\n        92100, 106671, 134406,  31755, 113853, 127572,  19435,  77583,\n        50366,  77477, 110910,   3376, 113443, 124937, 140696,  52434,\n        94031, 100627, 124563,  93462,  31111, 129857,  29053, 120604,\n         5322, 137327,  12538, 130677,  11748,  36047,  48944,  79498,\n       139750,  52784,  79221,  87215, 107785,   6838,  22066,  49656,\n        90730, 126657,   3157, 137426,  20689, 114939,   3213,  14536,\n        25416,  98239, 110940,  50537, 117143, 134059,    969,   8275,\n        98331,  65983,  11414,  85576, 113235, 134987,   4039,  81264,\n       100822,   9677,  21182,    640,  12561,  76656,  41325, 103345,\n        23761, 103036,  56524])"
     },
     "metadata": {},
     "output_type": "execute_result",
     "execution_count": 35
    }
   ],
   "source": [
    "price['prop_id'].unique()"
   ]
  },
  {
   "cell_type": "code",
   "execution_count": 36,
   "metadata": {
    "pycharm": {
     "is_executing": false
    }
   },
   "outputs": [],
   "source": [
    "# ax = sns.swarmplot(x='srch_length_of_stay', y='price_usd', data=df)"
   ]
  },
  {
   "cell_type": "code",
   "execution_count": 37,
   "metadata": {
    "pycharm": {
     "is_executing": false
    }
   },
   "outputs": [
    {
     "data": {
      "text/plain": "srch_length_of_stay\n1     2675964.43\n2     1893058.00\n3     1556698.00\n4     3235118.00\n5      488482.00\n6        8322.00\n7      822602.80\n8      181028.00\n9       15641.90\n10       9171.03\n11     215455.00\n12       3035.41\n13      11337.68\n14      11672.00\n15       2400.00\n16       3221.08\n17        734.81\n18        802.97\n19       1180.47\n20        725.95\n21       1989.60\n22        995.52\n23        566.59\n24        435.00\n25        749.39\n26        450.00\n27        608.00\n28       1828.00\n29        200.00\n30        360.00\n31        257.00\n32        170.78\n33         72.00\n34        283.00\n38        168.09\n40        168.39\n44        129.00\n57        126.02\n58        104.84\n59         58.00\nName: price_usd, dtype: float64"
     },
     "metadata": {},
     "output_type": "execute_result",
     "execution_count": 37
    }
   ],
   "source": [
    "df.groupby(\"srch_length_of_stay\")['price_usd'].max()"
   ]
  },
  {
   "cell_type": "code",
   "execution_count": 38,
   "metadata": {
    "pycharm": {
     "is_executing": false
    }
   },
   "outputs": [
    {
     "data": {
      "text/plain": "srch_length_of_stay\n1       0.00\n2       0.00\n3       0.01\n4       0.05\n5       1.31\n6       0.05\n7       1.46\n8       4.87\n9       2.73\n10      2.93\n11     18.00\n12      2.51\n13     17.28\n14      9.55\n15     12.55\n16     11.97\n17      0.01\n18     18.00\n19     23.00\n20     13.00\n21     16.08\n22     18.87\n23      3.09\n24     16.00\n25     22.00\n26     48.79\n27     39.00\n28     19.71\n29     52.00\n30     29.00\n31     48.00\n32    170.78\n33     43.00\n34     51.00\n38     54.13\n40     84.95\n44     95.00\n57    126.02\n58     60.13\n59     58.00\nName: price_usd, dtype: float64"
     },
     "metadata": {},
     "output_type": "execute_result",
     "execution_count": 38
    }
   ],
   "source": [
    "df.groupby(\"srch_length_of_stay\")['price_usd'].min()"
   ]
  },
  {
   "cell_type": "markdown",
   "metadata": {},
   "source": [
    "### something fishy here"
   ]
  },
  {
   "cell_type": "code",
   "execution_count": 39,
   "metadata": {
    "pycharm": {
     "is_executing": false
    }
   },
   "outputs": [
    {
     "data": {
      "text/plain": "<matplotlib.axes._subplots.AxesSubplot at 0x7fc34d07b5f8>"
     },
     "metadata": {},
     "output_type": "execute_result",
     "execution_count": 39
    },
    {
     "data": {
      "text/plain": "<Figure size 432x288 with 1 Axes>",
      "image/png": "[encoded data removed]"
     },
     "metadata": {
      "needs_background": "light"
     },
     "output_type": "display_data"
    }
   ],
   "source": [
    "df['price_usd'].plot.hist()"
   ]
  },
  {
   "cell_type": "code",
   "execution_count": 40,
   "metadata": {
    "pycharm": {
     "is_executing": false
    }
   },
   "outputs": [
    {
     "data": {
      "text/plain": "array([ 1,  2,  4,  3,  6,  9,  5,  8,  7, 14, 12, 10, 15, 11, 17, 27, 28,\n       25, 13, 18, 16, 21, 22, 20, 24, 19, 30, 23, 26, 57, 44, 34, 29, 33,\n       40, 38, 31, 58, 59, 32])"
     },
     "metadata": {},
     "output_type": "execute_result",
     "execution_count": 40
    }
   ],
   "source": [
    "df.srch_length_of_stay.unique()"
   ]
  },
  {
   "cell_type": "code",
   "execution_count": 41,
   "metadata": {
    "pycharm": {
     "is_executing": false
    }
   },
   "outputs": [
    {
     "data": {
      "text/plain": "             srch_id        site_id  visitor_location_country_id  \\\ncount  991753.000000  991753.000000                991753.000000   \nmean   332874.976448       9.958732                   175.315861   \nstd    192248.159545       7.648275                    65.893881   \nmin         1.000000       1.000000                     1.000000   \n25%    166362.000000       5.000000                   100.000000   \n50%    333011.000000       5.000000                   219.000000   \n75%    499803.000000      14.000000                   219.000000   \nmax    665573.000000      34.000000                   231.000000   \n\n       prop_country_id        prop_id  prop_starrating  prop_review_score  \\\ncount    991753.000000  991753.000000    991753.000000      991753.000000   \nmean        173.901793   70133.912577         3.180185           3.777385   \nstd          68.358062   40638.628025         1.051863           1.050065   \nmin           1.000000       1.000000         0.000000           0.000000   \n25%         100.000000   35034.000000         3.000000           3.500000   \n50%         219.000000   69645.000000         3.000000           4.000000   \n75%         219.000000  105334.000000         4.000000           4.500000   \nmax         230.000000  140820.000000         5.000000           5.000000   \n\n       prop_brand_bool  prop_location_score1  prop_log_historical_price  ...  \\\ncount    991753.000000         991753.000000              991753.000000  ...   \nmean          0.634428              2.876867                   4.316622  ...   \nstd           0.481590              1.532214                   1.836935  ...   \nmin           0.000000              0.000000                   0.000000  ...   \n25%           0.000000              1.790000                   4.440000  ...   \n50%           1.000000              2.770000                   4.910000  ...   \n75%           1.000000              4.040000                   5.310000  ...   \nmax           1.000000              6.980000                   6.210000  ...   \n\n       srch_destination_id  srch_length_of_stay  srch_booking_window  \\\ncount        991753.000000        991753.000000        991753.000000   \nmean          14059.065737             2.388559            37.540259   \nstd            8113.922789             2.063918            51.909769   \nmin               2.000000             1.000000             0.000000   \n25%            7104.000000             1.000000             4.000000   \n50%           13580.000000             2.000000            17.000000   \n75%           21109.000000             3.000000            49.000000   \nmax           28416.000000            59.000000           498.000000   \n\n       srch_adults_count  srch_children_count  srch_room_count  \\\ncount      991753.000000        991753.000000    991753.000000   \nmean            1.973383             0.349983         1.111197   \nstd             0.857937             0.730922         0.425441   \nmin             1.000000             0.000000         1.000000   \n25%             2.000000             0.000000         1.000000   \n50%             2.000000             0.000000         1.000000   \n75%             2.000000             0.000000         1.000000   \nmax             9.000000             9.000000         8.000000   \n\n       srch_saturday_night_bool    random_bool     click_bool   booking_bool  \ncount             991753.000000  991753.000000  991753.000000  991753.000000  \nmean                   0.500314       0.296197       0.045106       0.028151  \nstd                    0.500000       0.456579       0.207537       0.165405  \nmin                    0.000000       0.000000       0.000000       0.000000  \n25%                    0.000000       0.000000       0.000000       0.000000  \n50%                    1.000000       0.000000       0.000000       0.000000  \n75%                    1.000000       1.000000       0.000000       0.000000  \nmax                    1.000000       1.000000       1.000000       1.000000  \n\n[8 rows x 23 columns]",
      "text/html": "<div>\n<style scoped>\n    .dataframe tbody tr th:only-of-type {\n        vertical-align: middle;\n    }\n\n    .dataframe tbody tr th {\n        vertical-align: top;\n    }\n\n    .dataframe thead th {\n        text-align: right;\n    }\n</style>\n<table border=\"1\" class=\"dataframe\">\n  <thead>\n    <tr style=\"text-align: right;\">\n      <th></th>\n      <th>srch_id</th>\n      <th>site_id</th>\n      <th>visitor_location_country_id</th>\n      <th>prop_country_id</th>\n      <th>prop_id</th>\n      <th>prop_starrating</th>\n      <th>prop_review_score</th>\n      <th>prop_brand_bool</th>\n      <th>prop_location_score1</th>\n      <th>prop_log_historical_price</th>\n      <th>...</th>\n      <th>srch_destination_id</th>\n      <th>srch_length_of_stay</th>\n      <th>srch_booking_window</th>\n      <th>srch_adults_count</th>\n      <th>srch_children_count</th>\n      <th>srch_room_count</th>\n      <th>srch_saturday_night_bool</th>\n      <th>random_bool</th>\n      <th>click_bool</th>\n      <th>booking_bool</th>\n    </tr>\n  </thead>\n  <tbody>\n    <tr>\n      <th>count</th>\n      <td>991753.000000</td>\n      <td>991753.000000</td>\n      <td>991753.000000</td>\n      <td>991753.000000</td>\n      <td>991753.000000</td>\n      <td>991753.000000</td>\n      <td>991753.000000</td>\n      <td>991753.000000</td>\n      <td>991753.000000</td>\n      <td>991753.000000</td>\n      <td>...</td>\n      <td>991753.000000</td>\n      <td>991753.000000</td>\n      <td>991753.000000</td>\n      <td>991753.000000</td>\n      <td>991753.000000</td>\n      <td>991753.000000</td>\n      <td>991753.000000</td>\n      <td>991753.000000</td>\n      <td>991753.000000</td>\n      <td>991753.000000</td>\n    </tr>\n    <tr>\n      <th>mean</th>\n      <td>332874.976448</td>\n      <td>9.958732</td>\n      <td>175.315861</td>\n      <td>173.901793</td>\n      <td>70133.912577</td>\n      <td>3.180185</td>\n      <td>3.777385</td>\n      <td>0.634428</td>\n      <td>2.876867</td>\n      <td>4.316622</td>\n      <td>...</td>\n      <td>14059.065737</td>\n      <td>2.388559</td>\n      <td>37.540259</td>\n      <td>1.973383</td>\n      <td>0.349983</td>\n      <td>1.111197</td>\n      <td>0.500314</td>\n      <td>0.296197</td>\n      <td>0.045106</td>\n      <td>0.028151</td>\n    </tr>\n    <tr>\n      <th>std</th>\n      <td>192248.159545</td>\n      <td>7.648275</td>\n      <td>65.893881</td>\n      <td>68.358062</td>\n      <td>40638.628025</td>\n      <td>1.051863</td>\n      <td>1.050065</td>\n      <td>0.481590</td>\n      <td>1.532214</td>\n      <td>1.836935</td>\n      <td>...</td>\n      <td>8113.922789</td>\n      <td>2.063918</td>\n      <td>51.909769</td>\n      <td>0.857937</td>\n      <td>0.730922</td>\n      <td>0.425441</td>\n      <td>0.500000</td>\n      <td>0.456579</td>\n      <td>0.207537</td>\n      <td>0.165405</td>\n    </tr>\n    <tr>\n      <th>min</th>\n      <td>1.000000</td>\n      <td>1.000000</td>\n      <td>1.000000</td>\n      <td>1.000000</td>\n      <td>1.000000</td>\n      <td>0.000000</td>\n      <td>0.000000</td>\n      <td>0.000000</td>\n      <td>0.000000</td>\n      <td>0.000000</td>\n      <td>...</td>\n      <td>2.000000</td>\n      <td>1.000000</td>\n      <td>0.000000</td>\n      <td>1.000000</td>\n      <td>0.000000</td>\n      <td>1.000000</td>\n      <td>0.000000</td>\n      <td>0.000000</td>\n      <td>0.000000</td>\n      <td>0.000000</td>\n    </tr>\n    <tr>\n      <th>25%</th>\n      <td>166362.000000</td>\n      <td>5.000000</td>\n      <td>100.000000</td>\n      <td>100.000000</td>\n      <td>35034.000000</td>\n      <td>3.000000</td>\n      <td>3.500000</td>\n      <td>0.000000</td>\n      <td>1.790000</td>\n      <td>4.440000</td>\n      <td>...</td>\n      <td>7104.000000</td>\n      <td>1.000000</td>\n      <td>4.000000</td>\n      <td>2.000000</td>\n      <td>0.000000</td>\n      <td>1.000000</td>\n      <td>0.000000</td>\n      <td>0.000000</td>\n      <td>0.000000</td>\n      <td>0.000000</td>\n    </tr>\n    <tr>\n      <th>50%</th>\n      <td>333011.000000</td>\n      <td>5.000000</td>\n      <td>219.000000</td>\n      <td>219.000000</td>\n      <td>69645.000000</td>\n      <td>3.000000</td>\n      <td>4.000000</td>\n      <td>1.000000</td>\n      <td>2.770000</td>\n      <td>4.910000</td>\n      <td>...</td>\n      <td>13580.000000</td>\n      <td>2.000000</td>\n      <td>17.000000</td>\n      <td>2.000000</td>\n      <td>0.000000</td>\n      <td>1.000000</td>\n      <td>1.000000</td>\n      <td>0.000000</td>\n      <td>0.000000</td>\n      <td>0.000000</td>\n    </tr>\n    <tr>\n      <th>75%</th>\n      <td>499803.000000</td>\n      <td>14.000000</td>\n      <td>219.000000</td>\n      <td>219.000000</td>\n      <td>105334.000000</td>\n      <td>4.000000</td>\n      <td>4.500000</td>\n      <td>1.000000</td>\n      <td>4.040000</td>\n      <td>5.310000</td>\n      <td>...</td>\n      <td>21109.000000</td>\n      <td>3.000000</td>\n      <td>49.000000</td>\n      <td>2.000000</td>\n      <td>0.000000</td>\n      <td>1.000000</td>\n      <td>1.000000</td>\n      <td>1.000000</td>\n      <td>0.000000</td>\n      <td>0.000000</td>\n    </tr>\n    <tr>\n      <th>max</th>\n      <td>665573.000000</td>\n      <td>34.000000</td>\n      <td>231.000000</td>\n      <td>230.000000</td>\n      <td>140820.000000</td>\n      <td>5.000000</td>\n      <td>5.000000</td>\n      <td>1.000000</td>\n      <td>6.980000</td>\n      <td>6.210000</td>\n      <td>...</td>\n      <td>28416.000000</td>\n      <td>59.000000</td>\n      <td>498.000000</td>\n      <td>9.000000</td>\n      <td>9.000000</td>\n      <td>8.000000</td>\n      <td>1.000000</td>\n      <td>1.000000</td>\n      <td>1.000000</td>\n      <td>1.000000</td>\n    </tr>\n  </tbody>\n</table>\n<p>8 rows × 23 columns</p>\n</div>"
     },
     "metadata": {},
     "output_type": "execute_result",
     "execution_count": 41
    }
   ],
   "source": [
    "df.describe()"
   ]
  },
  {
   "cell_type": "code",
   "execution_count": 42,
   "metadata": {
    "pycharm": {
     "is_executing": false
    }
   },
   "outputs": [
    {
     "data": {
      "text/plain": "Index(['srch_id', 'date_time', 'site_id', 'visitor_location_country_id',\n       'prop_country_id', 'prop_id', 'prop_starrating', 'prop_review_score',\n       'prop_brand_bool', 'prop_location_score1', 'prop_log_historical_price',\n       'position', 'price_usd', 'promotion_flag', 'srch_destination_id',\n       'srch_length_of_stay', 'srch_booking_window', 'srch_adults_count',\n       'srch_children_count', 'srch_room_count', 'srch_saturday_night_bool',\n       'random_bool', 'click_bool', 'booking_bool'],\n      dtype='object')"
     },
     "metadata": {},
     "output_type": "execute_result",
     "execution_count": 42
    }
   ],
   "source": [
    "df.columns"
   ]
  },
  {
   "cell_type": "code",
   "execution_count": 42,
   "metadata": {
    "pycharm": {
     "is_executing": false
    }
   },
   "outputs": [],
   "source": []
  }
 ],
 "metadata": {
  "kernelspec": {
   "display_name": "Python 3",
   "language": "python",
   "name": "python3"
  },
  "language_info": {
   "codemirror_mode": {
    "name": "ipython",
    "version": 3
   },
   "file_extension": ".py",
   "mimetype": "text/x-python",
   "name": "python",
   "nbconvert_exporter": "python",
   "pygments_lexer": "ipython3",
   "version": "3.6.8"
  }
 },
 "nbformat": 4,
 "nbformat_minor": 2
}