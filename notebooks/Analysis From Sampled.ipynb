{
 "cells": [
  {
   "cell_type": "code",
   "execution_count": 1,
   "metadata": {
    "pycharm": {
     "is_executing": false
    }
   },
   "outputs": [],
   "source": [
    "import pandas as pd\n",
    "import numpy as np\n",
    "import matplotlib.pyplot as plt\n",
    "import seaborn as sns"
   ]
  },
  {
   "cell_type": "code",
   "execution_count": 2,
   "metadata": {
    "pycharm": {
     "is_executing": false
    }
   },
   "outputs": [],
   "source": [
    "filename = '../datasets/data/train_sample.csv'\n",
    "df = pd.read_csv(filename)"
   ]
  },
  {
   "cell_type": "code",
   "execution_count": 3,
   "metadata": {
    "pycharm": {
     "is_executing": false
    }
   },
   "outputs": [
    {
     "data": {
      "text/plain": "Index(['Unnamed: 0', 'srch_id', 'date_time', 'site_id',\n       'visitor_location_country_id', 'visitor_hist_starrating',\n       'visitor_hist_adr_usd', 'prop_country_id', 'prop_id', 'prop_starrating',\n       'prop_review_score', 'prop_brand_bool', 'prop_location_score1',\n       'prop_location_score2', 'prop_log_historical_price', 'position',\n       'price_usd', 'promotion_flag', 'srch_destination_id',\n       'srch_length_of_stay', 'srch_booking_window', 'srch_adults_count',\n       'srch_children_count', 'srch_room_count', 'srch_saturday_night_bool',\n       'srch_query_affinity_score', 'orig_destination_distance', 'random_bool',\n       'comp1_rate', 'comp1_inv', 'comp1_rate_percent_diff', 'comp2_rate',\n       'comp2_inv', 'comp2_rate_percent_diff', 'comp3_rate', 'comp3_inv',\n       'comp3_rate_percent_diff', 'comp4_rate', 'comp4_inv',\n       'comp4_rate_percent_diff', 'comp5_rate', 'comp5_inv',\n       'comp5_rate_percent_diff', 'comp6_rate', 'comp6_inv',\n       'comp6_rate_percent_diff', 'comp7_rate', 'comp7_inv',\n       'comp7_rate_percent_diff', 'comp8_rate', 'comp8_inv',\n       'comp8_rate_percent_diff', 'click_bool', 'gross_bookings_usd',\n       'booking_bool'],\n      dtype='object')"
     },
     "metadata": {},
     "output_type": "execute_result",
     "execution_count": 3
    }
   ],
   "source": [
    "df.columns"
   ]
  },
  {
   "cell_type": "code",
   "execution_count": 4,
   "metadata": {
    "pycharm": {
     "is_executing": false
    }
   },
   "outputs": [
    {
     "data": {
      "text/plain": "Unnamed: 0                          0\nsrch_id                             0\ndate_time                           0\nsite_id                             0\nvisitor_location_country_id         0\nprop_country_id                     0\nprop_id                             0\nprop_starrating                     0\nprop_review_score                1437\nprop_brand_bool                     0\nprop_location_score1                0\nprop_location_score2           218370\nprop_log_historical_price           0\nposition                            0\nprice_usd                           0\npromotion_flag                      0\nsrch_destination_id                 0\nsrch_length_of_stay                 0\nsrch_booking_window                 0\nsrch_adults_count                   0\nsrch_children_count                 0\nsrch_room_count                     0\nsrch_saturday_night_bool            0\norig_destination_distance      321301\nrandom_bool                         0\nclick_bool                          0\nbooking_bool                        0\ndtype: int64"
     },
     "metadata": {},
     "output_type": "execute_result",
     "execution_count": 4
    }
   ],
   "source": [
    "null_counts = df.isnull().sum()\n",
    "refined_cols = null_counts[null_counts <500000]\n",
    "refined_cols"
   ]
  },
  {
   "cell_type": "code",
   "execution_count": 5,
   "metadata": {
    "pycharm": {
     "is_executing": false
    }
   },
   "outputs": [],
   "source": [
    "cols = []\n",
    "for items in refined_cols.iteritems():\n",
    "    cols.append(items[0])"
   ]
  },
  {
   "cell_type": "code",
   "execution_count": 6,
   "metadata": {
    "pycharm": {
     "is_executing": false
    }
   },
   "outputs": [],
   "source": [
    "df = df.filter(cols, axis=1)\n",
    "df = df.drop('Unnamed: 0', axis=1)"
   ]
  },
  {
   "cell_type": "code",
   "execution_count": 7,
   "metadata": {
    "pycharm": {
     "is_executing": false
    }
   },
   "outputs": [
    {
     "data": {
      "text/plain": "   srch_id            date_time  site_id  visitor_location_country_id  \\\n0        1  2013-04-04 08:32:15       12                          187   \n1        1  2013-04-04 08:32:15       12                          187   \n2        1  2013-04-04 08:32:15       12                          187   \n3        1  2013-04-04 08:32:15       12                          187   \n4        1  2013-04-04 08:32:15       12                          187   \n\n   prop_country_id  prop_id  prop_starrating  prop_review_score  \\\n0              219    10404                4                4.0   \n1              219    27348                2                4.0   \n2              219    56880                4                4.0   \n3              219    68914                2                3.0   \n4              219    88127                3                3.0   \n\n   prop_brand_bool  prop_location_score1  ...  srch_length_of_stay  \\\n0                1                  2.20  ...                    1   \n1                1                  2.83  ...                    1   \n2                1                  2.83  ...                    1   \n3                1                  2.20  ...                    1   \n4                1                  1.39  ...                    1   \n\n   srch_booking_window  srch_adults_count  srch_children_count  \\\n0                    0                  4                    0   \n1                    0                  4                    0   \n2                    0                  4                    0   \n3                    0                  4                    0   \n4                    0                  4                    0   \n\n   srch_room_count  srch_saturday_night_bool  orig_destination_distance  \\\n0                1                         1                        NaN   \n1                1                         1                        NaN   \n2                1                         1                        NaN   \n3                1                         1                        NaN   \n4                1                         1                        NaN   \n\n   random_bool  click_bool  booking_bool  \n0            1           0             0  \n1            1           0             0  \n2            1           0             0  \n3            1           1             1  \n4            1           0             0  \n\n[5 rows x 26 columns]",
      "text/html": "<div>\n<style scoped>\n    .dataframe tbody tr th:only-of-type {\n        vertical-align: middle;\n    }\n\n    .dataframe tbody tr th {\n        vertical-align: top;\n    }\n\n    .dataframe thead th {\n        text-align: right;\n    }\n</style>\n<table border=\"1\" class=\"dataframe\">\n  <thead>\n    <tr style=\"text-align: right;\">\n      <th></th>\n      <th>srch_id</th>\n      <th>date_time</th>\n      <th>site_id</th>\n      <th>visitor_location_country_id</th>\n      <th>prop_country_id</th>\n      <th>prop_id</th>\n      <th>prop_starrating</th>\n      <th>prop_review_score</th>\n      <th>prop_brand_bool</th>\n      <th>prop_location_score1</th>\n      <th>...</th>\n      <th>srch_length_of_stay</th>\n      <th>srch_booking_window</th>\n      <th>srch_adults_count</th>\n      <th>srch_children_count</th>\n      <th>srch_room_count</th>\n      <th>srch_saturday_night_bool</th>\n      <th>orig_destination_distance</th>\n      <th>random_bool</th>\n      <th>click_bool</th>\n      <th>booking_bool</th>\n    </tr>\n  </thead>\n  <tbody>\n    <tr>\n      <th>0</th>\n      <td>1</td>\n      <td>2013-04-04 08:32:15</td>\n      <td>12</td>\n      <td>187</td>\n      <td>219</td>\n      <td>10404</td>\n      <td>4</td>\n      <td>4.0</td>\n      <td>1</td>\n      <td>2.20</td>\n      <td>...</td>\n      <td>1</td>\n      <td>0</td>\n      <td>4</td>\n      <td>0</td>\n      <td>1</td>\n      <td>1</td>\n      <td>NaN</td>\n      <td>1</td>\n      <td>0</td>\n      <td>0</td>\n    </tr>\n    <tr>\n      <th>1</th>\n      <td>1</td>\n      <td>2013-04-04 08:32:15</td>\n      <td>12</td>\n      <td>187</td>\n      <td>219</td>\n      <td>27348</td>\n      <td>2</td>\n      <td>4.0</td>\n      <td>1</td>\n      <td>2.83</td>\n      <td>...</td>\n      <td>1</td>\n      <td>0</td>\n      <td>4</td>\n      <td>0</td>\n      <td>1</td>\n      <td>1</td>\n      <td>NaN</td>\n      <td>1</td>\n      <td>0</td>\n      <td>0</td>\n    </tr>\n    <tr>\n      <th>2</th>\n      <td>1</td>\n      <td>2013-04-04 08:32:15</td>\n      <td>12</td>\n      <td>187</td>\n      <td>219</td>\n      <td>56880</td>\n      <td>4</td>\n      <td>4.0</td>\n      <td>1</td>\n      <td>2.83</td>\n      <td>...</td>\n      <td>1</td>\n      <td>0</td>\n      <td>4</td>\n      <td>0</td>\n      <td>1</td>\n      <td>1</td>\n      <td>NaN</td>\n      <td>1</td>\n      <td>0</td>\n      <td>0</td>\n    </tr>\n    <tr>\n      <th>3</th>\n      <td>1</td>\n      <td>2013-04-04 08:32:15</td>\n      <td>12</td>\n      <td>187</td>\n      <td>219</td>\n      <td>68914</td>\n      <td>2</td>\n      <td>3.0</td>\n      <td>1</td>\n      <td>2.20</td>\n      <td>...</td>\n      <td>1</td>\n      <td>0</td>\n      <td>4</td>\n      <td>0</td>\n      <td>1</td>\n      <td>1</td>\n      <td>NaN</td>\n      <td>1</td>\n      <td>1</td>\n      <td>1</td>\n    </tr>\n    <tr>\n      <th>4</th>\n      <td>1</td>\n      <td>2013-04-04 08:32:15</td>\n      <td>12</td>\n      <td>187</td>\n      <td>219</td>\n      <td>88127</td>\n      <td>3</td>\n      <td>3.0</td>\n      <td>1</td>\n      <td>1.39</td>\n      <td>...</td>\n      <td>1</td>\n      <td>0</td>\n      <td>4</td>\n      <td>0</td>\n      <td>1</td>\n      <td>1</td>\n      <td>NaN</td>\n      <td>1</td>\n      <td>0</td>\n      <td>0</td>\n    </tr>\n  </tbody>\n</table>\n<p>5 rows × 26 columns</p>\n</div>"
     },
     "metadata": {},
     "output_type": "execute_result",
     "execution_count": 7
    }
   ],
   "source": [
    "df.head()"
   ]
  },
  {
   "cell_type": "code",
   "execution_count": 8,
   "metadata": {
    "pycharm": {
     "is_executing": false
    }
   },
   "outputs": [
    {
     "data": {
      "text/plain": "srch_id                          int64\ndate_time                       object\nsite_id                          int64\nvisitor_location_country_id      int64\nprop_country_id                  int64\nprop_id                          int64\nprop_starrating                  int64\nprop_review_score              float64\nprop_brand_bool                  int64\nprop_location_score1           float64\nprop_location_score2           float64\nprop_log_historical_price      float64\nposition                         int64\nprice_usd                      float64\npromotion_flag                   int64\nsrch_destination_id              int64\nsrch_length_of_stay              int64\nsrch_booking_window              int64\nsrch_adults_count                int64\nsrch_children_count              int64\nsrch_room_count                  int64\nsrch_saturday_night_bool         int64\norig_destination_distance      float64\nrandom_bool                      int64\nclick_bool                       int64\nbooking_bool                     int64\ndtype: object"
     },
     "metadata": {},
     "output_type": "execute_result",
     "execution_count": 8
    }
   ],
   "source": [
    "df.dtypes"
   ]
  },
  {
   "cell_type": "code",
   "execution_count": 9,
   "metadata": {
    "pycharm": {
     "is_executing": false
    }
   },
   "outputs": [
    {
     "data": {
      "text/plain": "srch_id                                     665574\ndate_time                      2013-06-30 23:58:24\nsite_id                                         34\nvisitor_location_country_id                    231\nprop_country_id                                230\nprop_id                                     140821\nprop_starrating                                  5\nprop_review_score                                5\nprop_brand_bool                                  1\nprop_location_score1                          6.98\nprop_location_score2                             1\nprop_log_historical_price                     6.21\nposition                                        40\nprice_usd                              7.04312e+06\npromotion_flag                                   1\nsrch_destination_id                          28416\nsrch_length_of_stay                             58\nsrch_booking_window                            498\nsrch_adults_count                                9\nsrch_children_count                              9\nsrch_room_count                                  8\nsrch_saturday_night_bool                         1\norig_destination_distance                    11693\nrandom_bool                                      1\nclick_bool                                       1\nbooking_bool                                     1\ndtype: object"
     },
     "metadata": {},
     "output_type": "execute_result",
     "execution_count": 9
    }
   ],
   "source": [
    "df.max()"
   ]
  },
  {
   "cell_type": "markdown",
   "metadata": {},
   "source": [
    "### maybe change dtypes to float16 or int16 except some"
   ]
  },
  {
   "cell_type": "code",
   "execution_count": 10,
   "metadata": {
    "pycharm": {
     "is_executing": false
    }
   },
   "outputs": [
    {
     "data": {
      "text/plain": "srch_id                             0\ndate_time                           0\nsite_id                             0\nvisitor_location_country_id         0\nprop_country_id                     0\nprop_id                             0\nprop_starrating                     0\nprop_review_score                1437\nprop_brand_bool                     0\nprop_location_score1                0\nprop_location_score2           218370\nprop_log_historical_price           0\nposition                            0\nprice_usd                           0\npromotion_flag                      0\nsrch_destination_id                 0\nsrch_length_of_stay                 0\nsrch_booking_window                 0\nsrch_adults_count                   0\nsrch_children_count                 0\nsrch_room_count                     0\nsrch_saturday_night_bool            0\norig_destination_distance      321301\nrandom_bool                         0\nclick_bool                          0\nbooking_bool                        0\ndtype: int64"
     },
     "metadata": {},
     "output_type": "execute_result",
     "execution_count": 10
    }
   ],
   "source": [
    "df.isnull().sum()"
   ]
  },
  {
   "cell_type": "markdown",
   "metadata": {},
   "source": [
    "### maybe do seperate analysis for `prop_location_score2` and `orig_destination_distance` but drop for now"
   ]
  },
  {
   "cell_type": "code",
   "execution_count": 11,
   "metadata": {
    "pycharm": {
     "is_executing": false
    }
   },
   "outputs": [],
   "source": [
    "df = df.drop(['prop_location_score2','orig_destination_distance']  , axis=1)"
   ]
  },
  {
   "cell_type": "code",
   "execution_count": 12,
   "metadata": {
    "pycharm": {
     "is_executing": false
    }
   },
   "outputs": [
    {
     "data": {
      "text/plain": "   srch_id            date_time  site_id  visitor_location_country_id  \\\n0        1  2013-04-04 08:32:15       12                          187   \n1        1  2013-04-04 08:32:15       12                          187   \n2        1  2013-04-04 08:32:15       12                          187   \n3        1  2013-04-04 08:32:15       12                          187   \n4        1  2013-04-04 08:32:15       12                          187   \n\n   prop_country_id  prop_id  prop_starrating  prop_review_score  \\\n0              219    10404                4                4.0   \n1              219    27348                2                4.0   \n2              219    56880                4                4.0   \n3              219    68914                2                3.0   \n4              219    88127                3                3.0   \n\n   prop_brand_bool  prop_location_score1  ...  srch_destination_id  \\\n0                1                  2.20  ...                23246   \n1                1                  2.83  ...                23246   \n2                1                  2.83  ...                23246   \n3                1                  2.20  ...                23246   \n4                1                  1.39  ...                23246   \n\n   srch_length_of_stay  srch_booking_window  srch_adults_count  \\\n0                    1                    0                  4   \n1                    1                    0                  4   \n2                    1                    0                  4   \n3                    1                    0                  4   \n4                    1                    0                  4   \n\n   srch_children_count  srch_room_count  srch_saturday_night_bool  \\\n0                    0                1                         1   \n1                    0                1                         1   \n2                    0                1                         1   \n3                    0                1                         1   \n4                    0                1                         1   \n\n   random_bool  click_bool  booking_bool  \n0            1           0             0  \n1            1           0             0  \n2            1           0             0  \n3            1           1             1  \n4            1           0             0  \n\n[5 rows x 24 columns]",
      "text/html": "<div>\n<style scoped>\n    .dataframe tbody tr th:only-of-type {\n        vertical-align: middle;\n    }\n\n    .dataframe tbody tr th {\n        vertical-align: top;\n    }\n\n    .dataframe thead th {\n        text-align: right;\n    }\n</style>\n<table border=\"1\" class=\"dataframe\">\n  <thead>\n    <tr style=\"text-align: right;\">\n      <th></th>\n      <th>srch_id</th>\n      <th>date_time</th>\n      <th>site_id</th>\n      <th>visitor_location_country_id</th>\n      <th>prop_country_id</th>\n      <th>prop_id</th>\n      <th>prop_starrating</th>\n      <th>prop_review_score</th>\n      <th>prop_brand_bool</th>\n      <th>prop_location_score1</th>\n      <th>...</th>\n      <th>srch_destination_id</th>\n      <th>srch_length_of_stay</th>\n      <th>srch_booking_window</th>\n      <th>srch_adults_count</th>\n      <th>srch_children_count</th>\n      <th>srch_room_count</th>\n      <th>srch_saturday_night_bool</th>\n      <th>random_bool</th>\n      <th>click_bool</th>\n      <th>booking_bool</th>\n    </tr>\n  </thead>\n  <tbody>\n    <tr>\n      <th>0</th>\n      <td>1</td>\n      <td>2013-04-04 08:32:15</td>\n      <td>12</td>\n      <td>187</td>\n      <td>219</td>\n      <td>10404</td>\n      <td>4</td>\n      <td>4.0</td>\n      <td>1</td>\n      <td>2.20</td>\n      <td>...</td>\n      <td>23246</td>\n      <td>1</td>\n      <td>0</td>\n      <td>4</td>\n      <td>0</td>\n      <td>1</td>\n      <td>1</td>\n      <td>1</td>\n      <td>0</td>\n      <td>0</td>\n    </tr>\n    <tr>\n      <th>1</th>\n      <td>1</td>\n      <td>2013-04-04 08:32:15</td>\n      <td>12</td>\n      <td>187</td>\n      <td>219</td>\n      <td>27348</td>\n      <td>2</td>\n      <td>4.0</td>\n      <td>1</td>\n      <td>2.83</td>\n      <td>...</td>\n      <td>23246</td>\n      <td>1</td>\n      <td>0</td>\n      <td>4</td>\n      <td>0</td>\n      <td>1</td>\n      <td>1</td>\n      <td>1</td>\n      <td>0</td>\n      <td>0</td>\n    </tr>\n    <tr>\n      <th>2</th>\n      <td>1</td>\n      <td>2013-04-04 08:32:15</td>\n      <td>12</td>\n      <td>187</td>\n      <td>219</td>\n      <td>56880</td>\n      <td>4</td>\n      <td>4.0</td>\n      <td>1</td>\n      <td>2.83</td>\n      <td>...</td>\n      <td>23246</td>\n      <td>1</td>\n      <td>0</td>\n      <td>4</td>\n      <td>0</td>\n      <td>1</td>\n      <td>1</td>\n      <td>1</td>\n      <td>0</td>\n      <td>0</td>\n    </tr>\n    <tr>\n      <th>3</th>\n      <td>1</td>\n      <td>2013-04-04 08:32:15</td>\n      <td>12</td>\n      <td>187</td>\n      <td>219</td>\n      <td>68914</td>\n      <td>2</td>\n      <td>3.0</td>\n      <td>1</td>\n      <td>2.20</td>\n      <td>...</td>\n      <td>23246</td>\n      <td>1</td>\n      <td>0</td>\n      <td>4</td>\n      <td>0</td>\n      <td>1</td>\n      <td>1</td>\n      <td>1</td>\n      <td>1</td>\n      <td>1</td>\n    </tr>\n    <tr>\n      <th>4</th>\n      <td>1</td>\n      <td>2013-04-04 08:32:15</td>\n      <td>12</td>\n      <td>187</td>\n      <td>219</td>\n      <td>88127</td>\n      <td>3</td>\n      <td>3.0</td>\n      <td>1</td>\n      <td>1.39</td>\n      <td>...</td>\n      <td>23246</td>\n      <td>1</td>\n      <td>0</td>\n      <td>4</td>\n      <td>0</td>\n      <td>1</td>\n      <td>1</td>\n      <td>1</td>\n      <td>0</td>\n      <td>0</td>\n    </tr>\n  </tbody>\n</table>\n<p>5 rows × 24 columns</p>\n</div>"
     },
     "metadata": {},
     "output_type": "execute_result",
     "execution_count": 12
    }
   ],
   "source": [
    "df.head()"
   ]
  },
  {
   "cell_type": "code",
   "execution_count": 13,
   "metadata": {
    "pycharm": {
     "is_executing": false
    }
   },
   "outputs": [
    {
     "data": {
      "text/plain": "<matplotlib.axes._subplots.AxesSubplot at 0x7f35184ba790>"
     },
     "metadata": {},
     "output_type": "execute_result",
     "execution_count": 13
    },
    {
     "data": {
      "text/plain": "<Figure size 432x288 with 1 Axes>",
      "image/png": "[encoded data removed]"
     },
     "metadata": {
      "needs_background": "light"
     },
     "output_type": "display_data"
    }
   ],
   "source": [
    "df['prop_review_score'].plot.hist()"
   ]
  },
  {
   "cell_type": "markdown",
   "metadata": {},
   "source": [
    "### fill prop_review_score with median "
   ]
  },
  {
   "cell_type": "code",
   "execution_count": 14,
   "metadata": {
    "pycharm": {
     "is_executing": false
    }
   },
   "outputs": [
    {
     "data": {
      "text/plain": "dtype('float64')"
     },
     "metadata": {},
     "output_type": "execute_result",
     "execution_count": 14
    }
   ],
   "source": [
    "df['prop_review_score'].dtype"
   ]
  },
  {
   "cell_type": "code",
   "execution_count": 15,
   "metadata": {
    "pycharm": {
     "is_executing": false
    }
   },
   "outputs": [
    {
     "data": {
      "text/plain": "0         4.0\n1         4.0\n2         4.0\n3         3.0\n4         3.0\n         ... \n991748    4.5\n991749    4.5\n991750    4.5\n991751    4.0\n991752    0.0\nName: prop_review_score, Length: 991753, dtype: float64"
     },
     "metadata": {},
     "output_type": "execute_result",
     "execution_count": 15
    }
   ],
   "source": [
    "pd.to_numeric(df['prop_review_score'], errors='coerce')"
   ]
  },
  {
   "cell_type": "code",
   "execution_count": 16,
   "metadata": {
    "pycharm": {
     "is_executing": false
    }
   },
   "outputs": [],
   "source": [
    "# def custom_func(num_str):\n",
    "#     if pd.isnull(num_str):\n",
    "#         return num_str\n",
    "# abc = df['prop_review_score'].map(custom_func)"
   ]
  },
  {
   "cell_type": "code",
   "execution_count": 17,
   "metadata": {
    "pycharm": {
     "is_executing": false
    }
   },
   "outputs": [],
   "source": [
    "df['prop_review_score'].fillna((df['prop_review_score'].mean()), inplace=True)"
   ]
  },
  {
   "cell_type": "code",
   "execution_count": 18,
   "metadata": {
    "pycharm": {
     "is_executing": false
    }
   },
   "outputs": [
    {
     "data": {
      "text/plain": "   srch_id            date_time  site_id  visitor_location_country_id  \\\n0        1  2013-04-04 08:32:15       12                          187   \n1        1  2013-04-04 08:32:15       12                          187   \n2        1  2013-04-04 08:32:15       12                          187   \n3        1  2013-04-04 08:32:15       12                          187   \n4        1  2013-04-04 08:32:15       12                          187   \n\n   prop_country_id  prop_id  prop_starrating  prop_review_score  \\\n0              219    10404                4                4.0   \n1              219    27348                2                4.0   \n2              219    56880                4                4.0   \n3              219    68914                2                3.0   \n4              219    88127                3                3.0   \n\n   prop_brand_bool  prop_location_score1  ...  srch_destination_id  \\\n0                1                  2.20  ...                23246   \n1                1                  2.83  ...                23246   \n2                1                  2.83  ...                23246   \n3                1                  2.20  ...                23246   \n4                1                  1.39  ...                23246   \n\n   srch_length_of_stay  srch_booking_window  srch_adults_count  \\\n0                    1                    0                  4   \n1                    1                    0                  4   \n2                    1                    0                  4   \n3                    1                    0                  4   \n4                    1                    0                  4   \n\n   srch_children_count  srch_room_count  srch_saturday_night_bool  \\\n0                    0                1                         1   \n1                    0                1                         1   \n2                    0                1                         1   \n3                    0                1                         1   \n4                    0                1                         1   \n\n   random_bool  click_bool  booking_bool  \n0            1           0             0  \n1            1           0             0  \n2            1           0             0  \n3            1           1             1  \n4            1           0             0  \n\n[5 rows x 24 columns]",
      "text/html": "<div>\n<style scoped>\n    .dataframe tbody tr th:only-of-type {\n        vertical-align: middle;\n    }\n\n    .dataframe tbody tr th {\n        vertical-align: top;\n    }\n\n    .dataframe thead th {\n        text-align: right;\n    }\n</style>\n<table border=\"1\" class=\"dataframe\">\n  <thead>\n    <tr style=\"text-align: right;\">\n      <th></th>\n      <th>srch_id</th>\n      <th>date_time</th>\n      <th>site_id</th>\n      <th>visitor_location_country_id</th>\n      <th>prop_country_id</th>\n      <th>prop_id</th>\n      <th>prop_starrating</th>\n      <th>prop_review_score</th>\n      <th>prop_brand_bool</th>\n      <th>prop_location_score1</th>\n      <th>...</th>\n      <th>srch_destination_id</th>\n      <th>srch_length_of_stay</th>\n      <th>srch_booking_window</th>\n      <th>srch_adults_count</th>\n      <th>srch_children_count</th>\n      <th>srch_room_count</th>\n      <th>srch_saturday_night_bool</th>\n      <th>random_bool</th>\n      <th>click_bool</th>\n      <th>booking_bool</th>\n    </tr>\n  </thead>\n  <tbody>\n    <tr>\n      <th>0</th>\n      <td>1</td>\n      <td>2013-04-04 08:32:15</td>\n      <td>12</td>\n      <td>187</td>\n      <td>219</td>\n      <td>10404</td>\n      <td>4</td>\n      <td>4.0</td>\n      <td>1</td>\n      <td>2.20</td>\n      <td>...</td>\n      <td>23246</td>\n      <td>1</td>\n      <td>0</td>\n      <td>4</td>\n      <td>0</td>\n      <td>1</td>\n      <td>1</td>\n      <td>1</td>\n      <td>0</td>\n      <td>0</td>\n    </tr>\n    <tr>\n      <th>1</th>\n      <td>1</td>\n      <td>2013-04-04 08:32:15</td>\n      <td>12</td>\n      <td>187</td>\n      <td>219</td>\n      <td>27348</td>\n      <td>2</td>\n      <td>4.0</td>\n      <td>1</td>\n      <td>2.83</td>\n      <td>...</td>\n      <td>23246</td>\n      <td>1</td>\n      <td>0</td>\n      <td>4</td>\n      <td>0</td>\n      <td>1</td>\n      <td>1</td>\n      <td>1</td>\n      <td>0</td>\n      <td>0</td>\n    </tr>\n    <tr>\n      <th>2</th>\n      <td>1</td>\n      <td>2013-04-04 08:32:15</td>\n      <td>12</td>\n      <td>187</td>\n      <td>219</td>\n      <td>56880</td>\n      <td>4</td>\n      <td>4.0</td>\n      <td>1</td>\n      <td>2.83</td>\n      <td>...</td>\n      <td>23246</td>\n      <td>1</td>\n      <td>0</td>\n      <td>4</td>\n      <td>0</td>\n      <td>1</td>\n      <td>1</td>\n      <td>1</td>\n      <td>0</td>\n      <td>0</td>\n    </tr>\n    <tr>\n      <th>3</th>\n      <td>1</td>\n      <td>2013-04-04 08:32:15</td>\n      <td>12</td>\n      <td>187</td>\n      <td>219</td>\n      <td>68914</td>\n      <td>2</td>\n      <td>3.0</td>\n      <td>1</td>\n      <td>2.20</td>\n      <td>...</td>\n      <td>23246</td>\n      <td>1</td>\n      <td>0</td>\n      <td>4</td>\n      <td>0</td>\n      <td>1</td>\n      <td>1</td>\n      <td>1</td>\n      <td>1</td>\n      <td>1</td>\n    </tr>\n    <tr>\n      <th>4</th>\n      <td>1</td>\n      <td>2013-04-04 08:32:15</td>\n      <td>12</td>\n      <td>187</td>\n      <td>219</td>\n      <td>88127</td>\n      <td>3</td>\n      <td>3.0</td>\n      <td>1</td>\n      <td>1.39</td>\n      <td>...</td>\n      <td>23246</td>\n      <td>1</td>\n      <td>0</td>\n      <td>4</td>\n      <td>0</td>\n      <td>1</td>\n      <td>1</td>\n      <td>1</td>\n      <td>0</td>\n      <td>0</td>\n    </tr>\n  </tbody>\n</table>\n<p>5 rows × 24 columns</p>\n</div>"
     },
     "metadata": {},
     "output_type": "execute_result",
     "execution_count": 18
    }
   ],
   "source": [
    "df.head()"
   ]
  },
  {
   "cell_type": "code",
   "execution_count": 19,
   "metadata": {
    "pycharm": {
     "is_executing": false
    }
   },
   "outputs": [
    {
     "name": "stdout",
     "text": [
      "<class 'pandas.core.frame.DataFrame'>\nRangeIndex: 991753 entries, 0 to 991752\nData columns (total 24 columns):\nsrch_id                        991753 non-null int64\ndate_time                      991753 non-null object\nsite_id                        991753 non-null int64\nvisitor_location_country_id    991753 non-null int64\nprop_country_id                991753 non-null int64\nprop_id                        991753 non-null int64\nprop_starrating                991753 non-null int64\nprop_review_score              991753 non-null float64\nprop_brand_bool                991753 non-null int64\nprop_location_score1           991753 non-null float64\nprop_log_historical_price      991753 non-null float64\nposition                       991753 non-null int64\nprice_usd                      991753 non-null float64\npromotion_flag                 991753 non-null int64\nsrch_destination_id            991753 non-null int64\nsrch_length_of_stay            991753 non-null int64\nsrch_booking_window            991753 non-null int64\nsrch_adults_count              991753 non-null int64\nsrch_children_count            991753 non-null int64\nsrch_room_count                991753 non-null int64\nsrch_saturday_night_bool       991753 non-null int64\nrandom_bool                    991753 non-null int64\nclick_bool                     991753 non-null int64\nbooking_bool                   991753 non-null int64\ndtypes: float64(4), int64(19), object(1)\nmemory usage: 181.6+ MB\n"
     ],
     "output_type": "stream"
    }
   ],
   "source": [
    "df.info()"
   ]
  },
  {
   "cell_type": "code",
   "execution_count": 20,
   "metadata": {
    "pycharm": {
     "is_executing": false
    }
   },
   "outputs": [
    {
     "data": {
      "text/plain": "array([4. , 4. , 4. , ..., 4.5, 4. , 0. ])"
     },
     "metadata": {},
     "output_type": "execute_result",
     "execution_count": 20
    }
   ],
   "source": [
    "df['prop_review_score'].values"
   ]
  },
  {
   "cell_type": "code",
   "execution_count": 21,
   "metadata": {
    "pycharm": {
     "is_executing": false
    }
   },
   "outputs": [],
   "source": [
    "to_sns = df.drop('date_time', axis=1)"
   ]
  },
  {
   "cell_type": "code",
   "execution_count": 22,
   "metadata": {
    "pycharm": {
     "is_executing": false
    }
   },
   "outputs": [],
   "source": [
    "# fig, ax = plt.subplots(figsize=(20,8))         # Sample figsize in inches\n",
    "# sns.heatmap(to_sns)"
   ]
  },
  {
   "cell_type": "code",
   "execution_count": 23,
   "metadata": {
    "pycharm": {
     "is_executing": false
    }
   },
   "outputs": [
    {
     "data": {
      "text/plain": "<matplotlib.axes._subplots.AxesSubplot at 0x7f34dff71610>"
     },
     "metadata": {},
     "output_type": "execute_result",
     "execution_count": 23
    },
    {
     "data": {
      "text/plain": "<Figure size 432x288 with 1 Axes>",
      "image/png": "[encoded data removed]"
     },
     "metadata": {
      "needs_background": "light"
     },
     "output_type": "display_data"
    }
   ],
   "source": [
    "sns.distplot(to_sns['prop_review_score'])"
   ]
  },
  {
   "cell_type": "code",
   "execution_count": 24,
   "metadata": {
    "pycharm": {
     "is_executing": false
    }
   },
   "outputs": [],
   "source": [
    "# ax = sns.regplot(x=df['price_usd'], y=df['click_bool'])"
   ]
  },
  {
   "cell_type": "code",
   "execution_count": null,
   "metadata": {
    "pycharm": {
     "is_executing": true
    }
   },
   "outputs": [],
   "source": [
    "ax = sns.scatterplot(x=df['prop_review_score'], y=df['price_usd'])"
   ]
  },
  {
   "cell_type": "code",
   "execution_count": null,
   "metadata": {
    "pycharm": {
     "is_executing": true
    }
   },
   "outputs": [],
   "source": [
    "ax = sns.scatterplot(x=df['srch_length_of_stay'], y=df['price_usd'])"
   ]
  },
  {
   "cell_type": "code",
   "execution_count": null,
   "metadata": {
    "pycharm": {
     "is_executing": true
    }
   },
   "outputs": [],
   "source": [
    "df['price_usd'].plot.box()"
   ]
  },
  {
   "cell_type": "code",
   "execution_count": null,
   "metadata": {
    "pycharm": {
     "is_executing": true
    }
   },
   "outputs": [],
   "source": [
    "df['price_usd'].max(), df['price_usd'].min(), df['price_usd'].mean(), df['price_usd'].median()"
   ]
  },
  {
   "cell_type": "code",
   "execution_count": null,
   "metadata": {
    "pycharm": {
     "is_executing": true
    }
   },
   "outputs": [],
   "source": [
    "price = df[['visitor_location_country_id', 'prop_country_id', 'prop_starrating', 'prop_id', 'srch_length_of_stay', 'position', 'promotion_flag', 'price_usd']][df['price_usd'] > 10000]"
   ]
  },
  {
   "cell_type": "code",
   "execution_count": null,
   "metadata": {
    "pycharm": {
     "is_executing": true
    }
   },
   "outputs": [],
   "source": [
    "price.head(30)"
   ]
  },
  {
   "cell_type": "code",
   "execution_count": null,
   "metadata": {
    "pycharm": {
     "is_executing": true
    }
   },
   "outputs": [],
   "source": [
    "price.describe()"
   ]
  },
  {
   "cell_type": "code",
   "execution_count": null,
   "metadata": {
    "pycharm": {
     "is_executing": true
    }
   },
   "outputs": [],
   "source": [
    "price.info()"
   ]
  },
  {
   "cell_type": "code",
   "execution_count": null,
   "metadata": {
    "pycharm": {
     "is_executing": true
    }
   },
   "outputs": [],
   "source": [
    "df['prop_country_id'].unique()"
   ]
  },
  {
   "cell_type": "code",
   "execution_count": null,
   "metadata": {
    "pycharm": {
     "is_executing": true
    }
   },
   "outputs": [],
   "source": [
    "len(df['prop_id'].unique())"
   ]
  },
  {
   "cell_type": "code",
   "execution_count": null,
   "metadata": {
    "pycharm": {
     "is_executing": true
    }
   },
   "outputs": [],
   "source": [
    "price['prop_id'].unique()"
   ]
  },
  {
   "cell_type": "code",
   "execution_count": null,
   "metadata": {
    "pycharm": {
     "is_executing": true
    }
   },
   "outputs": [],
   "source": [
    "# ax = sns.swarmplot(x='srch_length_of_stay', y='price_usd', data=df)"
   ]
  },
  {
   "cell_type": "code",
   "execution_count": null,
   "metadata": {
    "pycharm": {
     "is_executing": true
    }
   },
   "outputs": [],
   "source": [
    "df.groupby(\"srch_length_of_stay\")['price_usd'].max()"
   ]
  },
  {
   "cell_type": "code",
   "execution_count": null,
   "metadata": {
    "pycharm": {
     "is_executing": true
    }
   },
   "outputs": [],
   "source": [
    "df.groupby(\"srch_length_of_stay\")['price_usd'].min()"
   ]
  },
  {
   "cell_type": "markdown",
   "metadata": {},
   "source": [
    "### something fishy here"
   ]
  },
  {
   "cell_type": "code",
   "execution_count": null,
   "metadata": {
    "pycharm": {
     "is_executing": true
    }
   },
   "outputs": [],
   "source": [
    "df['price_usd'].plot.hist()"
   ]
  },
  {
   "cell_type": "code",
   "execution_count": null,
   "metadata": {
    "pycharm": {
     "is_executing": true
    }
   },
   "outputs": [],
   "source": [
    "df.srch_length_of_stay.unique()"
   ]
  },
  {
   "cell_type": "code",
   "execution_count": null,
   "metadata": {
    "pycharm": {
     "is_executing": true
    }
   },
   "outputs": [],
   "source": [
    "df.describe()"
   ]
  },
  {
   "cell_type": "code",
   "execution_count": null,
   "metadata": {
    "pycharm": {
     "is_executing": true
    }
   },
   "outputs": [],
   "source": [
    "df.columns"
   ]
  },
  {
   "cell_type": "code",
   "execution_count": null,
   "metadata": {
    "pycharm": {
     "is_executing": true
    }
   },
   "outputs": [],
   "source": []
  }
 ],
 "metadata": {
  "kernelspec": {
   "display_name": "Python 3",
   "language": "python",
   "name": "python3"
  },
  "language_info": {
   "codemirror_mode": {
    "name": "ipython",
    "version": 3
   },
   "file_extension": ".py",
   "mimetype": "text/x-python",
   "name": "python",
   "nbconvert_exporter": "python",
   "pygments_lexer": "ipython3",
   "version": "3.6.8"
  }
 },
 "nbformat": 4,
 "nbformat_minor": 2
}