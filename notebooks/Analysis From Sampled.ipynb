{
 "cells": [
  {
   "cell_type": "code",
   "execution_count": 1,
   "metadata": {
    "pycharm": {
     "is_executing": false
    }
   },
   "outputs": [],
   "source": [
    "import pandas as pd\n",
    "import numpy as np\n",
    "import matplotlib.pyplot as plt\n",
    "import seaborn as sns"
   ]
  },
  {
   "cell_type": "code",
   "execution_count": 2,
   "metadata": {
    "pycharm": {
     "is_executing": false
    }
   },
   "outputs": [],
   "source": [
    "filename = '../datasets/data/train_sample.csv'\n",
    "df = pd.read_csv(filename)"
   ]
  },
  {
   "cell_type": "code",
   "execution_count": 3,
   "metadata": {
    "pycharm": {
     "is_executing": false
    }
   },
   "outputs": [
    {
     "data": {
      "text/plain": [
       "Index(['Unnamed: 0', 'srch_id', 'date_time', 'site_id',\n",
       "       'visitor_location_country_id', 'visitor_hist_starrating',\n",
       "       'visitor_hist_adr_usd', 'prop_country_id', 'prop_id', 'prop_starrating',\n",
       "       'prop_review_score', 'prop_brand_bool', 'prop_location_score1',\n",
       "       'prop_location_score2', 'prop_log_historical_price', 'position',\n",
       "       'price_usd', 'promotion_flag', 'srch_destination_id',\n",
       "       'srch_length_of_stay', 'srch_booking_window', 'srch_adults_count',\n",
       "       'srch_children_count', 'srch_room_count', 'srch_saturday_night_bool',\n",
       "       'srch_query_affinity_score', 'orig_destination_distance', 'random_bool',\n",
       "       'comp1_rate', 'comp1_inv', 'comp1_rate_percent_diff', 'comp2_rate',\n",
       "       'comp2_inv', 'comp2_rate_percent_diff', 'comp3_rate', 'comp3_inv',\n",
       "       'comp3_rate_percent_diff', 'comp4_rate', 'comp4_inv',\n",
       "       'comp4_rate_percent_diff', 'comp5_rate', 'comp5_inv',\n",
       "       'comp5_rate_percent_diff', 'comp6_rate', 'comp6_inv',\n",
       "       'comp6_rate_percent_diff', 'comp7_rate', 'comp7_inv',\n",
       "       'comp7_rate_percent_diff', 'comp8_rate', 'comp8_inv',\n",
       "       'comp8_rate_percent_diff', 'click_bool', 'gross_bookings_usd',\n",
       "       'booking_bool'],\n",
       "      dtype='object')"
      ]
     },
     "execution_count": 3,
     "metadata": {},
     "output_type": "execute_result"
    }
   ],
   "source": [
    "df.columns"
   ]
  },
  {
   "cell_type": "code",
   "execution_count": 4,
   "metadata": {
    "pycharm": {
     "is_executing": false
    }
   },
   "outputs": [
    {
     "data": {
      "text/plain": [
       "Unnamed: 0                          0\n",
       "srch_id                             0\n",
       "date_time                           0\n",
       "site_id                             0\n",
       "visitor_location_country_id         0\n",
       "prop_country_id                     0\n",
       "prop_id                             0\n",
       "prop_starrating                     0\n",
       "prop_review_score                1437\n",
       "prop_brand_bool                     0\n",
       "prop_location_score1                0\n",
       "prop_location_score2           218370\n",
       "prop_log_historical_price           0\n",
       "position                            0\n",
       "price_usd                           0\n",
       "promotion_flag                      0\n",
       "srch_destination_id                 0\n",
       "srch_length_of_stay                 0\n",
       "srch_booking_window                 0\n",
       "srch_adults_count                   0\n",
       "srch_children_count                 0\n",
       "srch_room_count                     0\n",
       "srch_saturday_night_bool            0\n",
       "orig_destination_distance      321301\n",
       "random_bool                         0\n",
       "click_bool                          0\n",
       "booking_bool                        0\n",
       "dtype: int64"
      ]
     },
     "execution_count": 4,
     "metadata": {},
     "output_type": "execute_result"
    }
   ],
   "source": [
    "null_counts = df.isnull().sum()\n",
    "refined_cols = null_counts[null_counts <500000]\n",
    "refined_cols"
   ]
  },
  {
   "cell_type": "code",
   "execution_count": 5,
   "metadata": {
    "pycharm": {
     "is_executing": false
    }
   },
   "outputs": [],
   "source": [
    "cols = []\n",
    "for items in refined_cols.iteritems():\n",
    "    cols.append(items[0])"
   ]
  },
  {
   "cell_type": "code",
   "execution_count": 6,
   "metadata": {
    "pycharm": {
     "is_executing": false
    }
   },
   "outputs": [],
   "source": [
    "df = df.filter(cols, axis=1)\n",
    "df = df.drop('Unnamed: 0', axis=1)"
   ]
  },
  {
   "cell_type": "code",
   "execution_count": 7,
   "metadata": {
    "pycharm": {
     "is_executing": false
    }
   },
   "outputs": [
    {
     "data": {
      "text/html": [
       "<div>\n",
       "<style scoped>\n",
       "    .dataframe tbody tr th:only-of-type {\n",
       "        vertical-align: middle;\n",
       "    }\n",
       "\n",
       "    .dataframe tbody tr th {\n",
       "        vertical-align: top;\n",
       "    }\n",
       "\n",
       "    .dataframe thead th {\n",
       "        text-align: right;\n",
       "    }\n",
       "</style>\n",
       "<table border=\"1\" class=\"dataframe\">\n",
       "  <thead>\n",
       "    <tr style=\"text-align: right;\">\n",
       "      <th></th>\n",
       "      <th>srch_id</th>\n",
       "      <th>date_time</th>\n",
       "      <th>site_id</th>\n",
       "      <th>visitor_location_country_id</th>\n",
       "      <th>prop_country_id</th>\n",
       "      <th>prop_id</th>\n",
       "      <th>prop_starrating</th>\n",
       "      <th>prop_review_score</th>\n",
       "      <th>prop_brand_bool</th>\n",
       "      <th>prop_location_score1</th>\n",
       "      <th>...</th>\n",
       "      <th>srch_length_of_stay</th>\n",
       "      <th>srch_booking_window</th>\n",
       "      <th>srch_adults_count</th>\n",
       "      <th>srch_children_count</th>\n",
       "      <th>srch_room_count</th>\n",
       "      <th>srch_saturday_night_bool</th>\n",
       "      <th>orig_destination_distance</th>\n",
       "      <th>random_bool</th>\n",
       "      <th>click_bool</th>\n",
       "      <th>booking_bool</th>\n",
       "    </tr>\n",
       "  </thead>\n",
       "  <tbody>\n",
       "    <tr>\n",
       "      <th>0</th>\n",
       "      <td>1</td>\n",
       "      <td>2013-04-04 08:32:15</td>\n",
       "      <td>12</td>\n",
       "      <td>187</td>\n",
       "      <td>219</td>\n",
       "      <td>10404</td>\n",
       "      <td>4</td>\n",
       "      <td>4.0</td>\n",
       "      <td>1</td>\n",
       "      <td>2.20</td>\n",
       "      <td>...</td>\n",
       "      <td>1</td>\n",
       "      <td>0</td>\n",
       "      <td>4</td>\n",
       "      <td>0</td>\n",
       "      <td>1</td>\n",
       "      <td>1</td>\n",
       "      <td>NaN</td>\n",
       "      <td>1</td>\n",
       "      <td>0</td>\n",
       "      <td>0</td>\n",
       "    </tr>\n",
       "    <tr>\n",
       "      <th>1</th>\n",
       "      <td>1</td>\n",
       "      <td>2013-04-04 08:32:15</td>\n",
       "      <td>12</td>\n",
       "      <td>187</td>\n",
       "      <td>219</td>\n",
       "      <td>27348</td>\n",
       "      <td>2</td>\n",
       "      <td>4.0</td>\n",
       "      <td>1</td>\n",
       "      <td>2.83</td>\n",
       "      <td>...</td>\n",
       "      <td>1</td>\n",
       "      <td>0</td>\n",
       "      <td>4</td>\n",
       "      <td>0</td>\n",
       "      <td>1</td>\n",
       "      <td>1</td>\n",
       "      <td>NaN</td>\n",
       "      <td>1</td>\n",
       "      <td>0</td>\n",
       "      <td>0</td>\n",
       "    </tr>\n",
       "    <tr>\n",
       "      <th>2</th>\n",
       "      <td>1</td>\n",
       "      <td>2013-04-04 08:32:15</td>\n",
       "      <td>12</td>\n",
       "      <td>187</td>\n",
       "      <td>219</td>\n",
       "      <td>56880</td>\n",
       "      <td>4</td>\n",
       "      <td>4.0</td>\n",
       "      <td>1</td>\n",
       "      <td>2.83</td>\n",
       "      <td>...</td>\n",
       "      <td>1</td>\n",
       "      <td>0</td>\n",
       "      <td>4</td>\n",
       "      <td>0</td>\n",
       "      <td>1</td>\n",
       "      <td>1</td>\n",
       "      <td>NaN</td>\n",
       "      <td>1</td>\n",
       "      <td>0</td>\n",
       "      <td>0</td>\n",
       "    </tr>\n",
       "    <tr>\n",
       "      <th>3</th>\n",
       "      <td>1</td>\n",
       "      <td>2013-04-04 08:32:15</td>\n",
       "      <td>12</td>\n",
       "      <td>187</td>\n",
       "      <td>219</td>\n",
       "      <td>68914</td>\n",
       "      <td>2</td>\n",
       "      <td>3.0</td>\n",
       "      <td>1</td>\n",
       "      <td>2.20</td>\n",
       "      <td>...</td>\n",
       "      <td>1</td>\n",
       "      <td>0</td>\n",
       "      <td>4</td>\n",
       "      <td>0</td>\n",
       "      <td>1</td>\n",
       "      <td>1</td>\n",
       "      <td>NaN</td>\n",
       "      <td>1</td>\n",
       "      <td>1</td>\n",
       "      <td>1</td>\n",
       "    </tr>\n",
       "    <tr>\n",
       "      <th>4</th>\n",
       "      <td>1</td>\n",
       "      <td>2013-04-04 08:32:15</td>\n",
       "      <td>12</td>\n",
       "      <td>187</td>\n",
       "      <td>219</td>\n",
       "      <td>88127</td>\n",
       "      <td>3</td>\n",
       "      <td>3.0</td>\n",
       "      <td>1</td>\n",
       "      <td>1.39</td>\n",
       "      <td>...</td>\n",
       "      <td>1</td>\n",
       "      <td>0</td>\n",
       "      <td>4</td>\n",
       "      <td>0</td>\n",
       "      <td>1</td>\n",
       "      <td>1</td>\n",
       "      <td>NaN</td>\n",
       "      <td>1</td>\n",
       "      <td>0</td>\n",
       "      <td>0</td>\n",
       "    </tr>\n",
       "  </tbody>\n",
       "</table>\n",
       "<p>5 rows × 26 columns</p>\n",
       "</div>"
      ],
      "text/plain": [
       "   srch_id            date_time  site_id  visitor_location_country_id  \\\n",
       "0        1  2013-04-04 08:32:15       12                          187   \n",
       "1        1  2013-04-04 08:32:15       12                          187   \n",
       "2        1  2013-04-04 08:32:15       12                          187   \n",
       "3        1  2013-04-04 08:32:15       12                          187   \n",
       "4        1  2013-04-04 08:32:15       12                          187   \n",
       "\n",
       "   prop_country_id  prop_id  prop_starrating  prop_review_score  \\\n",
       "0              219    10404                4                4.0   \n",
       "1              219    27348                2                4.0   \n",
       "2              219    56880                4                4.0   \n",
       "3              219    68914                2                3.0   \n",
       "4              219    88127                3                3.0   \n",
       "\n",
       "   prop_brand_bool  prop_location_score1  ...  srch_length_of_stay  \\\n",
       "0                1                  2.20  ...                    1   \n",
       "1                1                  2.83  ...                    1   \n",
       "2                1                  2.83  ...                    1   \n",
       "3                1                  2.20  ...                    1   \n",
       "4                1                  1.39  ...                    1   \n",
       "\n",
       "   srch_booking_window  srch_adults_count  srch_children_count  \\\n",
       "0                    0                  4                    0   \n",
       "1                    0                  4                    0   \n",
       "2                    0                  4                    0   \n",
       "3                    0                  4                    0   \n",
       "4                    0                  4                    0   \n",
       "\n",
       "   srch_room_count  srch_saturday_night_bool  orig_destination_distance  \\\n",
       "0                1                         1                        NaN   \n",
       "1                1                         1                        NaN   \n",
       "2                1                         1                        NaN   \n",
       "3                1                         1                        NaN   \n",
       "4                1                         1                        NaN   \n",
       "\n",
       "   random_bool  click_bool  booking_bool  \n",
       "0            1           0             0  \n",
       "1            1           0             0  \n",
       "2            1           0             0  \n",
       "3            1           1             1  \n",
       "4            1           0             0  \n",
       "\n",
       "[5 rows x 26 columns]"
      ]
     },
     "execution_count": 7,
     "metadata": {},
     "output_type": "execute_result"
    }
   ],
   "source": [
    "df.head()"
   ]
  },
  {
   "cell_type": "code",
   "execution_count": 8,
   "metadata": {
    "pycharm": {
     "is_executing": false
    }
   },
   "outputs": [
    {
     "data": {
      "text/plain": [
       "srch_id                          int64\n",
       "date_time                       object\n",
       "site_id                          int64\n",
       "visitor_location_country_id      int64\n",
       "prop_country_id                  int64\n",
       "prop_id                          int64\n",
       "prop_starrating                  int64\n",
       "prop_review_score              float64\n",
       "prop_brand_bool                  int64\n",
       "prop_location_score1           float64\n",
       "prop_location_score2           float64\n",
       "prop_log_historical_price      float64\n",
       "position                         int64\n",
       "price_usd                      float64\n",
       "promotion_flag                   int64\n",
       "srch_destination_id              int64\n",
       "srch_length_of_stay              int64\n",
       "srch_booking_window              int64\n",
       "srch_adults_count                int64\n",
       "srch_children_count              int64\n",
       "srch_room_count                  int64\n",
       "srch_saturday_night_bool         int64\n",
       "orig_destination_distance      float64\n",
       "random_bool                      int64\n",
       "click_bool                       int64\n",
       "booking_bool                     int64\n",
       "dtype: object"
      ]
     },
     "execution_count": 8,
     "metadata": {},
     "output_type": "execute_result"
    }
   ],
   "source": [
    "df.dtypes"
   ]
  },
  {
   "cell_type": "code",
   "execution_count": 9,
   "metadata": {
    "pycharm": {
     "is_executing": false
    }
   },
   "outputs": [
    {
     "data": {
      "text/plain": [
       "srch_id                                     665574\n",
       "date_time                      2013-06-30 23:58:24\n",
       "site_id                                         34\n",
       "visitor_location_country_id                    231\n",
       "prop_country_id                                230\n",
       "prop_id                                     140821\n",
       "prop_starrating                                  5\n",
       "prop_review_score                                5\n",
       "prop_brand_bool                                  1\n",
       "prop_location_score1                          6.98\n",
       "prop_location_score2                             1\n",
       "prop_log_historical_price                     6.21\n",
       "position                                        40\n",
       "price_usd                              7.04312e+06\n",
       "promotion_flag                                   1\n",
       "srch_destination_id                          28416\n",
       "srch_length_of_stay                             58\n",
       "srch_booking_window                            498\n",
       "srch_adults_count                                9\n",
       "srch_children_count                              9\n",
       "srch_room_count                                  8\n",
       "srch_saturday_night_bool                         1\n",
       "orig_destination_distance                    11693\n",
       "random_bool                                      1\n",
       "click_bool                                       1\n",
       "booking_bool                                     1\n",
       "dtype: object"
      ]
     },
     "execution_count": 9,
     "metadata": {},
     "output_type": "execute_result"
    }
   ],
   "source": [
    "df.max()"
   ]
  },
  {
   "cell_type": "markdown",
   "metadata": {},
   "source": [
    "### maybe change dtypes to float16 or int16 except some"
   ]
  },
  {
   "cell_type": "code",
   "execution_count": 10,
   "metadata": {
    "pycharm": {
     "is_executing": false
    }
   },
   "outputs": [
    {
     "data": {
      "text/plain": [
       "srch_id                             0\n",
       "date_time                           0\n",
       "site_id                             0\n",
       "visitor_location_country_id         0\n",
       "prop_country_id                     0\n",
       "prop_id                             0\n",
       "prop_starrating                     0\n",
       "prop_review_score                1437\n",
       "prop_brand_bool                     0\n",
       "prop_location_score1                0\n",
       "prop_location_score2           218370\n",
       "prop_log_historical_price           0\n",
       "position                            0\n",
       "price_usd                           0\n",
       "promotion_flag                      0\n",
       "srch_destination_id                 0\n",
       "srch_length_of_stay                 0\n",
       "srch_booking_window                 0\n",
       "srch_adults_count                   0\n",
       "srch_children_count                 0\n",
       "srch_room_count                     0\n",
       "srch_saturday_night_bool            0\n",
       "orig_destination_distance      321301\n",
       "random_bool                         0\n",
       "click_bool                          0\n",
       "booking_bool                        0\n",
       "dtype: int64"
      ]
     },
     "execution_count": 10,
     "metadata": {},
     "output_type": "execute_result"
    }
   ],
   "source": [
    "df.isnull().sum()"
   ]
  },
  {
   "cell_type": "markdown",
   "metadata": {},
   "source": [
    "### maybe do seperate analysis for `prop_location_score2` and `orig_destination_distance` but drop for now"
   ]
  },
  {
   "cell_type": "code",
   "execution_count": 11,
   "metadata": {
    "pycharm": {
     "is_executing": false
    }
   },
   "outputs": [],
   "source": [
    "df = df.drop(['prop_location_score2','orig_destination_distance']  , axis=1)"
   ]
  },
  {
   "cell_type": "code",
   "execution_count": 12,
   "metadata": {
    "pycharm": {
     "is_executing": false
    }
   },
   "outputs": [
    {
     "data": {
      "text/html": [
       "<div>\n",
       "<style scoped>\n",
       "    .dataframe tbody tr th:only-of-type {\n",
       "        vertical-align: middle;\n",
       "    }\n",
       "\n",
       "    .dataframe tbody tr th {\n",
       "        vertical-align: top;\n",
       "    }\n",
       "\n",
       "    .dataframe thead th {\n",
       "        text-align: right;\n",
       "    }\n",
       "</style>\n",
       "<table border=\"1\" class=\"dataframe\">\n",
       "  <thead>\n",
       "    <tr style=\"text-align: right;\">\n",
       "      <th></th>\n",
       "      <th>srch_id</th>\n",
       "      <th>date_time</th>\n",
       "      <th>site_id</th>\n",
       "      <th>visitor_location_country_id</th>\n",
       "      <th>prop_country_id</th>\n",
       "      <th>prop_id</th>\n",
       "      <th>prop_starrating</th>\n",
       "      <th>prop_review_score</th>\n",
       "      <th>prop_brand_bool</th>\n",
       "      <th>prop_location_score1</th>\n",
       "      <th>...</th>\n",
       "      <th>srch_destination_id</th>\n",
       "      <th>srch_length_of_stay</th>\n",
       "      <th>srch_booking_window</th>\n",
       "      <th>srch_adults_count</th>\n",
       "      <th>srch_children_count</th>\n",
       "      <th>srch_room_count</th>\n",
       "      <th>srch_saturday_night_bool</th>\n",
       "      <th>random_bool</th>\n",
       "      <th>click_bool</th>\n",
       "      <th>booking_bool</th>\n",
       "    </tr>\n",
       "  </thead>\n",
       "  <tbody>\n",
       "    <tr>\n",
       "      <th>0</th>\n",
       "      <td>1</td>\n",
       "      <td>2013-04-04 08:32:15</td>\n",
       "      <td>12</td>\n",
       "      <td>187</td>\n",
       "      <td>219</td>\n",
       "      <td>10404</td>\n",
       "      <td>4</td>\n",
       "      <td>4.0</td>\n",
       "      <td>1</td>\n",
       "      <td>2.20</td>\n",
       "      <td>...</td>\n",
       "      <td>23246</td>\n",
       "      <td>1</td>\n",
       "      <td>0</td>\n",
       "      <td>4</td>\n",
       "      <td>0</td>\n",
       "      <td>1</td>\n",
       "      <td>1</td>\n",
       "      <td>1</td>\n",
       "      <td>0</td>\n",
       "      <td>0</td>\n",
       "    </tr>\n",
       "    <tr>\n",
       "      <th>1</th>\n",
       "      <td>1</td>\n",
       "      <td>2013-04-04 08:32:15</td>\n",
       "      <td>12</td>\n",
       "      <td>187</td>\n",
       "      <td>219</td>\n",
       "      <td>27348</td>\n",
       "      <td>2</td>\n",
       "      <td>4.0</td>\n",
       "      <td>1</td>\n",
       "      <td>2.83</td>\n",
       "      <td>...</td>\n",
       "      <td>23246</td>\n",
       "      <td>1</td>\n",
       "      <td>0</td>\n",
       "      <td>4</td>\n",
       "      <td>0</td>\n",
       "      <td>1</td>\n",
       "      <td>1</td>\n",
       "      <td>1</td>\n",
       "      <td>0</td>\n",
       "      <td>0</td>\n",
       "    </tr>\n",
       "    <tr>\n",
       "      <th>2</th>\n",
       "      <td>1</td>\n",
       "      <td>2013-04-04 08:32:15</td>\n",
       "      <td>12</td>\n",
       "      <td>187</td>\n",
       "      <td>219</td>\n",
       "      <td>56880</td>\n",
       "      <td>4</td>\n",
       "      <td>4.0</td>\n",
       "      <td>1</td>\n",
       "      <td>2.83</td>\n",
       "      <td>...</td>\n",
       "      <td>23246</td>\n",
       "      <td>1</td>\n",
       "      <td>0</td>\n",
       "      <td>4</td>\n",
       "      <td>0</td>\n",
       "      <td>1</td>\n",
       "      <td>1</td>\n",
       "      <td>1</td>\n",
       "      <td>0</td>\n",
       "      <td>0</td>\n",
       "    </tr>\n",
       "    <tr>\n",
       "      <th>3</th>\n",
       "      <td>1</td>\n",
       "      <td>2013-04-04 08:32:15</td>\n",
       "      <td>12</td>\n",
       "      <td>187</td>\n",
       "      <td>219</td>\n",
       "      <td>68914</td>\n",
       "      <td>2</td>\n",
       "      <td>3.0</td>\n",
       "      <td>1</td>\n",
       "      <td>2.20</td>\n",
       "      <td>...</td>\n",
       "      <td>23246</td>\n",
       "      <td>1</td>\n",
       "      <td>0</td>\n",
       "      <td>4</td>\n",
       "      <td>0</td>\n",
       "      <td>1</td>\n",
       "      <td>1</td>\n",
       "      <td>1</td>\n",
       "      <td>1</td>\n",
       "      <td>1</td>\n",
       "    </tr>\n",
       "    <tr>\n",
       "      <th>4</th>\n",
       "      <td>1</td>\n",
       "      <td>2013-04-04 08:32:15</td>\n",
       "      <td>12</td>\n",
       "      <td>187</td>\n",
       "      <td>219</td>\n",
       "      <td>88127</td>\n",
       "      <td>3</td>\n",
       "      <td>3.0</td>\n",
       "      <td>1</td>\n",
       "      <td>1.39</td>\n",
       "      <td>...</td>\n",
       "      <td>23246</td>\n",
       "      <td>1</td>\n",
       "      <td>0</td>\n",
       "      <td>4</td>\n",
       "      <td>0</td>\n",
       "      <td>1</td>\n",
       "      <td>1</td>\n",
       "      <td>1</td>\n",
       "      <td>0</td>\n",
       "      <td>0</td>\n",
       "    </tr>\n",
       "  </tbody>\n",
       "</table>\n",
       "<p>5 rows × 24 columns</p>\n",
       "</div>"
      ],
      "text/plain": [
       "   srch_id            date_time  site_id  visitor_location_country_id  \\\n",
       "0        1  2013-04-04 08:32:15       12                          187   \n",
       "1        1  2013-04-04 08:32:15       12                          187   \n",
       "2        1  2013-04-04 08:32:15       12                          187   \n",
       "3        1  2013-04-04 08:32:15       12                          187   \n",
       "4        1  2013-04-04 08:32:15       12                          187   \n",
       "\n",
       "   prop_country_id  prop_id  prop_starrating  prop_review_score  \\\n",
       "0              219    10404                4                4.0   \n",
       "1              219    27348                2                4.0   \n",
       "2              219    56880                4                4.0   \n",
       "3              219    68914                2                3.0   \n",
       "4              219    88127                3                3.0   \n",
       "\n",
       "   prop_brand_bool  prop_location_score1  ...  srch_destination_id  \\\n",
       "0                1                  2.20  ...                23246   \n",
       "1                1                  2.83  ...                23246   \n",
       "2                1                  2.83  ...                23246   \n",
       "3                1                  2.20  ...                23246   \n",
       "4                1                  1.39  ...                23246   \n",
       "\n",
       "   srch_length_of_stay  srch_booking_window  srch_adults_count  \\\n",
       "0                    1                    0                  4   \n",
       "1                    1                    0                  4   \n",
       "2                    1                    0                  4   \n",
       "3                    1                    0                  4   \n",
       "4                    1                    0                  4   \n",
       "\n",
       "   srch_children_count  srch_room_count  srch_saturday_night_bool  \\\n",
       "0                    0                1                         1   \n",
       "1                    0                1                         1   \n",
       "2                    0                1                         1   \n",
       "3                    0                1                         1   \n",
       "4                    0                1                         1   \n",
       "\n",
       "   random_bool  click_bool  booking_bool  \n",
       "0            1           0             0  \n",
       "1            1           0             0  \n",
       "2            1           0             0  \n",
       "3            1           1             1  \n",
       "4            1           0             0  \n",
       "\n",
       "[5 rows x 24 columns]"
      ]
     },
     "execution_count": 12,
     "metadata": {},
     "output_type": "execute_result"
    }
   ],
   "source": [
    "df.head()"
   ]
  },
  {
   "cell_type": "code",
   "execution_count": 13,
   "metadata": {
    "pycharm": {
     "is_executing": false
    }
   },
   "outputs": [
    {
     "data": {
      "text/plain": [
       "<matplotlib.axes._subplots.AxesSubplot at 0x7f02fb6fd3d0>"
      ]
     },
     "execution_count": 13,
     "metadata": {},
     "output_type": "execute_result"
    },
    {
     "data": {
      "image/png": "[encoded data removed]",
      "text/plain": [
       "<Figure size 432x288 with 1 Axes>"
      ]
     },
     "metadata": {
      "needs_background": "light"
     },
     "output_type": "display_data"
    }
   ],
   "source": [
    "df['prop_review_score'].plot.hist()"
   ]
  },
  {
   "cell_type": "markdown",
   "metadata": {},
   "source": [
    "### fill prop_review_score with median "
   ]
  },
  {
   "cell_type": "code",
   "execution_count": 14,
   "metadata": {
    "pycharm": {
     "is_executing": false
    }
   },
   "outputs": [
    {
     "data": {
      "text/plain": [
       "dtype('float64')"
      ]
     },
     "execution_count": 14,
     "metadata": {},
     "output_type": "execute_result"
    }
   ],
   "source": [
    "df['prop_review_score'].dtype"
   ]
  },
  {
   "cell_type": "code",
   "execution_count": 15,
   "metadata": {
    "pycharm": {
     "is_executing": false
    }
   },
   "outputs": [
    {
     "data": {
      "text/plain": [
       "0         4.0\n",
       "1         4.0\n",
       "2         4.0\n",
       "3         3.0\n",
       "4         3.0\n",
       "         ... \n",
       "991748    4.5\n",
       "991749    4.5\n",
       "991750    4.5\n",
       "991751    4.0\n",
       "991752    0.0\n",
       "Name: prop_review_score, Length: 991753, dtype: float64"
      ]
     },
     "execution_count": 15,
     "metadata": {},
     "output_type": "execute_result"
    }
   ],
   "source": [
    "pd.to_numeric(df['prop_review_score'], errors='coerce')"
   ]
  },
  {
   "cell_type": "code",
   "execution_count": 16,
   "metadata": {
    "pycharm": {
     "is_executing": false
    }
   },
   "outputs": [],
   "source": [
    "# def custom_func(num_str):\n",
    "#     if pd.isnull(num_str):\n",
    "#         return num_str\n",
    "# abc = df['prop_review_score'].map(custom_func)"
   ]
  },
  {
   "cell_type": "code",
   "execution_count": 17,
   "metadata": {
    "pycharm": {
     "is_executing": false
    }
   },
   "outputs": [],
   "source": [
    "df['prop_review_score'].fillna((df['prop_review_score'].mean()), inplace=True)"
   ]
  },
  {
   "cell_type": "code",
   "execution_count": 18,
   "metadata": {
    "pycharm": {
     "is_executing": false
    }
   },
   "outputs": [
    {
     "data": {
      "text/html": [
       "<div>\n",
       "<style scoped>\n",
       "    .dataframe tbody tr th:only-of-type {\n",
       "        vertical-align: middle;\n",
       "    }\n",
       "\n",
       "    .dataframe tbody tr th {\n",
       "        vertical-align: top;\n",
       "    }\n",
       "\n",
       "    .dataframe thead th {\n",
       "        text-align: right;\n",
       "    }\n",
       "</style>\n",
       "<table border=\"1\" class=\"dataframe\">\n",
       "  <thead>\n",
       "    <tr style=\"text-align: right;\">\n",
       "      <th></th>\n",
       "      <th>srch_id</th>\n",
       "      <th>date_time</th>\n",
       "      <th>site_id</th>\n",
       "      <th>visitor_location_country_id</th>\n",
       "      <th>prop_country_id</th>\n",
       "      <th>prop_id</th>\n",
       "      <th>prop_starrating</th>\n",
       "      <th>prop_review_score</th>\n",
       "      <th>prop_brand_bool</th>\n",
       "      <th>prop_location_score1</th>\n",
       "      <th>...</th>\n",
       "      <th>srch_destination_id</th>\n",
       "      <th>srch_length_of_stay</th>\n",
       "      <th>srch_booking_window</th>\n",
       "      <th>srch_adults_count</th>\n",
       "      <th>srch_children_count</th>\n",
       "      <th>srch_room_count</th>\n",
       "      <th>srch_saturday_night_bool</th>\n",
       "      <th>random_bool</th>\n",
       "      <th>click_bool</th>\n",
       "      <th>booking_bool</th>\n",
       "    </tr>\n",
       "  </thead>\n",
       "  <tbody>\n",
       "    <tr>\n",
       "      <th>0</th>\n",
       "      <td>1</td>\n",
       "      <td>2013-04-04 08:32:15</td>\n",
       "      <td>12</td>\n",
       "      <td>187</td>\n",
       "      <td>219</td>\n",
       "      <td>10404</td>\n",
       "      <td>4</td>\n",
       "      <td>4.0</td>\n",
       "      <td>1</td>\n",
       "      <td>2.20</td>\n",
       "      <td>...</td>\n",
       "      <td>23246</td>\n",
       "      <td>1</td>\n",
       "      <td>0</td>\n",
       "      <td>4</td>\n",
       "      <td>0</td>\n",
       "      <td>1</td>\n",
       "      <td>1</td>\n",
       "      <td>1</td>\n",
       "      <td>0</td>\n",
       "      <td>0</td>\n",
       "    </tr>\n",
       "    <tr>\n",
       "      <th>1</th>\n",
       "      <td>1</td>\n",
       "      <td>2013-04-04 08:32:15</td>\n",
       "      <td>12</td>\n",
       "      <td>187</td>\n",
       "      <td>219</td>\n",
       "      <td>27348</td>\n",
       "      <td>2</td>\n",
       "      <td>4.0</td>\n",
       "      <td>1</td>\n",
       "      <td>2.83</td>\n",
       "      <td>...</td>\n",
       "      <td>23246</td>\n",
       "      <td>1</td>\n",
       "      <td>0</td>\n",
       "      <td>4</td>\n",
       "      <td>0</td>\n",
       "      <td>1</td>\n",
       "      <td>1</td>\n",
       "      <td>1</td>\n",
       "      <td>0</td>\n",
       "      <td>0</td>\n",
       "    </tr>\n",
       "    <tr>\n",
       "      <th>2</th>\n",
       "      <td>1</td>\n",
       "      <td>2013-04-04 08:32:15</td>\n",
       "      <td>12</td>\n",
       "      <td>187</td>\n",
       "      <td>219</td>\n",
       "      <td>56880</td>\n",
       "      <td>4</td>\n",
       "      <td>4.0</td>\n",
       "      <td>1</td>\n",
       "      <td>2.83</td>\n",
       "      <td>...</td>\n",
       "      <td>23246</td>\n",
       "      <td>1</td>\n",
       "      <td>0</td>\n",
       "      <td>4</td>\n",
       "      <td>0</td>\n",
       "      <td>1</td>\n",
       "      <td>1</td>\n",
       "      <td>1</td>\n",
       "      <td>0</td>\n",
       "      <td>0</td>\n",
       "    </tr>\n",
       "    <tr>\n",
       "      <th>3</th>\n",
       "      <td>1</td>\n",
       "      <td>2013-04-04 08:32:15</td>\n",
       "      <td>12</td>\n",
       "      <td>187</td>\n",
       "      <td>219</td>\n",
       "      <td>68914</td>\n",
       "      <td>2</td>\n",
       "      <td>3.0</td>\n",
       "      <td>1</td>\n",
       "      <td>2.20</td>\n",
       "      <td>...</td>\n",
       "      <td>23246</td>\n",
       "      <td>1</td>\n",
       "      <td>0</td>\n",
       "      <td>4</td>\n",
       "      <td>0</td>\n",
       "      <td>1</td>\n",
       "      <td>1</td>\n",
       "      <td>1</td>\n",
       "      <td>1</td>\n",
       "      <td>1</td>\n",
       "    </tr>\n",
       "    <tr>\n",
       "      <th>4</th>\n",
       "      <td>1</td>\n",
       "      <td>2013-04-04 08:32:15</td>\n",
       "      <td>12</td>\n",
       "      <td>187</td>\n",
       "      <td>219</td>\n",
       "      <td>88127</td>\n",
       "      <td>3</td>\n",
       "      <td>3.0</td>\n",
       "      <td>1</td>\n",
       "      <td>1.39</td>\n",
       "      <td>...</td>\n",
       "      <td>23246</td>\n",
       "      <td>1</td>\n",
       "      <td>0</td>\n",
       "      <td>4</td>\n",
       "      <td>0</td>\n",
       "      <td>1</td>\n",
       "      <td>1</td>\n",
       "      <td>1</td>\n",
       "      <td>0</td>\n",
       "      <td>0</td>\n",
       "    </tr>\n",
       "  </tbody>\n",
       "</table>\n",
       "<p>5 rows × 24 columns</p>\n",
       "</div>"
      ],
      "text/plain": [
       "   srch_id            date_time  site_id  visitor_location_country_id  \\\n",
       "0        1  2013-04-04 08:32:15       12                          187   \n",
       "1        1  2013-04-04 08:32:15       12                          187   \n",
       "2        1  2013-04-04 08:32:15       12                          187   \n",
       "3        1  2013-04-04 08:32:15       12                          187   \n",
       "4        1  2013-04-04 08:32:15       12                          187   \n",
       "\n",
       "   prop_country_id  prop_id  prop_starrating  prop_review_score  \\\n",
       "0              219    10404                4                4.0   \n",
       "1              219    27348                2                4.0   \n",
       "2              219    56880                4                4.0   \n",
       "3              219    68914                2                3.0   \n",
       "4              219    88127                3                3.0   \n",
       "\n",
       "   prop_brand_bool  prop_location_score1  ...  srch_destination_id  \\\n",
       "0                1                  2.20  ...                23246   \n",
       "1                1                  2.83  ...                23246   \n",
       "2                1                  2.83  ...                23246   \n",
       "3                1                  2.20  ...                23246   \n",
       "4                1                  1.39  ...                23246   \n",
       "\n",
       "   srch_length_of_stay  srch_booking_window  srch_adults_count  \\\n",
       "0                    1                    0                  4   \n",
       "1                    1                    0                  4   \n",
       "2                    1                    0                  4   \n",
       "3                    1                    0                  4   \n",
       "4                    1                    0                  4   \n",
       "\n",
       "   srch_children_count  srch_room_count  srch_saturday_night_bool  \\\n",
       "0                    0                1                         1   \n",
       "1                    0                1                         1   \n",
       "2                    0                1                         1   \n",
       "3                    0                1                         1   \n",
       "4                    0                1                         1   \n",
       "\n",
       "   random_bool  click_bool  booking_bool  \n",
       "0            1           0             0  \n",
       "1            1           0             0  \n",
       "2            1           0             0  \n",
       "3            1           1             1  \n",
       "4            1           0             0  \n",
       "\n",
       "[5 rows x 24 columns]"
      ]
     },
     "execution_count": 18,
     "metadata": {},
     "output_type": "execute_result"
    }
   ],
   "source": [
    "df.head()"
   ]
  },
  {
   "cell_type": "code",
   "execution_count": 19,
   "metadata": {
    "pycharm": {
     "is_executing": false
    }
   },
   "outputs": [
    {
     "name": "stdout",
     "output_type": "stream",
     "text": [
      "<class 'pandas.core.frame.DataFrame'>\n",
      "RangeIndex: 991753 entries, 0 to 991752\n",
      "Data columns (total 24 columns):\n",
      "srch_id                        991753 non-null int64\n",
      "date_time                      991753 non-null object\n",
      "site_id                        991753 non-null int64\n",
      "visitor_location_country_id    991753 non-null int64\n",
      "prop_country_id                991753 non-null int64\n",
      "prop_id                        991753 non-null int64\n",
      "prop_starrating                991753 non-null int64\n",
      "prop_review_score              991753 non-null float64\n",
      "prop_brand_bool                991753 non-null int64\n",
      "prop_location_score1           991753 non-null float64\n",
      "prop_log_historical_price      991753 non-null float64\n",
      "position                       991753 non-null int64\n",
      "price_usd                      991753 non-null float64\n",
      "promotion_flag                 991753 non-null int64\n",
      "srch_destination_id            991753 non-null int64\n",
      "srch_length_of_stay            991753 non-null int64\n",
      "srch_booking_window            991753 non-null int64\n",
      "srch_adults_count              991753 non-null int64\n",
      "srch_children_count            991753 non-null int64\n",
      "srch_room_count                991753 non-null int64\n",
      "srch_saturday_night_bool       991753 non-null int64\n",
      "random_bool                    991753 non-null int64\n",
      "click_bool                     991753 non-null int64\n",
      "booking_bool                   991753 non-null int64\n",
      "dtypes: float64(4), int64(19), object(1)\n",
      "memory usage: 181.6+ MB\n"
     ]
    }
   ],
   "source": [
    "df.info()"
   ]
  },
  {
   "cell_type": "code",
   "execution_count": 20,
   "metadata": {
    "pycharm": {
     "is_executing": false
    }
   },
   "outputs": [
    {
     "data": {
      "text/plain": [
       "array([4. , 4. , 4. , ..., 4.5, 4. , 0. ])"
      ]
     },
     "execution_count": 20,
     "metadata": {},
     "output_type": "execute_result"
    }
   ],
   "source": [
    "df['prop_review_score'].values"
   ]
  },
  {
   "cell_type": "code",
   "execution_count": 21,
   "metadata": {
    "pycharm": {
     "is_executing": false
    }
   },
   "outputs": [],
   "source": [
    "to_sns = df.drop('date_time', axis=1)"
   ]
  },
  {
   "cell_type": "code",
   "execution_count": 22,
   "metadata": {
    "pycharm": {
     "is_executing": false
    }
   },
   "outputs": [],
   "source": [
    "# fig, ax = plt.subplots(figsize=(20,8))         # Sample figsize in inches\n",
    "# sns.heatmap(to_sns)"
   ]
  },
  {
   "cell_type": "code",
   "execution_count": 23,
   "metadata": {
    "pycharm": {
     "is_executing": false
    }
   },
   "outputs": [
    {
     "data": {
      "text/plain": [
       "<matplotlib.axes._subplots.AxesSubplot at 0x7f02fb7223d0>"
      ]
     },
     "execution_count": 23,
     "metadata": {},
     "output_type": "execute_result"
    },
    {
     "data": {
      "image/png": "[encoded data removed]",
      "text/plain": [
       "<Figure size 432x288 with 1 Axes>"
      ]
     },
     "metadata": {
      "needs_background": "light"
     },
     "output_type": "display_data"
    }
   ],
   "source": [
    "sns.distplot(to_sns['prop_review_score'])"
   ]
  },
  {
   "cell_type": "code",
   "execution_count": 24,
   "metadata": {
    "pycharm": {
     "is_executing": false
    }
   },
   "outputs": [],
   "source": [
    "# ax = sns.regplot(x=df['price_usd'], y=df['click_bool'])"
   ]
  },
  {
   "cell_type": "code",
   "execution_count": 25,
   "metadata": {
    "pycharm": {
     "is_executing": true
    }
   },
   "outputs": [
    {
     "data": {
      "image/png": "[encoded data removed]",
      "text/plain": [
       "<Figure size 432x288 with 1 Axes>"
      ]
     },
     "metadata": {
      "needs_background": "light"
     },
     "output_type": "display_data"
    }
   ],
   "source": [
    "ax = sns.scatterplot(x=df['prop_review_score'], y=df['price_usd'])"
   ]
  },
  {
   "cell_type": "code",
   "execution_count": 26,
   "metadata": {
    "pycharm": {
     "is_executing": true
    }
   },
   "outputs": [
    {
     "data": {
      "image/png": "[encoded data removed]",
      "text/plain": [
       "<Figure size 432x288 with 1 Axes>"
      ]
     },
     "metadata": {
      "needs_background": "light"
     },
     "output_type": "display_data"
    }
   ],
   "source": [
    "ax = sns.scatterplot(x=df['srch_length_of_stay'], y=df['price_usd'])"
   ]
  },
  {
   "cell_type": "code",
   "execution_count": 27,
   "metadata": {
    "pycharm": {
     "is_executing": true
    }
   },
   "outputs": [
    {
     "data": {
      "text/plain": [
       "<matplotlib.axes._subplots.AxesSubplot at 0x7f02fb258fd0>"
      ]
     },
     "execution_count": 27,
     "metadata": {},
     "output_type": "execute_result"
    },
    {
     "data": {
      "image/png": "[encoded data removed]",
      "text/plain": [
       "<Figure size 432x288 with 1 Axes>"
      ]
     },
     "metadata": {
      "needs_background": "light"
     },
     "output_type": "display_data"
    }
   ],
   "source": [
    "df['price_usd'].plot.box()"
   ]
  },
  {
   "cell_type": "code",
   "execution_count": 28,
   "metadata": {
    "pycharm": {
     "is_executing": true
    }
   },
   "outputs": [
    {
     "data": {
      "text/plain": [
       "(7043117.0, 0.0, 238.86103829280086, 122.05)"
      ]
     },
     "execution_count": 28,
     "metadata": {},
     "output_type": "execute_result"
    }
   ],
   "source": [
    "df['price_usd'].max(), df['price_usd'].min(), df['price_usd'].mean(), df['price_usd'].median()"
   ]
  },
  {
   "cell_type": "code",
   "execution_count": 29,
   "metadata": {
    "pycharm": {
     "is_executing": true
    }
   },
   "outputs": [],
   "source": [
    "price = df[['visitor_location_country_id', 'prop_country_id', 'prop_starrating', 'prop_id', 'srch_length_of_stay', 'position', 'promotion_flag', 'price_usd']][df['price_usd'] > 10000]"
   ]
  },
  {
   "cell_type": "code",
   "execution_count": 30,
   "metadata": {
    "pycharm": {
     "is_executing": true
    }
   },
   "outputs": [
    {
     "data": {
      "text/html": [
       "<div>\n",
       "<style scoped>\n",
       "    .dataframe tbody tr th:only-of-type {\n",
       "        vertical-align: middle;\n",
       "    }\n",
       "\n",
       "    .dataframe tbody tr th {\n",
       "        vertical-align: top;\n",
       "    }\n",
       "\n",
       "    .dataframe thead th {\n",
       "        text-align: right;\n",
       "    }\n",
       "</style>\n",
       "<table border=\"1\" class=\"dataframe\">\n",
       "  <thead>\n",
       "    <tr style=\"text-align: right;\">\n",
       "      <th></th>\n",
       "      <th>visitor_location_country_id</th>\n",
       "      <th>prop_country_id</th>\n",
       "      <th>prop_starrating</th>\n",
       "      <th>prop_id</th>\n",
       "      <th>srch_length_of_stay</th>\n",
       "      <th>position</th>\n",
       "      <th>promotion_flag</th>\n",
       "      <th>price_usd</th>\n",
       "    </tr>\n",
       "  </thead>\n",
       "  <tbody>\n",
       "    <tr>\n",
       "      <th>1126</th>\n",
       "      <td>160</td>\n",
       "      <td>23</td>\n",
       "      <td>4</td>\n",
       "      <td>38698</td>\n",
       "      <td>2</td>\n",
       "      <td>26</td>\n",
       "      <td>0</td>\n",
       "      <td>11589.00</td>\n",
       "    </tr>\n",
       "    <tr>\n",
       "      <th>1127</th>\n",
       "      <td>160</td>\n",
       "      <td>23</td>\n",
       "      <td>5</td>\n",
       "      <td>75957</td>\n",
       "      <td>2</td>\n",
       "      <td>30</td>\n",
       "      <td>0</td>\n",
       "      <td>17142.00</td>\n",
       "    </tr>\n",
       "    <tr>\n",
       "      <th>1129</th>\n",
       "      <td>160</td>\n",
       "      <td>23</td>\n",
       "      <td>4</td>\n",
       "      <td>111036</td>\n",
       "      <td>2</td>\n",
       "      <td>31</td>\n",
       "      <td>0</td>\n",
       "      <td>13303.00</td>\n",
       "    </tr>\n",
       "    <tr>\n",
       "      <th>7695</th>\n",
       "      <td>219</td>\n",
       "      <td>219</td>\n",
       "      <td>4</td>\n",
       "      <td>719</td>\n",
       "      <td>3</td>\n",
       "      <td>12</td>\n",
       "      <td>0</td>\n",
       "      <td>210412.00</td>\n",
       "    </tr>\n",
       "    <tr>\n",
       "      <th>7696</th>\n",
       "      <td>219</td>\n",
       "      <td>219</td>\n",
       "      <td>2</td>\n",
       "      <td>101652</td>\n",
       "      <td>3</td>\n",
       "      <td>21</td>\n",
       "      <td>1</td>\n",
       "      <td>102601.00</td>\n",
       "    </tr>\n",
       "    <tr>\n",
       "      <th>7936</th>\n",
       "      <td>100</td>\n",
       "      <td>100</td>\n",
       "      <td>4</td>\n",
       "      <td>50810</td>\n",
       "      <td>1</td>\n",
       "      <td>1</td>\n",
       "      <td>1</td>\n",
       "      <td>14874.71</td>\n",
       "    </tr>\n",
       "    <tr>\n",
       "      <th>16433</th>\n",
       "      <td>216</td>\n",
       "      <td>138</td>\n",
       "      <td>5</td>\n",
       "      <td>24079</td>\n",
       "      <td>1</td>\n",
       "      <td>32</td>\n",
       "      <td>0</td>\n",
       "      <td>26743.00</td>\n",
       "    </tr>\n",
       "    <tr>\n",
       "      <th>20452</th>\n",
       "      <td>219</td>\n",
       "      <td>219</td>\n",
       "      <td>3</td>\n",
       "      <td>82897</td>\n",
       "      <td>4</td>\n",
       "      <td>9</td>\n",
       "      <td>1</td>\n",
       "      <td>13651.00</td>\n",
       "    </tr>\n",
       "    <tr>\n",
       "      <th>20453</th>\n",
       "      <td>219</td>\n",
       "      <td>219</td>\n",
       "      <td>3</td>\n",
       "      <td>103908</td>\n",
       "      <td>4</td>\n",
       "      <td>13</td>\n",
       "      <td>0</td>\n",
       "      <td>13932.00</td>\n",
       "    </tr>\n",
       "    <tr>\n",
       "      <th>20454</th>\n",
       "      <td>219</td>\n",
       "      <td>219</td>\n",
       "      <td>4</td>\n",
       "      <td>114209</td>\n",
       "      <td>4</td>\n",
       "      <td>17</td>\n",
       "      <td>0</td>\n",
       "      <td>18995.00</td>\n",
       "    </tr>\n",
       "    <tr>\n",
       "      <th>20455</th>\n",
       "      <td>219</td>\n",
       "      <td>219</td>\n",
       "      <td>3</td>\n",
       "      <td>134077</td>\n",
       "      <td>4</td>\n",
       "      <td>6</td>\n",
       "      <td>1</td>\n",
       "      <td>11520.00</td>\n",
       "    </tr>\n",
       "    <tr>\n",
       "      <th>27431</th>\n",
       "      <td>216</td>\n",
       "      <td>219</td>\n",
       "      <td>3</td>\n",
       "      <td>49062</td>\n",
       "      <td>3</td>\n",
       "      <td>27</td>\n",
       "      <td>0</td>\n",
       "      <td>10143.00</td>\n",
       "    </tr>\n",
       "    <tr>\n",
       "      <th>31523</th>\n",
       "      <td>92</td>\n",
       "      <td>55</td>\n",
       "      <td>4</td>\n",
       "      <td>54876</td>\n",
       "      <td>7</td>\n",
       "      <td>13</td>\n",
       "      <td>1</td>\n",
       "      <td>338914.10</td>\n",
       "    </tr>\n",
       "    <tr>\n",
       "      <th>31524</th>\n",
       "      <td>92</td>\n",
       "      <td>55</td>\n",
       "      <td>5</td>\n",
       "      <td>67755</td>\n",
       "      <td>7</td>\n",
       "      <td>2</td>\n",
       "      <td>1</td>\n",
       "      <td>432576.91</td>\n",
       "    </tr>\n",
       "    <tr>\n",
       "      <th>42180</th>\n",
       "      <td>98</td>\n",
       "      <td>98</td>\n",
       "      <td>4</td>\n",
       "      <td>24757</td>\n",
       "      <td>1</td>\n",
       "      <td>19</td>\n",
       "      <td>1</td>\n",
       "      <td>99560.26</td>\n",
       "    </tr>\n",
       "    <tr>\n",
       "      <th>42181</th>\n",
       "      <td>98</td>\n",
       "      <td>98</td>\n",
       "      <td>5</td>\n",
       "      <td>36763</td>\n",
       "      <td>1</td>\n",
       "      <td>10</td>\n",
       "      <td>0</td>\n",
       "      <td>258254.51</td>\n",
       "    </tr>\n",
       "    <tr>\n",
       "      <th>42182</th>\n",
       "      <td>98</td>\n",
       "      <td>98</td>\n",
       "      <td>4</td>\n",
       "      <td>97016</td>\n",
       "      <td>1</td>\n",
       "      <td>9</td>\n",
       "      <td>1</td>\n",
       "      <td>102817.88</td>\n",
       "    </tr>\n",
       "    <tr>\n",
       "      <th>42235</th>\n",
       "      <td>219</td>\n",
       "      <td>219</td>\n",
       "      <td>3</td>\n",
       "      <td>43966</td>\n",
       "      <td>7</td>\n",
       "      <td>13</td>\n",
       "      <td>0</td>\n",
       "      <td>150055.00</td>\n",
       "    </tr>\n",
       "    <tr>\n",
       "      <th>42236</th>\n",
       "      <td>219</td>\n",
       "      <td>219</td>\n",
       "      <td>3</td>\n",
       "      <td>121665</td>\n",
       "      <td>7</td>\n",
       "      <td>31</td>\n",
       "      <td>0</td>\n",
       "      <td>214981.00</td>\n",
       "    </tr>\n",
       "    <tr>\n",
       "      <th>42237</th>\n",
       "      <td>219</td>\n",
       "      <td>219</td>\n",
       "      <td>3</td>\n",
       "      <td>125447</td>\n",
       "      <td>7</td>\n",
       "      <td>10</td>\n",
       "      <td>1</td>\n",
       "      <td>141214.00</td>\n",
       "    </tr>\n",
       "    <tr>\n",
       "      <th>43118</th>\n",
       "      <td>216</td>\n",
       "      <td>220</td>\n",
       "      <td>0</td>\n",
       "      <td>6193</td>\n",
       "      <td>1</td>\n",
       "      <td>18</td>\n",
       "      <td>0</td>\n",
       "      <td>44802.36</td>\n",
       "    </tr>\n",
       "    <tr>\n",
       "      <th>43119</th>\n",
       "      <td>216</td>\n",
       "      <td>220</td>\n",
       "      <td>0</td>\n",
       "      <td>127036</td>\n",
       "      <td>1</td>\n",
       "      <td>15</td>\n",
       "      <td>0</td>\n",
       "      <td>17350.93</td>\n",
       "    </tr>\n",
       "    <tr>\n",
       "      <th>47805</th>\n",
       "      <td>26</td>\n",
       "      <td>158</td>\n",
       "      <td>5</td>\n",
       "      <td>47927</td>\n",
       "      <td>14</td>\n",
       "      <td>8</td>\n",
       "      <td>1</td>\n",
       "      <td>13000.00</td>\n",
       "    </tr>\n",
       "    <tr>\n",
       "      <th>47806</th>\n",
       "      <td>26</td>\n",
       "      <td>158</td>\n",
       "      <td>5</td>\n",
       "      <td>116314</td>\n",
       "      <td>14</td>\n",
       "      <td>22</td>\n",
       "      <td>0</td>\n",
       "      <td>10464.00</td>\n",
       "    </tr>\n",
       "    <tr>\n",
       "      <th>52699</th>\n",
       "      <td>100</td>\n",
       "      <td>216</td>\n",
       "      <td>4</td>\n",
       "      <td>7881</td>\n",
       "      <td>1</td>\n",
       "      <td>3</td>\n",
       "      <td>1</td>\n",
       "      <td>25401.72</td>\n",
       "    </tr>\n",
       "    <tr>\n",
       "      <th>55297</th>\n",
       "      <td>181</td>\n",
       "      <td>206</td>\n",
       "      <td>4</td>\n",
       "      <td>44634</td>\n",
       "      <td>1</td>\n",
       "      <td>6</td>\n",
       "      <td>1</td>\n",
       "      <td>47288.00</td>\n",
       "    </tr>\n",
       "    <tr>\n",
       "      <th>55298</th>\n",
       "      <td>181</td>\n",
       "      <td>206</td>\n",
       "      <td>4</td>\n",
       "      <td>88861</td>\n",
       "      <td>1</td>\n",
       "      <td>2</td>\n",
       "      <td>1</td>\n",
       "      <td>68463.00</td>\n",
       "    </tr>\n",
       "    <tr>\n",
       "      <th>55299</th>\n",
       "      <td>181</td>\n",
       "      <td>206</td>\n",
       "      <td>4</td>\n",
       "      <td>130897</td>\n",
       "      <td>1</td>\n",
       "      <td>18</td>\n",
       "      <td>0</td>\n",
       "      <td>72551.00</td>\n",
       "    </tr>\n",
       "    <tr>\n",
       "      <th>66088</th>\n",
       "      <td>100</td>\n",
       "      <td>100</td>\n",
       "      <td>4</td>\n",
       "      <td>21362</td>\n",
       "      <td>1</td>\n",
       "      <td>20</td>\n",
       "      <td>0</td>\n",
       "      <td>370951.45</td>\n",
       "    </tr>\n",
       "    <tr>\n",
       "      <th>66089</th>\n",
       "      <td>100</td>\n",
       "      <td>100</td>\n",
       "      <td>3</td>\n",
       "      <td>96029</td>\n",
       "      <td>1</td>\n",
       "      <td>28</td>\n",
       "      <td>0</td>\n",
       "      <td>137114.27</td>\n",
       "    </tr>\n",
       "  </tbody>\n",
       "</table>\n",
       "</div>"
      ],
      "text/plain": [
       "       visitor_location_country_id  prop_country_id  prop_starrating  prop_id  \\\n",
       "1126                           160               23                4    38698   \n",
       "1127                           160               23                5    75957   \n",
       "1129                           160               23                4   111036   \n",
       "7695                           219              219                4      719   \n",
       "7696                           219              219                2   101652   \n",
       "7936                           100              100                4    50810   \n",
       "16433                          216              138                5    24079   \n",
       "20452                          219              219                3    82897   \n",
       "20453                          219              219                3   103908   \n",
       "20454                          219              219                4   114209   \n",
       "20455                          219              219                3   134077   \n",
       "27431                          216              219                3    49062   \n",
       "31523                           92               55                4    54876   \n",
       "31524                           92               55                5    67755   \n",
       "42180                           98               98                4    24757   \n",
       "42181                           98               98                5    36763   \n",
       "42182                           98               98                4    97016   \n",
       "42235                          219              219                3    43966   \n",
       "42236                          219              219                3   121665   \n",
       "42237                          219              219                3   125447   \n",
       "43118                          216              220                0     6193   \n",
       "43119                          216              220                0   127036   \n",
       "47805                           26              158                5    47927   \n",
       "47806                           26              158                5   116314   \n",
       "52699                          100              216                4     7881   \n",
       "55297                          181              206                4    44634   \n",
       "55298                          181              206                4    88861   \n",
       "55299                          181              206                4   130897   \n",
       "66088                          100              100                4    21362   \n",
       "66089                          100              100                3    96029   \n",
       "\n",
       "       srch_length_of_stay  position  promotion_flag  price_usd  \n",
       "1126                     2        26               0   11589.00  \n",
       "1127                     2        30               0   17142.00  \n",
       "1129                     2        31               0   13303.00  \n",
       "7695                     3        12               0  210412.00  \n",
       "7696                     3        21               1  102601.00  \n",
       "7936                     1         1               1   14874.71  \n",
       "16433                    1        32               0   26743.00  \n",
       "20452                    4         9               1   13651.00  \n",
       "20453                    4        13               0   13932.00  \n",
       "20454                    4        17               0   18995.00  \n",
       "20455                    4         6               1   11520.00  \n",
       "27431                    3        27               0   10143.00  \n",
       "31523                    7        13               1  338914.10  \n",
       "31524                    7         2               1  432576.91  \n",
       "42180                    1        19               1   99560.26  \n",
       "42181                    1        10               0  258254.51  \n",
       "42182                    1         9               1  102817.88  \n",
       "42235                    7        13               0  150055.00  \n",
       "42236                    7        31               0  214981.00  \n",
       "42237                    7        10               1  141214.00  \n",
       "43118                    1        18               0   44802.36  \n",
       "43119                    1        15               0   17350.93  \n",
       "47805                   14         8               1   13000.00  \n",
       "47806                   14        22               0   10464.00  \n",
       "52699                    1         3               1   25401.72  \n",
       "55297                    1         6               1   47288.00  \n",
       "55298                    1         2               1   68463.00  \n",
       "55299                    1        18               0   72551.00  \n",
       "66088                    1        20               0  370951.45  \n",
       "66089                    1        28               0  137114.27  "
      ]
     },
     "execution_count": 30,
     "metadata": {},
     "output_type": "execute_result"
    }
   ],
   "source": [
    "price.head(30)"
   ]
  },
  {
   "cell_type": "code",
   "execution_count": 31,
   "metadata": {
    "pycharm": {
     "is_executing": true
    }
   },
   "outputs": [
    {
     "data": {
      "text/html": [
       "<div>\n",
       "<style scoped>\n",
       "    .dataframe tbody tr th:only-of-type {\n",
       "        vertical-align: middle;\n",
       "    }\n",
       "\n",
       "    .dataframe tbody tr th {\n",
       "        vertical-align: top;\n",
       "    }\n",
       "\n",
       "    .dataframe thead th {\n",
       "        text-align: right;\n",
       "    }\n",
       "</style>\n",
       "<table border=\"1\" class=\"dataframe\">\n",
       "  <thead>\n",
       "    <tr style=\"text-align: right;\">\n",
       "      <th></th>\n",
       "      <th>visitor_location_country_id</th>\n",
       "      <th>prop_country_id</th>\n",
       "      <th>prop_starrating</th>\n",
       "      <th>prop_id</th>\n",
       "      <th>srch_length_of_stay</th>\n",
       "      <th>position</th>\n",
       "      <th>promotion_flag</th>\n",
       "      <th>price_usd</th>\n",
       "    </tr>\n",
       "  </thead>\n",
       "  <tbody>\n",
       "    <tr>\n",
       "      <th>count</th>\n",
       "      <td>382.000000</td>\n",
       "      <td>382.000000</td>\n",
       "      <td>382.000000</td>\n",
       "      <td>382.000000</td>\n",
       "      <td>382.000000</td>\n",
       "      <td>382.000000</td>\n",
       "      <td>382.000000</td>\n",
       "      <td>3.820000e+02</td>\n",
       "    </tr>\n",
       "    <tr>\n",
       "      <th>mean</th>\n",
       "      <td>148.918848</td>\n",
       "      <td>159.937173</td>\n",
       "      <td>3.659686</td>\n",
       "      <td>72017.204188</td>\n",
       "      <td>2.633508</td>\n",
       "      <td>15.615183</td>\n",
       "      <td>0.329843</td>\n",
       "      <td>2.151324e+05</td>\n",
       "    </tr>\n",
       "    <tr>\n",
       "      <th>std</th>\n",
       "      <td>66.735984</td>\n",
       "      <td>74.536477</td>\n",
       "      <td>0.990452</td>\n",
       "      <td>40481.593727</td>\n",
       "      <td>2.025229</td>\n",
       "      <td>9.146867</td>\n",
       "      <td>0.470773</td>\n",
       "      <td>5.834682e+05</td>\n",
       "    </tr>\n",
       "    <tr>\n",
       "      <th>min</th>\n",
       "      <td>5.000000</td>\n",
       "      <td>4.000000</td>\n",
       "      <td>0.000000</td>\n",
       "      <td>149.000000</td>\n",
       "      <td>1.000000</td>\n",
       "      <td>1.000000</td>\n",
       "      <td>0.000000</td>\n",
       "      <td>1.000700e+04</td>\n",
       "    </tr>\n",
       "    <tr>\n",
       "      <th>25%</th>\n",
       "      <td>92.000000</td>\n",
       "      <td>92.000000</td>\n",
       "      <td>3.000000</td>\n",
       "      <td>40029.750000</td>\n",
       "      <td>1.000000</td>\n",
       "      <td>8.000000</td>\n",
       "      <td>0.000000</td>\n",
       "      <td>1.644212e+04</td>\n",
       "    </tr>\n",
       "    <tr>\n",
       "      <th>50%</th>\n",
       "      <td>158.000000</td>\n",
       "      <td>214.500000</td>\n",
       "      <td>4.000000</td>\n",
       "      <td>73058.000000</td>\n",
       "      <td>2.000000</td>\n",
       "      <td>15.000000</td>\n",
       "      <td>0.000000</td>\n",
       "      <td>5.698247e+04</td>\n",
       "    </tr>\n",
       "    <tr>\n",
       "      <th>75%</th>\n",
       "      <td>216.000000</td>\n",
       "      <td>219.000000</td>\n",
       "      <td>4.000000</td>\n",
       "      <td>108302.000000</td>\n",
       "      <td>3.000000</td>\n",
       "      <td>24.000000</td>\n",
       "      <td>1.000000</td>\n",
       "      <td>1.770460e+05</td>\n",
       "    </tr>\n",
       "    <tr>\n",
       "      <th>max</th>\n",
       "      <td>220.000000</td>\n",
       "      <td>225.000000</td>\n",
       "      <td>5.000000</td>\n",
       "      <td>140696.000000</td>\n",
       "      <td>14.000000</td>\n",
       "      <td>32.000000</td>\n",
       "      <td>1.000000</td>\n",
       "      <td>7.043117e+06</td>\n",
       "    </tr>\n",
       "  </tbody>\n",
       "</table>\n",
       "</div>"
      ],
      "text/plain": [
       "       visitor_location_country_id  prop_country_id  prop_starrating  \\\n",
       "count                   382.000000       382.000000       382.000000   \n",
       "mean                    148.918848       159.937173         3.659686   \n",
       "std                      66.735984        74.536477         0.990452   \n",
       "min                       5.000000         4.000000         0.000000   \n",
       "25%                      92.000000        92.000000         3.000000   \n",
       "50%                     158.000000       214.500000         4.000000   \n",
       "75%                     216.000000       219.000000         4.000000   \n",
       "max                     220.000000       225.000000         5.000000   \n",
       "\n",
       "             prop_id  srch_length_of_stay    position  promotion_flag  \\\n",
       "count     382.000000           382.000000  382.000000      382.000000   \n",
       "mean    72017.204188             2.633508   15.615183        0.329843   \n",
       "std     40481.593727             2.025229    9.146867        0.470773   \n",
       "min       149.000000             1.000000    1.000000        0.000000   \n",
       "25%     40029.750000             1.000000    8.000000        0.000000   \n",
       "50%     73058.000000             2.000000   15.000000        0.000000   \n",
       "75%    108302.000000             3.000000   24.000000        1.000000   \n",
       "max    140696.000000            14.000000   32.000000        1.000000   \n",
       "\n",
       "          price_usd  \n",
       "count  3.820000e+02  \n",
       "mean   2.151324e+05  \n",
       "std    5.834682e+05  \n",
       "min    1.000700e+04  \n",
       "25%    1.644212e+04  \n",
       "50%    5.698247e+04  \n",
       "75%    1.770460e+05  \n",
       "max    7.043117e+06  "
      ]
     },
     "execution_count": 31,
     "metadata": {},
     "output_type": "execute_result"
    }
   ],
   "source": [
    "price.describe()"
   ]
  },
  {
   "cell_type": "code",
   "execution_count": 32,
   "metadata": {
    "pycharm": {
     "is_executing": true
    }
   },
   "outputs": [
    {
     "name": "stdout",
     "output_type": "stream",
     "text": [
      "<class 'pandas.core.frame.DataFrame'>\n",
      "Int64Index: 382 entries, 1126 to 962898\n",
      "Data columns (total 8 columns):\n",
      "visitor_location_country_id    382 non-null int64\n",
      "prop_country_id                382 non-null int64\n",
      "prop_starrating                382 non-null int64\n",
      "prop_id                        382 non-null int64\n",
      "srch_length_of_stay            382 non-null int64\n",
      "position                       382 non-null int64\n",
      "promotion_flag                 382 non-null int64\n",
      "price_usd                      382 non-null float64\n",
      "dtypes: float64(1), int64(7)\n",
      "memory usage: 26.9 KB\n"
     ]
    }
   ],
   "source": [
    "price.info()"
   ]
  },
  {
   "cell_type": "code",
   "execution_count": 33,
   "metadata": {
    "pycharm": {
     "is_executing": true
    }
   },
   "outputs": [
    {
     "data": {
      "text/plain": [
       "array([219, 100, 158,  31, 216,  15,  98,  55,  30, 137, 215, 117,  56,\n",
       "        53, 181, 221,  35, 202,  99, 132,  59, 127, 109, 131,  70, 220,\n",
       "       129,  92,  91, 113, 205,  14,  41, 154, 164,   9, 138, 194, 103,\n",
       "        81,  50,   4, 102, 106,  60,  73,  26,  16, 225,  39,  23, 230,\n",
       "        32, 212, 125, 157, 185, 151,  71,  10,  80,  68,  33, 152,  61,\n",
       "       153, 178,  18, 182,  63,  48, 119, 159, 206, 156, 134, 195,  88,\n",
       "       223,  97, 123, 211, 184,  13,  86, 213,   2,  40,  83,  37,  21,\n",
       "        17,  45,  74, 229,  47, 224, 200, 149, 122, 187,  27,  93,  69,\n",
       "       145,  42,  34, 190,  96, 162,  11,  76,  90, 186,  38, 155, 141,\n",
       "       196, 163, 226, 124,  77, 189, 214, 173, 201,  22, 167, 169, 171,\n",
       "        65, 179, 146, 203, 143, 177,  51,  72, 136, 128, 120, 111,  19,\n",
       "       160,  20,  25, 217,  57, 197,  44, 161,  89, 172, 192, 112, 140,\n",
       "        62, 207, 222, 208,   7,   1,  82,  79,  46, 108, 135, 180, 126])"
      ]
     },
     "execution_count": 33,
     "metadata": {},
     "output_type": "execute_result"
    }
   ],
   "source": [
    "df['prop_country_id'].unique()"
   ]
  },
  {
   "cell_type": "code",
   "execution_count": 34,
   "metadata": {
    "pycharm": {
     "is_executing": true
    }
   },
   "outputs": [
    {
     "data": {
      "text/plain": [
       "99780"
      ]
     },
     "execution_count": 34,
     "metadata": {},
     "output_type": "execute_result"
    }
   ],
   "source": [
    "len(df['prop_id'].unique())"
   ]
  },
  {
   "cell_type": "code",
   "execution_count": 35,
   "metadata": {
    "pycharm": {
     "is_executing": true
    }
   },
   "outputs": [
    {
     "data": {
      "text/plain": [
       "array([ 38698,  75957, 111036,    719, 101652,  50810,  24079,  82897,\n",
       "       103908, 114209, 134077,  49062,  54876,  67755,  24757,  36763,\n",
       "        97016,  43966, 121665, 125447,   6193, 127036,  47927, 116314,\n",
       "         7881,  44634,  88861, 130897,  21362,  96029, 119784,  92307,\n",
       "       123861,  43287,  41946,  55399,  96513,  21378,  79215,  96490,\n",
       "       100786, 120146, 137342,  73995,  81800, 137604,  14912,   7310,\n",
       "        51588,  91068, 118778,  86815,  24037,   6413,  79008, 120160,\n",
       "        32292,  36498, 133811,  34972,  47977,  85931,  91209,    640,\n",
       "         9440,  15884, 117347, 134671,  63437,  53684,  53840,  83753,\n",
       "        32760,  44791,  64433,  42184, 110840, 130667,  80475, 126657,\n",
       "         2308,  30319,  58481,  67808, 116900,  92190, 100626, 110910,\n",
       "       113386, 122487, 139453, 128600,   7152,  43683,  62654,  83194,\n",
       "        84549, 130392,  10552,  11218,  17579, 133579,  62779,  74181,\n",
       "        34552,  18410,  38419,  33023,  36952, 100748,   2136,  45832,\n",
       "        51616,  68364,  81787,  13728,  47308,  66609, 126750,  25159,\n",
       "        81542, 123012,  40209,  56431, 130646,  95307,  77454, 110812,\n",
       "        21795, 130532, 107513,  91848,  93033, 102003,  74752, 138681,\n",
       "        58204,   4558,  57098,  60875,  62823,  68170, 126108, 126910,\n",
       "        97799,  51111,  82378,  89643,  77192, 114442, 119806, 126555,\n",
       "        39970,  47489,  67555,  93099,  35389,  38773,  97901,  13751,\n",
       "       111529,  63604,   5961,  53003, 112902,  84227, 112237,   1996,\n",
       "         3213,  44923,  79740,  90730,    700,  29938,  53257, 110112,\n",
       "       106652,  22019,  51849,  76130,  77004,  96329, 119412,   4610,\n",
       "        46162,  56417, 122660,  24428,  73058,  36289,  45211,  72580,\n",
       "        79318, 124937,  21667,  35264,  69261,  13915,  32410,   5610,\n",
       "        45390, 132060, 140635, 136738,  46963,  26130,  54873,  65855,\n",
       "        83953, 120822,   9813,  27069,  13613,   9388, 121534, 129580,\n",
       "       113971,  41944,  71654,  86391,   7044,  31638,  43883,  98331,\n",
       "       110367, 124563,  79264,  29256, 128156,   9752,  21946,  24242,\n",
       "       117971,  54465,   6248,  64944,  90699,  90718, 103469, 119230,\n",
       "        12546,  42659,  71774,  49855,  88389, 110786,  91408, 139406,\n",
       "        25486,  48309,  45684,  73123, 113644, 119256, 126860,  29411,\n",
       "       101875,  38913, 120248,  22106, 113582,  36183,  42937,  71671,\n",
       "        97099,   9744, 103321,  97732, 102874, 128472, 138199,  73170,\n",
       "        91996, 101980, 131577,  22312,  88008, 112870,   2094,  47392,\n",
       "        47864,  64949,  57587,  92210,  46767,  63279,  94573, 130144,\n",
       "         3625,  19435,  68826,  76755,   9574,  77292,  77477,  95331,\n",
       "        10242,  52139, 135410, 140696,  48660,  93462, 105232,  40630,\n",
       "        46497,  26945,  99132,  72522,  46955, 140289,  29927,    458,\n",
       "        56325,  31091,  92579, 111697, 132625, 139750,  12341,  38363,\n",
       "        49995, 121267,  74514,  84167,  91611,  93055, 112666,  28433,\n",
       "        68332,  35810, 124355,  17633, 110940, 113024,  50537, 114189,\n",
       "       116565, 134059,  41183,  65983,  97615,  53989, 138380, 139416,\n",
       "        21182,  22583,  25863,  56775,  74941,    149,  56761,  58094,\n",
       "        92100, 103036, 108565, 132023, 136759,  28248,  53341,  76656,\n",
       "       122844,  76903, 103345,  66811, 137793, 138900])"
      ]
     },
     "execution_count": 35,
     "metadata": {},
     "output_type": "execute_result"
    }
   ],
   "source": [
    "price['prop_id'].unique()"
   ]
  },
  {
   "cell_type": "code",
   "execution_count": 36,
   "metadata": {
    "pycharm": {
     "is_executing": true
    }
   },
   "outputs": [],
   "source": [
    "# ax = sns.swarmplot(x='srch_length_of_stay', y='price_usd', data=df)"
   ]
  },
  {
   "cell_type": "code",
   "execution_count": 37,
   "metadata": {
    "pycharm": {
     "is_executing": true
    }
   },
   "outputs": [
    {
     "data": {
      "text/plain": [
       "srch_length_of_stay\n",
       "1     2085957.00\n",
       "2     7043117.00\n",
       "3     1556698.00\n",
       "4     2663400.00\n",
       "5      336443.00\n",
       "6        6712.00\n",
       "7      432576.91\n",
       "8       62323.22\n",
       "9       16413.83\n",
       "10       2986.73\n",
       "11      77784.00\n",
       "12       3058.56\n",
       "13       7204.69\n",
       "14      13000.00\n",
       "15       1430.00\n",
       "16       2721.48\n",
       "17        659.00\n",
       "18        459.93\n",
       "19        940.00\n",
       "20        644.43\n",
       "21       1424.44\n",
       "22        637.00\n",
       "23       1332.00\n",
       "24        917.00\n",
       "25       1453.65\n",
       "26        627.00\n",
       "27       2073.00\n",
       "28        798.62\n",
       "29        263.00\n",
       "30        480.00\n",
       "31        269.00\n",
       "32        197.18\n",
       "33        202.65\n",
       "34        276.00\n",
       "38         99.72\n",
       "40        156.25\n",
       "41        195.00\n",
       "44        100.00\n",
       "57        136.10\n",
       "58        104.84\n",
       "Name: price_usd, dtype: float64"
      ]
     },
     "execution_count": 37,
     "metadata": {},
     "output_type": "execute_result"
    }
   ],
   "source": [
    "df.groupby(\"srch_length_of_stay\")['price_usd'].max()"
   ]
  },
  {
   "cell_type": "code",
   "execution_count": 38,
   "metadata": {
    "pycharm": {
     "is_executing": true
    }
   },
   "outputs": [
    {
     "data": {
      "text/plain": [
       "srch_length_of_stay\n",
       "1       0.00\n",
       "2       0.00\n",
       "3       0.01\n",
       "4       0.07\n",
       "5       1.35\n",
       "6       0.04\n",
       "7       1.46\n",
       "8       5.11\n",
       "9       1.72\n",
       "10      3.41\n",
       "11     14.00\n",
       "12     11.48\n",
       "13     13.51\n",
       "14      9.09\n",
       "15      8.37\n",
       "16      9.97\n",
       "17      0.01\n",
       "18      6.54\n",
       "19     27.90\n",
       "20     18.39\n",
       "21     22.00\n",
       "22     18.00\n",
       "23      2.68\n",
       "24     32.03\n",
       "25     17.06\n",
       "26     31.15\n",
       "27     28.00\n",
       "28     15.00\n",
       "29     62.00\n",
       "30     29.00\n",
       "31     89.00\n",
       "32     77.55\n",
       "33     62.00\n",
       "34     51.00\n",
       "38     39.89\n",
       "40     66.75\n",
       "41     95.00\n",
       "44     71.00\n",
       "57    136.10\n",
       "58     61.67\n",
       "Name: price_usd, dtype: float64"
      ]
     },
     "execution_count": 38,
     "metadata": {},
     "output_type": "execute_result"
    }
   ],
   "source": [
    "df.groupby(\"srch_length_of_stay\")['price_usd'].min()"
   ]
  },
  {
   "cell_type": "markdown",
   "metadata": {},
   "source": [
    "### something fishy here"
   ]
  },
  {
   "cell_type": "code",
   "execution_count": 39,
   "metadata": {
    "pycharm": {
     "is_executing": true
    }
   },
   "outputs": [
    {
     "data": {
      "text/plain": [
       "<matplotlib.axes._subplots.AxesSubplot at 0x7f02fb1f56d0>"
      ]
     },
     "execution_count": 39,
     "metadata": {},
     "output_type": "execute_result"
    },
    {
     "data": {
      "image/png": "[encoded data removed]",
      "text/plain": [
       "<Figure size 432x288 with 1 Axes>"
      ]
     },
     "metadata": {
      "needs_background": "light"
     },
     "output_type": "display_data"
    }
   ],
   "source": [
    "df['price_usd'].plot.hist()"
   ]
  },
  {
   "cell_type": "code",
   "execution_count": 40,
   "metadata": {
    "pycharm": {
     "is_executing": true
    }
   },
   "outputs": [
    {
     "data": {
      "text/plain": [
       "array([ 1,  2,  4,  3,  6,  9,  5,  8,  7, 14, 12, 10, 15, 11, 17, 27, 28,\n",
       "       25, 13, 18, 16, 21, 24, 22, 20, 19, 23, 26, 57, 44, 34, 33, 41, 30,\n",
       "       40, 38, 31, 29, 58, 32])"
      ]
     },
     "execution_count": 40,
     "metadata": {},
     "output_type": "execute_result"
    }
   ],
   "source": [
    "df.srch_length_of_stay.unique()"
   ]
  },
  {
   "cell_type": "code",
   "execution_count": 41,
   "metadata": {
    "pycharm": {
     "is_executing": true
    }
   },
   "outputs": [
    {
     "data": {
      "text/html": [
       "<div>\n",
       "<style scoped>\n",
       "    .dataframe tbody tr th:only-of-type {\n",
       "        vertical-align: middle;\n",
       "    }\n",
       "\n",
       "    .dataframe tbody tr th {\n",
       "        vertical-align: top;\n",
       "    }\n",
       "\n",
       "    .dataframe thead th {\n",
       "        text-align: right;\n",
       "    }\n",
       "</style>\n",
       "<table border=\"1\" class=\"dataframe\">\n",
       "  <thead>\n",
       "    <tr style=\"text-align: right;\">\n",
       "      <th></th>\n",
       "      <th>srch_id</th>\n",
       "      <th>site_id</th>\n",
       "      <th>visitor_location_country_id</th>\n",
       "      <th>prop_country_id</th>\n",
       "      <th>prop_id</th>\n",
       "      <th>prop_starrating</th>\n",
       "      <th>prop_review_score</th>\n",
       "      <th>prop_brand_bool</th>\n",
       "      <th>prop_location_score1</th>\n",
       "      <th>prop_log_historical_price</th>\n",
       "      <th>...</th>\n",
       "      <th>srch_destination_id</th>\n",
       "      <th>srch_length_of_stay</th>\n",
       "      <th>srch_booking_window</th>\n",
       "      <th>srch_adults_count</th>\n",
       "      <th>srch_children_count</th>\n",
       "      <th>srch_room_count</th>\n",
       "      <th>srch_saturday_night_bool</th>\n",
       "      <th>random_bool</th>\n",
       "      <th>click_bool</th>\n",
       "      <th>booking_bool</th>\n",
       "    </tr>\n",
       "  </thead>\n",
       "  <tbody>\n",
       "    <tr>\n",
       "      <th>count</th>\n",
       "      <td>991753.000000</td>\n",
       "      <td>991753.000000</td>\n",
       "      <td>991753.000000</td>\n",
       "      <td>991753.000000</td>\n",
       "      <td>991753.000000</td>\n",
       "      <td>991753.000000</td>\n",
       "      <td>991753.000000</td>\n",
       "      <td>991753.000000</td>\n",
       "      <td>991753.000000</td>\n",
       "      <td>991753.000000</td>\n",
       "      <td>...</td>\n",
       "      <td>991753.000000</td>\n",
       "      <td>991753.000000</td>\n",
       "      <td>991753.000000</td>\n",
       "      <td>991753.000000</td>\n",
       "      <td>991753.000000</td>\n",
       "      <td>991753.000000</td>\n",
       "      <td>991753.000000</td>\n",
       "      <td>991753.000000</td>\n",
       "      <td>991753.000000</td>\n",
       "      <td>991753.000000</td>\n",
       "    </tr>\n",
       "    <tr>\n",
       "      <th>mean</th>\n",
       "      <td>332677.874765</td>\n",
       "      <td>9.962170</td>\n",
       "      <td>175.267468</td>\n",
       "      <td>173.909594</td>\n",
       "      <td>70136.849527</td>\n",
       "      <td>3.182634</td>\n",
       "      <td>3.777551</td>\n",
       "      <td>0.634422</td>\n",
       "      <td>2.877260</td>\n",
       "      <td>4.314462</td>\n",
       "      <td>...</td>\n",
       "      <td>14057.236560</td>\n",
       "      <td>2.394920</td>\n",
       "      <td>37.705607</td>\n",
       "      <td>1.972347</td>\n",
       "      <td>0.348943</td>\n",
       "      <td>1.110559</td>\n",
       "      <td>0.500077</td>\n",
       "      <td>0.296968</td>\n",
       "      <td>0.044696</td>\n",
       "      <td>0.027917</td>\n",
       "    </tr>\n",
       "    <tr>\n",
       "      <th>std</th>\n",
       "      <td>192409.173543</td>\n",
       "      <td>7.657661</td>\n",
       "      <td>65.927270</td>\n",
       "      <td>68.349406</td>\n",
       "      <td>40607.105554</td>\n",
       "      <td>1.050491</td>\n",
       "      <td>1.049921</td>\n",
       "      <td>0.481592</td>\n",
       "      <td>1.533212</td>\n",
       "      <td>1.838563</td>\n",
       "      <td>...</td>\n",
       "      <td>8116.914091</td>\n",
       "      <td>2.079985</td>\n",
       "      <td>52.309325</td>\n",
       "      <td>0.856763</td>\n",
       "      <td>0.729524</td>\n",
       "      <td>0.421949</td>\n",
       "      <td>0.500000</td>\n",
       "      <td>0.456923</td>\n",
       "      <td>0.206635</td>\n",
       "      <td>0.164736</td>\n",
       "    </tr>\n",
       "    <tr>\n",
       "      <th>min</th>\n",
       "      <td>1.000000</td>\n",
       "      <td>1.000000</td>\n",
       "      <td>1.000000</td>\n",
       "      <td>1.000000</td>\n",
       "      <td>1.000000</td>\n",
       "      <td>0.000000</td>\n",
       "      <td>0.000000</td>\n",
       "      <td>0.000000</td>\n",
       "      <td>0.000000</td>\n",
       "      <td>0.000000</td>\n",
       "      <td>...</td>\n",
       "      <td>2.000000</td>\n",
       "      <td>1.000000</td>\n",
       "      <td>0.000000</td>\n",
       "      <td>1.000000</td>\n",
       "      <td>0.000000</td>\n",
       "      <td>1.000000</td>\n",
       "      <td>0.000000</td>\n",
       "      <td>0.000000</td>\n",
       "      <td>0.000000</td>\n",
       "      <td>0.000000</td>\n",
       "    </tr>\n",
       "    <tr>\n",
       "      <th>25%</th>\n",
       "      <td>166145.000000</td>\n",
       "      <td>5.000000</td>\n",
       "      <td>100.000000</td>\n",
       "      <td>100.000000</td>\n",
       "      <td>35117.000000</td>\n",
       "      <td>3.000000</td>\n",
       "      <td>3.500000</td>\n",
       "      <td>0.000000</td>\n",
       "      <td>1.790000</td>\n",
       "      <td>4.440000</td>\n",
       "      <td>...</td>\n",
       "      <td>7100.000000</td>\n",
       "      <td>1.000000</td>\n",
       "      <td>4.000000</td>\n",
       "      <td>2.000000</td>\n",
       "      <td>0.000000</td>\n",
       "      <td>1.000000</td>\n",
       "      <td>0.000000</td>\n",
       "      <td>0.000000</td>\n",
       "      <td>0.000000</td>\n",
       "      <td>0.000000</td>\n",
       "    </tr>\n",
       "    <tr>\n",
       "      <th>50%</th>\n",
       "      <td>332627.000000</td>\n",
       "      <td>5.000000</td>\n",
       "      <td>219.000000</td>\n",
       "      <td>219.000000</td>\n",
       "      <td>69678.000000</td>\n",
       "      <td>3.000000</td>\n",
       "      <td>4.000000</td>\n",
       "      <td>1.000000</td>\n",
       "      <td>2.770000</td>\n",
       "      <td>4.910000</td>\n",
       "      <td>...</td>\n",
       "      <td>13570.000000</td>\n",
       "      <td>2.000000</td>\n",
       "      <td>17.000000</td>\n",
       "      <td>2.000000</td>\n",
       "      <td>0.000000</td>\n",
       "      <td>1.000000</td>\n",
       "      <td>1.000000</td>\n",
       "      <td>0.000000</td>\n",
       "      <td>0.000000</td>\n",
       "      <td>0.000000</td>\n",
       "    </tr>\n",
       "    <tr>\n",
       "      <th>75%</th>\n",
       "      <td>499700.000000</td>\n",
       "      <td>14.000000</td>\n",
       "      <td>219.000000</td>\n",
       "      <td>219.000000</td>\n",
       "      <td>105258.000000</td>\n",
       "      <td>4.000000</td>\n",
       "      <td>4.500000</td>\n",
       "      <td>1.000000</td>\n",
       "      <td>4.040000</td>\n",
       "      <td>5.310000</td>\n",
       "      <td>...</td>\n",
       "      <td>21143.000000</td>\n",
       "      <td>3.000000</td>\n",
       "      <td>49.000000</td>\n",
       "      <td>2.000000</td>\n",
       "      <td>0.000000</td>\n",
       "      <td>1.000000</td>\n",
       "      <td>1.000000</td>\n",
       "      <td>1.000000</td>\n",
       "      <td>0.000000</td>\n",
       "      <td>0.000000</td>\n",
       "    </tr>\n",
       "    <tr>\n",
       "      <th>max</th>\n",
       "      <td>665574.000000</td>\n",
       "      <td>34.000000</td>\n",
       "      <td>231.000000</td>\n",
       "      <td>230.000000</td>\n",
       "      <td>140821.000000</td>\n",
       "      <td>5.000000</td>\n",
       "      <td>5.000000</td>\n",
       "      <td>1.000000</td>\n",
       "      <td>6.980000</td>\n",
       "      <td>6.210000</td>\n",
       "      <td>...</td>\n",
       "      <td>28416.000000</td>\n",
       "      <td>58.000000</td>\n",
       "      <td>498.000000</td>\n",
       "      <td>9.000000</td>\n",
       "      <td>9.000000</td>\n",
       "      <td>8.000000</td>\n",
       "      <td>1.000000</td>\n",
       "      <td>1.000000</td>\n",
       "      <td>1.000000</td>\n",
       "      <td>1.000000</td>\n",
       "    </tr>\n",
       "  </tbody>\n",
       "</table>\n",
       "<p>8 rows × 23 columns</p>\n",
       "</div>"
      ],
      "text/plain": [
       "             srch_id        site_id  visitor_location_country_id  \\\n",
       "count  991753.000000  991753.000000                991753.000000   \n",
       "mean   332677.874765       9.962170                   175.267468   \n",
       "std    192409.173543       7.657661                    65.927270   \n",
       "min         1.000000       1.000000                     1.000000   \n",
       "25%    166145.000000       5.000000                   100.000000   \n",
       "50%    332627.000000       5.000000                   219.000000   \n",
       "75%    499700.000000      14.000000                   219.000000   \n",
       "max    665574.000000      34.000000                   231.000000   \n",
       "\n",
       "       prop_country_id        prop_id  prop_starrating  prop_review_score  \\\n",
       "count    991753.000000  991753.000000    991753.000000      991753.000000   \n",
       "mean        173.909594   70136.849527         3.182634           3.777551   \n",
       "std          68.349406   40607.105554         1.050491           1.049921   \n",
       "min           1.000000       1.000000         0.000000           0.000000   \n",
       "25%         100.000000   35117.000000         3.000000           3.500000   \n",
       "50%         219.000000   69678.000000         3.000000           4.000000   \n",
       "75%         219.000000  105258.000000         4.000000           4.500000   \n",
       "max         230.000000  140821.000000         5.000000           5.000000   \n",
       "\n",
       "       prop_brand_bool  prop_location_score1  prop_log_historical_price  ...  \\\n",
       "count    991753.000000         991753.000000              991753.000000  ...   \n",
       "mean          0.634422              2.877260                   4.314462  ...   \n",
       "std           0.481592              1.533212                   1.838563  ...   \n",
       "min           0.000000              0.000000                   0.000000  ...   \n",
       "25%           0.000000              1.790000                   4.440000  ...   \n",
       "50%           1.000000              2.770000                   4.910000  ...   \n",
       "75%           1.000000              4.040000                   5.310000  ...   \n",
       "max           1.000000              6.980000                   6.210000  ...   \n",
       "\n",
       "       srch_destination_id  srch_length_of_stay  srch_booking_window  \\\n",
       "count        991753.000000        991753.000000        991753.000000   \n",
       "mean          14057.236560             2.394920            37.705607   \n",
       "std            8116.914091             2.079985            52.309325   \n",
       "min               2.000000             1.000000             0.000000   \n",
       "25%            7100.000000             1.000000             4.000000   \n",
       "50%           13570.000000             2.000000            17.000000   \n",
       "75%           21143.000000             3.000000            49.000000   \n",
       "max           28416.000000            58.000000           498.000000   \n",
       "\n",
       "       srch_adults_count  srch_children_count  srch_room_count  \\\n",
       "count      991753.000000        991753.000000    991753.000000   \n",
       "mean            1.972347             0.348943         1.110559   \n",
       "std             0.856763             0.729524         0.421949   \n",
       "min             1.000000             0.000000         1.000000   \n",
       "25%             2.000000             0.000000         1.000000   \n",
       "50%             2.000000             0.000000         1.000000   \n",
       "75%             2.000000             0.000000         1.000000   \n",
       "max             9.000000             9.000000         8.000000   \n",
       "\n",
       "       srch_saturday_night_bool    random_bool     click_bool   booking_bool  \n",
       "count             991753.000000  991753.000000  991753.000000  991753.000000  \n",
       "mean                   0.500077       0.296968       0.044696       0.027917  \n",
       "std                    0.500000       0.456923       0.206635       0.164736  \n",
       "min                    0.000000       0.000000       0.000000       0.000000  \n",
       "25%                    0.000000       0.000000       0.000000       0.000000  \n",
       "50%                    1.000000       0.000000       0.000000       0.000000  \n",
       "75%                    1.000000       1.000000       0.000000       0.000000  \n",
       "max                    1.000000       1.000000       1.000000       1.000000  \n",
       "\n",
       "[8 rows x 23 columns]"
      ]
     },
     "execution_count": 41,
     "metadata": {},
     "output_type": "execute_result"
    }
   ],
   "source": [
    "df.describe()"
   ]
  },
  {
   "cell_type": "code",
   "execution_count": 42,
   "metadata": {
    "pycharm": {
     "is_executing": true
    }
   },
   "outputs": [
    {
     "data": {
      "text/plain": [
       "Index(['srch_id', 'date_time', 'site_id', 'visitor_location_country_id',\n",
       "       'prop_country_id', 'prop_id', 'prop_starrating', 'prop_review_score',\n",
       "       'prop_brand_bool', 'prop_location_score1', 'prop_log_historical_price',\n",
       "       'position', 'price_usd', 'promotion_flag', 'srch_destination_id',\n",
       "       'srch_length_of_stay', 'srch_booking_window', 'srch_adults_count',\n",
       "       'srch_children_count', 'srch_room_count', 'srch_saturday_night_bool',\n",
       "       'random_bool', 'click_bool', 'booking_bool'],\n",
       "      dtype='object')"
      ]
     },
     "execution_count": 42,
     "metadata": {},
     "output_type": "execute_result"
    }
   ],
   "source": [
    "df.columns"
   ]
  },
  {
   "cell_type": "code",
   "execution_count": 46,
   "metadata": {},
   "outputs": [
    {
     "data": {
      "text/plain": [
       "srch_id                          int64\n",
       "date_time                       object\n",
       "site_id                          int64\n",
       "visitor_location_country_id      int64\n",
       "prop_country_id                  int64\n",
       "prop_id                          int64\n",
       "prop_starrating                  int64\n",
       "prop_review_score              float64\n",
       "prop_brand_bool                  int64\n",
       "prop_location_score1           float64\n",
       "prop_log_historical_price      float64\n",
       "position                         int64\n",
       "price_usd                      float64\n",
       "promotion_flag                   int64\n",
       "srch_destination_id              int64\n",
       "srch_length_of_stay              int64\n",
       "srch_booking_window              int64\n",
       "srch_adults_count                int64\n",
       "srch_children_count              int64\n",
       "srch_room_count                  int64\n",
       "srch_saturday_night_bool         int64\n",
       "random_bool                      int64\n",
       "click_bool                       int64\n",
       "booking_bool                     int64\n",
       "dtype: object"
      ]
     },
     "execution_count": 46,
     "metadata": {},
     "output_type": "execute_result"
    }
   ],
   "source": [
    "df.dtypes"
   ]
  },
  {
   "cell_type": "code",
   "execution_count": 47,
   "metadata": {},
   "outputs": [],
   "source": [
    "data = df.drop('date_time', axis=1)"
   ]
  },
  {
   "cell_type": "code",
   "execution_count": 49,
   "metadata": {},
   "outputs": [
    {
     "data": {
      "text/html": [
       "<div>\n",
       "<style scoped>\n",
       "    .dataframe tbody tr th:only-of-type {\n",
       "        vertical-align: middle;\n",
       "    }\n",
       "\n",
       "    .dataframe tbody tr th {\n",
       "        vertical-align: top;\n",
       "    }\n",
       "\n",
       "    .dataframe thead th {\n",
       "        text-align: right;\n",
       "    }\n",
       "</style>\n",
       "<table border=\"1\" class=\"dataframe\">\n",
       "  <thead>\n",
       "    <tr style=\"text-align: right;\">\n",
       "      <th></th>\n",
       "      <th>srch_id</th>\n",
       "      <th>site_id</th>\n",
       "      <th>visitor_location_country_id</th>\n",
       "      <th>prop_country_id</th>\n",
       "      <th>prop_id</th>\n",
       "      <th>prop_starrating</th>\n",
       "      <th>prop_review_score</th>\n",
       "      <th>prop_brand_bool</th>\n",
       "      <th>prop_location_score1</th>\n",
       "      <th>prop_log_historical_price</th>\n",
       "      <th>...</th>\n",
       "      <th>srch_destination_id</th>\n",
       "      <th>srch_length_of_stay</th>\n",
       "      <th>srch_booking_window</th>\n",
       "      <th>srch_adults_count</th>\n",
       "      <th>srch_children_count</th>\n",
       "      <th>srch_room_count</th>\n",
       "      <th>srch_saturday_night_bool</th>\n",
       "      <th>random_bool</th>\n",
       "      <th>click_bool</th>\n",
       "      <th>booking_bool</th>\n",
       "    </tr>\n",
       "  </thead>\n",
       "  <tbody>\n",
       "    <tr>\n",
       "      <th>0</th>\n",
       "      <td>1</td>\n",
       "      <td>12</td>\n",
       "      <td>187</td>\n",
       "      <td>219</td>\n",
       "      <td>10404</td>\n",
       "      <td>4</td>\n",
       "      <td>4.0</td>\n",
       "      <td>1</td>\n",
       "      <td>2.20</td>\n",
       "      <td>5.03</td>\n",
       "      <td>...</td>\n",
       "      <td>23246</td>\n",
       "      <td>1</td>\n",
       "      <td>0</td>\n",
       "      <td>4</td>\n",
       "      <td>0</td>\n",
       "      <td>1</td>\n",
       "      <td>1</td>\n",
       "      <td>1</td>\n",
       "      <td>0</td>\n",
       "      <td>0</td>\n",
       "    </tr>\n",
       "    <tr>\n",
       "      <th>1</th>\n",
       "      <td>1</td>\n",
       "      <td>12</td>\n",
       "      <td>187</td>\n",
       "      <td>219</td>\n",
       "      <td>27348</td>\n",
       "      <td>2</td>\n",
       "      <td>4.0</td>\n",
       "      <td>1</td>\n",
       "      <td>2.83</td>\n",
       "      <td>4.39</td>\n",
       "      <td>...</td>\n",
       "      <td>23246</td>\n",
       "      <td>1</td>\n",
       "      <td>0</td>\n",
       "      <td>4</td>\n",
       "      <td>0</td>\n",
       "      <td>1</td>\n",
       "      <td>1</td>\n",
       "      <td>1</td>\n",
       "      <td>0</td>\n",
       "      <td>0</td>\n",
       "    </tr>\n",
       "    <tr>\n",
       "      <th>2</th>\n",
       "      <td>1</td>\n",
       "      <td>12</td>\n",
       "      <td>187</td>\n",
       "      <td>219</td>\n",
       "      <td>56880</td>\n",
       "      <td>4</td>\n",
       "      <td>4.0</td>\n",
       "      <td>1</td>\n",
       "      <td>2.83</td>\n",
       "      <td>5.15</td>\n",
       "      <td>...</td>\n",
       "      <td>23246</td>\n",
       "      <td>1</td>\n",
       "      <td>0</td>\n",
       "      <td>4</td>\n",
       "      <td>0</td>\n",
       "      <td>1</td>\n",
       "      <td>1</td>\n",
       "      <td>1</td>\n",
       "      <td>0</td>\n",
       "      <td>0</td>\n",
       "    </tr>\n",
       "    <tr>\n",
       "      <th>3</th>\n",
       "      <td>1</td>\n",
       "      <td>12</td>\n",
       "      <td>187</td>\n",
       "      <td>219</td>\n",
       "      <td>68914</td>\n",
       "      <td>2</td>\n",
       "      <td>3.0</td>\n",
       "      <td>1</td>\n",
       "      <td>2.20</td>\n",
       "      <td>4.44</td>\n",
       "      <td>...</td>\n",
       "      <td>23246</td>\n",
       "      <td>1</td>\n",
       "      <td>0</td>\n",
       "      <td>4</td>\n",
       "      <td>0</td>\n",
       "      <td>1</td>\n",
       "      <td>1</td>\n",
       "      <td>1</td>\n",
       "      <td>1</td>\n",
       "      <td>1</td>\n",
       "    </tr>\n",
       "    <tr>\n",
       "      <th>4</th>\n",
       "      <td>1</td>\n",
       "      <td>12</td>\n",
       "      <td>187</td>\n",
       "      <td>219</td>\n",
       "      <td>88127</td>\n",
       "      <td>3</td>\n",
       "      <td>3.0</td>\n",
       "      <td>1</td>\n",
       "      <td>1.39</td>\n",
       "      <td>4.80</td>\n",
       "      <td>...</td>\n",
       "      <td>23246</td>\n",
       "      <td>1</td>\n",
       "      <td>0</td>\n",
       "      <td>4</td>\n",
       "      <td>0</td>\n",
       "      <td>1</td>\n",
       "      <td>1</td>\n",
       "      <td>1</td>\n",
       "      <td>0</td>\n",
       "      <td>0</td>\n",
       "    </tr>\n",
       "  </tbody>\n",
       "</table>\n",
       "<p>5 rows × 23 columns</p>\n",
       "</div>"
      ],
      "text/plain": [
       "   srch_id  site_id  visitor_location_country_id  prop_country_id  prop_id  \\\n",
       "0        1       12                          187              219    10404   \n",
       "1        1       12                          187              219    27348   \n",
       "2        1       12                          187              219    56880   \n",
       "3        1       12                          187              219    68914   \n",
       "4        1       12                          187              219    88127   \n",
       "\n",
       "   prop_starrating  prop_review_score  prop_brand_bool  prop_location_score1  \\\n",
       "0                4                4.0                1                  2.20   \n",
       "1                2                4.0                1                  2.83   \n",
       "2                4                4.0                1                  2.83   \n",
       "3                2                3.0                1                  2.20   \n",
       "4                3                3.0                1                  1.39   \n",
       "\n",
       "   prop_log_historical_price  ...  srch_destination_id  srch_length_of_stay  \\\n",
       "0                       5.03  ...                23246                    1   \n",
       "1                       4.39  ...                23246                    1   \n",
       "2                       5.15  ...                23246                    1   \n",
       "3                       4.44  ...                23246                    1   \n",
       "4                       4.80  ...                23246                    1   \n",
       "\n",
       "   srch_booking_window  srch_adults_count  srch_children_count  \\\n",
       "0                    0                  4                    0   \n",
       "1                    0                  4                    0   \n",
       "2                    0                  4                    0   \n",
       "3                    0                  4                    0   \n",
       "4                    0                  4                    0   \n",
       "\n",
       "   srch_room_count  srch_saturday_night_bool  random_bool  click_bool  \\\n",
       "0                1                         1            1           0   \n",
       "1                1                         1            1           0   \n",
       "2                1                         1            1           0   \n",
       "3                1                         1            1           1   \n",
       "4                1                         1            1           0   \n",
       "\n",
       "   booking_bool  \n",
       "0             0  \n",
       "1             0  \n",
       "2             0  \n",
       "3             1  \n",
       "4             0  \n",
       "\n",
       "[5 rows x 23 columns]"
      ]
     },
     "execution_count": 49,
     "metadata": {},
     "output_type": "execute_result"
    }
   ],
   "source": [
    "data.head()"
   ]
  },
  {
   "cell_type": "code",
   "execution_count": 61,
   "metadata": {},
   "outputs": [],
   "source": [
    "X = data.iloc[:, :-1]\n",
    "y = data.iloc[:, -2:-1]"
   ]
  },
  {
   "cell_type": "code",
   "execution_count": 63,
   "metadata": {},
   "outputs": [],
   "source": [
    "from sklearn.model_selection import train_test_split\n",
    "X_train, X_test, y_train, y_test = train_test_split(X, y, test_size=0.33, random_state=42)"
   ]
  },
  {
   "cell_type": "code",
   "execution_count": 62,
   "metadata": {
    "pycharm": {
     "is_executing": true
    }
   },
   "outputs": [
    {
     "name": "stdout",
     "output_type": "stream",
     "text": [
      "{'max_depth': 3}\n"
     ]
    }
   ],
   "source": [
    "# from sklearn.tree import DecisionTreeClassifier\n",
    "\n",
    "# parameters = {'max_depth': [3, 10, None]}\n",
    "# decision_tree = DecisionTreeClassifier(criterion='gini', min_samples_split=30)\n",
    "\n",
    "# from sklearn.model_selection import GridSearchCV\n",
    "\n",
    "# grid_search = GridSearchCV(decision_tree, parameters, cv=3, scoring='roc_auc')\n",
    "# grid_search.fit(X, y)\n",
    "# print(grid_search.best_params_)"
   ]
  },
  {
   "cell_type": "code",
   "execution_count": 65,
   "metadata": {},
   "outputs": [
    {
     "name": "stderr",
     "output_type": "stream",
     "text": [
      "/home/shree/personal_projects/Click-Through-Rate/venv/lib/python3.7/site-packages/sklearn/ensemble/forest.py:245: FutureWarning: The default value of n_estimators will change from 10 in version 0.20 to 100 in 0.22.\n",
      "  \"10 in version 0.20 to 100 in 0.22.\", FutureWarning)\n",
      "/home/shree/personal_projects/Click-Through-Rate/venv/lib/python3.7/site-packages/ipykernel_launcher.py:3: DataConversionWarning: A column-vector y was passed when a 1d array was expected. Please change the shape of y to (n_samples,), for example using ravel().\n",
      "  This is separate from the ipykernel package so we can avoid doing imports until\n"
     ]
    },
    {
     "name": "stdout",
     "output_type": "stream",
     "text": [
      "[1.20564397e-02 0.00000000e+00 0.00000000e+00 7.70061155e-04\n",
      " 0.00000000e+00 5.31339940e-02 0.00000000e+00 0.00000000e+00\n",
      " 1.16097536e-05 4.26406804e-02 4.80206114e-01 3.44992636e-02\n",
      " 7.68952412e-02 0.00000000e+00 0.00000000e+00 0.00000000e+00\n",
      " 0.00000000e+00 0.00000000e+00 0.00000000e+00 0.00000000e+00\n",
      " 0.00000000e+00 2.99786596e-01]\n"
     ]
    }
   ],
   "source": [
    "from sklearn.ensemble import RandomForestClassifier\n",
    "clf = RandomForestClassifier(max_depth=2, random_state=0)\n",
    "clf.fit(X_train, y_train)\n",
    "print(clf.feature_importances_)\n",
    "y_pred = clf.predict(X_test)"
   ]
  },
  {
   "cell_type": "code",
   "execution_count": 67,
   "metadata": {},
   "outputs": [
    {
     "data": {
      "text/plain": [
       "0.9547786445204245"
      ]
     },
     "execution_count": 67,
     "metadata": {},
     "output_type": "execute_result"
    }
   ],
   "source": [
    "from sklearn.metrics import accuracy_score\n",
    "accuracy_score(y_test, y_pred)"
   ]
  },
  {
   "cell_type": "code",
   "execution_count": null,
   "metadata": {},
   "outputs": [],
   "source": []
  }
 ],
 "metadata": {
  "kernelspec": {
   "display_name": "Python 3",
   "language": "python",
   "name": "python3"
  },
  "language_info": {
   "codemirror_mode": {
    "name": "ipython",
    "version": 3
   },
   "file_extension": ".py",
   "mimetype": "text/x-python",
   "name": "python",
   "nbconvert_exporter": "python",
   "pygments_lexer": "ipython3",
   "version": "3.7.4"
  }
 },
 "nbformat": 4,
 "nbformat_minor": 2
}
