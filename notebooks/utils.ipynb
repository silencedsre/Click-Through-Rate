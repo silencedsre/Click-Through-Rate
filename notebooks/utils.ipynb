{
 "cells": [
  {
   "cell_type": "code",
   "execution_count": 1,
   "metadata": {},
   "outputs": [],
   "source": [
    "import numpy as np\n",
    "import pandas as pd\n",
    "import matplotlib.pyplot as plt\n",
    "import seaborn as sns\n",
    "import random"
   ]
  },
  {
   "cell_type": "code",
   "execution_count": null,
   "metadata": {},
   "outputs": [],
   "source": [
    "num_lines = sum(1 for l in open('../datasets/expedia-personalized-sort/data/train.csv'))\n",
    "sample = int(num_lines/10)\n",
    "skip = sorted(random.sample(range(1,num_lines),num_lines-sample))\n",
    "df = pd.read_csv(\n",
    "         '../datasets/expedia-personalized-sort/data/train.csv',\n",
    "         header=0,\n",
    "         skiprows= skip,\n",
    ")"
   ]
  },
  {
   "cell_type": "code",
   "execution_count": null,
   "metadata": {},
   "outputs": [],
   "source": [
    "df.to_csv('../datasets/data/train_explore.csv')"
   ]
  },
  {
   "cell_type": "code",
   "execution_count": null,
   "metadata": {},
   "outputs": [],
   "source": [
    "num_lines = sum(1 for l in open('../datasets/data/test.csv'))\n",
    "sample = int(num_lines/10)\n",
    "skip = sorted(random.sample(range(1,num_lines),num_lines-sample))\n",
    "df_test = pd.read_csv(\n",
    "         '../datasets/data/test.csv',\n",
    "         header=0,\n",
    "         skiprows= skip,\n",
    ")"
   ]
  },
  {
   "cell_type": "code",
   "execution_count": null,
   "metadata": {},
   "outputs": [],
   "source": [
    "df_test.to_csv('../datasets/data/test_explore.csv')"
   ]
  },
  {
   "cell_type": "code",
   "execution_count": null,
   "metadata": {},
   "outputs": [],
   "source": []
  }
 ],
 "metadata": {
  "kernelspec": {
   "display_name": "Python 3",
   "language": "python",
   "name": "python3"
  },
  "language_info": {
   "codemirror_mode": {
    "name": "ipython",
    "version": 2
   },
   "file_extension": ".py",
   "mimetype": "text/x-python",
   "name": "python",
   "nbconvert_exporter": "python",
   "pygments_lexer": "ipython2",
   "version": "2.7.15+"
  }
 },
 "nbformat": 4,
 "nbformat_minor": 2
}
