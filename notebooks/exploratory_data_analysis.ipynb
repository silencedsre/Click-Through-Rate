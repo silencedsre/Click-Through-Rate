{
 "cells": [
  {
   "cell_type": "code",
   "execution_count": 40,
   "metadata": {
    "pycharm": {
     "is_executing": true
    }
   },
   "outputs": [],
   "source": [
    "import pandas as pd\n",
    "import csv\n",
    "import random"
   ]
  },
  {
   "cell_type": "code",
   "execution_count": 46,
   "metadata": {},
   "outputs": [],
   "source": [
    "filename = '../datasets/data/train.csv'\n",
    "# with open(filename, 'r') as infile:\n",
    "#     reader = csv.DictReader(infile)\n",
    "#     fieldnames = reader.fieldnames"
   ]
  },
  {
   "cell_type": "code",
   "execution_count": 47,
   "metadata": {},
   "outputs": [],
   "source": [
    "num_lines = sum(1 for l in open(filename))\n",
    "sample = int(num_lines/10)\n",
    "skip = sorted(random.sample(range(1,num_lines+1),num_lines-sample))\n",
    "df = pd.read_csv(\n",
    "         filename,\n",
    "         header=0,\n",
    "         skiprows= skip,\n",
    ")"
   ]
  },
  {
   "cell_type": "code",
   "execution_count": 48,
   "metadata": {},
   "outputs": [],
   "source": [
    "df.to_csv('../datasets/data/train_sample.csv')"
   ]
  },
  {
   "cell_type": "code",
   "execution_count": 2,
   "metadata": {},
   "outputs": [],
   "source": [
    "df = pd.read_csv('../datasets/data/train_sample.csv')"
   ]
  },
  {
   "cell_type": "code",
   "execution_count": 6,
   "metadata": {},
   "outputs": [
    {
     "data": {
      "text/html": [
       "<div>\n",
       "<style scoped>\n",
       "    .dataframe tbody tr th:only-of-type {\n",
       "        vertical-align: middle;\n",
       "    }\n",
       "\n",
       "    .dataframe tbody tr th {\n",
       "        vertical-align: top;\n",
       "    }\n",
       "\n",
       "    .dataframe thead th {\n",
       "        text-align: right;\n",
       "    }\n",
       "</style>\n",
       "<table border=\"1\" class=\"dataframe\">\n",
       "  <thead>\n",
       "    <tr style=\"text-align: right;\">\n",
       "      <th></th>\n",
       "      <th>srch_id</th>\n",
       "      <th>date_time</th>\n",
       "      <th>site_id</th>\n",
       "      <th>visitor_location_country_id</th>\n",
       "      <th>visitor_hist_starrating</th>\n",
       "      <th>visitor_hist_adr_usd</th>\n",
       "      <th>prop_country_id</th>\n",
       "      <th>prop_id</th>\n",
       "      <th>prop_starrating</th>\n",
       "      <th>prop_review_score</th>\n",
       "      <th>...</th>\n",
       "      <th>comp6_rate_percent_diff</th>\n",
       "      <th>comp7_rate</th>\n",
       "      <th>comp7_inv</th>\n",
       "      <th>comp7_rate_percent_diff</th>\n",
       "      <th>comp8_rate</th>\n",
       "      <th>comp8_inv</th>\n",
       "      <th>comp8_rate_percent_diff</th>\n",
       "      <th>click_bool</th>\n",
       "      <th>gross_bookings_usd</th>\n",
       "      <th>booking_bool</th>\n",
       "    </tr>\n",
       "  </thead>\n",
       "  <tbody>\n",
       "    <tr>\n",
       "      <th>0</th>\n",
       "      <td>1</td>\n",
       "      <td>2013-04-04 08:32:15</td>\n",
       "      <td>12</td>\n",
       "      <td>187</td>\n",
       "      <td>NaN</td>\n",
       "      <td>NaN</td>\n",
       "      <td>219</td>\n",
       "      <td>122844</td>\n",
       "      <td>3</td>\n",
       "      <td>4.5</td>\n",
       "      <td>...</td>\n",
       "      <td>NaN</td>\n",
       "      <td>NaN</td>\n",
       "      <td>NaN</td>\n",
       "      <td>NaN</td>\n",
       "      <td>0.0</td>\n",
       "      <td>0.0</td>\n",
       "      <td>NaN</td>\n",
       "      <td>0</td>\n",
       "      <td>NaN</td>\n",
       "      <td>0</td>\n",
       "    </tr>\n",
       "    <tr>\n",
       "      <th>1</th>\n",
       "      <td>4</td>\n",
       "      <td>2012-12-31 08:59:22</td>\n",
       "      <td>5</td>\n",
       "      <td>219</td>\n",
       "      <td>NaN</td>\n",
       "      <td>NaN</td>\n",
       "      <td>219</td>\n",
       "      <td>83045</td>\n",
       "      <td>3</td>\n",
       "      <td>3.5</td>\n",
       "      <td>...</td>\n",
       "      <td>NaN</td>\n",
       "      <td>NaN</td>\n",
       "      <td>NaN</td>\n",
       "      <td>NaN</td>\n",
       "      <td>NaN</td>\n",
       "      <td>NaN</td>\n",
       "      <td>NaN</td>\n",
       "      <td>0</td>\n",
       "      <td>NaN</td>\n",
       "      <td>0</td>\n",
       "    </tr>\n",
       "    <tr>\n",
       "      <th>2</th>\n",
       "      <td>4</td>\n",
       "      <td>2012-12-31 08:59:22</td>\n",
       "      <td>5</td>\n",
       "      <td>219</td>\n",
       "      <td>NaN</td>\n",
       "      <td>NaN</td>\n",
       "      <td>219</td>\n",
       "      <td>85567</td>\n",
       "      <td>2</td>\n",
       "      <td>4.0</td>\n",
       "      <td>...</td>\n",
       "      <td>NaN</td>\n",
       "      <td>NaN</td>\n",
       "      <td>NaN</td>\n",
       "      <td>NaN</td>\n",
       "      <td>NaN</td>\n",
       "      <td>NaN</td>\n",
       "      <td>NaN</td>\n",
       "      <td>0</td>\n",
       "      <td>NaN</td>\n",
       "      <td>0</td>\n",
       "    </tr>\n",
       "    <tr>\n",
       "      <th>3</th>\n",
       "      <td>4</td>\n",
       "      <td>2012-12-31 08:59:22</td>\n",
       "      <td>5</td>\n",
       "      <td>219</td>\n",
       "      <td>NaN</td>\n",
       "      <td>NaN</td>\n",
       "      <td>219</td>\n",
       "      <td>97099</td>\n",
       "      <td>4</td>\n",
       "      <td>4.0</td>\n",
       "      <td>...</td>\n",
       "      <td>NaN</td>\n",
       "      <td>NaN</td>\n",
       "      <td>NaN</td>\n",
       "      <td>NaN</td>\n",
       "      <td>NaN</td>\n",
       "      <td>NaN</td>\n",
       "      <td>NaN</td>\n",
       "      <td>0</td>\n",
       "      <td>NaN</td>\n",
       "      <td>0</td>\n",
       "    </tr>\n",
       "    <tr>\n",
       "      <th>4</th>\n",
       "      <td>8</td>\n",
       "      <td>2013-03-20 17:50:44</td>\n",
       "      <td>5</td>\n",
       "      <td>219</td>\n",
       "      <td>NaN</td>\n",
       "      <td>NaN</td>\n",
       "      <td>219</td>\n",
       "      <td>10250</td>\n",
       "      <td>3</td>\n",
       "      <td>3.5</td>\n",
       "      <td>...</td>\n",
       "      <td>NaN</td>\n",
       "      <td>NaN</td>\n",
       "      <td>NaN</td>\n",
       "      <td>NaN</td>\n",
       "      <td>0.0</td>\n",
       "      <td>0.0</td>\n",
       "      <td>NaN</td>\n",
       "      <td>0</td>\n",
       "      <td>NaN</td>\n",
       "      <td>0</td>\n",
       "    </tr>\n",
       "  </tbody>\n",
       "</table>\n",
       "<p>5 rows × 54 columns</p>\n",
       "</div>"
      ],
      "text/plain": [
       "   srch_id            date_time  site_id  visitor_location_country_id  \\\n",
       "0        1  2013-04-04 08:32:15       12                          187   \n",
       "1        4  2012-12-31 08:59:22        5                          219   \n",
       "2        4  2012-12-31 08:59:22        5                          219   \n",
       "3        4  2012-12-31 08:59:22        5                          219   \n",
       "4        8  2013-03-20 17:50:44        5                          219   \n",
       "\n",
       "   visitor_hist_starrating  visitor_hist_adr_usd  prop_country_id  prop_id  \\\n",
       "0                      NaN                   NaN              219   122844   \n",
       "1                      NaN                   NaN              219    83045   \n",
       "2                      NaN                   NaN              219    85567   \n",
       "3                      NaN                   NaN              219    97099   \n",
       "4                      NaN                   NaN              219    10250   \n",
       "\n",
       "   prop_starrating  prop_review_score  ...  comp6_rate_percent_diff  \\\n",
       "0                3                4.5  ...                      NaN   \n",
       "1                3                3.5  ...                      NaN   \n",
       "2                2                4.0  ...                      NaN   \n",
       "3                4                4.0  ...                      NaN   \n",
       "4                3                3.5  ...                      NaN   \n",
       "\n",
       "   comp7_rate  comp7_inv  comp7_rate_percent_diff  comp8_rate  comp8_inv  \\\n",
       "0         NaN        NaN                      NaN         0.0        0.0   \n",
       "1         NaN        NaN                      NaN         NaN        NaN   \n",
       "2         NaN        NaN                      NaN         NaN        NaN   \n",
       "3         NaN        NaN                      NaN         NaN        NaN   \n",
       "4         NaN        NaN                      NaN         0.0        0.0   \n",
       "\n",
       "   comp8_rate_percent_diff  click_bool  gross_bookings_usd  booking_bool  \n",
       "0                      NaN           0                 NaN             0  \n",
       "1                      NaN           0                 NaN             0  \n",
       "2                      NaN           0                 NaN             0  \n",
       "3                      NaN           0                 NaN             0  \n",
       "4                      NaN           0                 NaN             0  \n",
       "\n",
       "[5 rows x 54 columns]"
      ]
     },
     "execution_count": 6,
     "metadata": {},
     "output_type": "execute_result"
    }
   ],
   "source": [
    "df.head()"
   ]
  },
  {
   "cell_type": "code",
   "execution_count": 7,
   "metadata": {},
   "outputs": [
    {
     "data": {
      "text/html": [
       "<div>\n",
       "<style scoped>\n",
       "    .dataframe tbody tr th:only-of-type {\n",
       "        vertical-align: middle;\n",
       "    }\n",
       "\n",
       "    .dataframe tbody tr th {\n",
       "        vertical-align: top;\n",
       "    }\n",
       "\n",
       "    .dataframe thead th {\n",
       "        text-align: right;\n",
       "    }\n",
       "</style>\n",
       "<table border=\"1\" class=\"dataframe\">\n",
       "  <thead>\n",
       "    <tr style=\"text-align: right;\">\n",
       "      <th></th>\n",
       "      <th>srch_id</th>\n",
       "      <th>date_time</th>\n",
       "      <th>site_id</th>\n",
       "      <th>visitor_location_country_id</th>\n",
       "      <th>visitor_hist_starrating</th>\n",
       "      <th>visitor_hist_adr_usd</th>\n",
       "      <th>prop_country_id</th>\n",
       "      <th>prop_id</th>\n",
       "      <th>prop_starrating</th>\n",
       "      <th>prop_review_score</th>\n",
       "      <th>...</th>\n",
       "      <th>comp6_rate_percent_diff</th>\n",
       "      <th>comp7_rate</th>\n",
       "      <th>comp7_inv</th>\n",
       "      <th>comp7_rate_percent_diff</th>\n",
       "      <th>comp8_rate</th>\n",
       "      <th>comp8_inv</th>\n",
       "      <th>comp8_rate_percent_diff</th>\n",
       "      <th>click_bool</th>\n",
       "      <th>gross_bookings_usd</th>\n",
       "      <th>booking_bool</th>\n",
       "    </tr>\n",
       "  </thead>\n",
       "  <tbody>\n",
       "    <tr>\n",
       "      <th>0</th>\n",
       "      <td>1</td>\n",
       "      <td>2013-04-04 08:32:15</td>\n",
       "      <td>12</td>\n",
       "      <td>187</td>\n",
       "      <td>NaN</td>\n",
       "      <td>NaN</td>\n",
       "      <td>219</td>\n",
       "      <td>122844</td>\n",
       "      <td>3</td>\n",
       "      <td>4.5</td>\n",
       "      <td>...</td>\n",
       "      <td>NaN</td>\n",
       "      <td>NaN</td>\n",
       "      <td>NaN</td>\n",
       "      <td>NaN</td>\n",
       "      <td>0.0</td>\n",
       "      <td>0.0</td>\n",
       "      <td>NaN</td>\n",
       "      <td>0</td>\n",
       "      <td>NaN</td>\n",
       "      <td>0</td>\n",
       "    </tr>\n",
       "    <tr>\n",
       "      <th>1</th>\n",
       "      <td>4</td>\n",
       "      <td>2012-12-31 08:59:22</td>\n",
       "      <td>5</td>\n",
       "      <td>219</td>\n",
       "      <td>NaN</td>\n",
       "      <td>NaN</td>\n",
       "      <td>219</td>\n",
       "      <td>83045</td>\n",
       "      <td>3</td>\n",
       "      <td>3.5</td>\n",
       "      <td>...</td>\n",
       "      <td>NaN</td>\n",
       "      <td>NaN</td>\n",
       "      <td>NaN</td>\n",
       "      <td>NaN</td>\n",
       "      <td>NaN</td>\n",
       "      <td>NaN</td>\n",
       "      <td>NaN</td>\n",
       "      <td>0</td>\n",
       "      <td>NaN</td>\n",
       "      <td>0</td>\n",
       "    </tr>\n",
       "    <tr>\n",
       "      <th>2</th>\n",
       "      <td>4</td>\n",
       "      <td>2012-12-31 08:59:22</td>\n",
       "      <td>5</td>\n",
       "      <td>219</td>\n",
       "      <td>NaN</td>\n",
       "      <td>NaN</td>\n",
       "      <td>219</td>\n",
       "      <td>85567</td>\n",
       "      <td>2</td>\n",
       "      <td>4.0</td>\n",
       "      <td>...</td>\n",
       "      <td>NaN</td>\n",
       "      <td>NaN</td>\n",
       "      <td>NaN</td>\n",
       "      <td>NaN</td>\n",
       "      <td>NaN</td>\n",
       "      <td>NaN</td>\n",
       "      <td>NaN</td>\n",
       "      <td>0</td>\n",
       "      <td>NaN</td>\n",
       "      <td>0</td>\n",
       "    </tr>\n",
       "    <tr>\n",
       "      <th>3</th>\n",
       "      <td>4</td>\n",
       "      <td>2012-12-31 08:59:22</td>\n",
       "      <td>5</td>\n",
       "      <td>219</td>\n",
       "      <td>NaN</td>\n",
       "      <td>NaN</td>\n",
       "      <td>219</td>\n",
       "      <td>97099</td>\n",
       "      <td>4</td>\n",
       "      <td>4.0</td>\n",
       "      <td>...</td>\n",
       "      <td>NaN</td>\n",
       "      <td>NaN</td>\n",
       "      <td>NaN</td>\n",
       "      <td>NaN</td>\n",
       "      <td>NaN</td>\n",
       "      <td>NaN</td>\n",
       "      <td>NaN</td>\n",
       "      <td>0</td>\n",
       "      <td>NaN</td>\n",
       "      <td>0</td>\n",
       "    </tr>\n",
       "    <tr>\n",
       "      <th>4</th>\n",
       "      <td>8</td>\n",
       "      <td>2013-03-20 17:50:44</td>\n",
       "      <td>5</td>\n",
       "      <td>219</td>\n",
       "      <td>NaN</td>\n",
       "      <td>NaN</td>\n",
       "      <td>219</td>\n",
       "      <td>10250</td>\n",
       "      <td>3</td>\n",
       "      <td>3.5</td>\n",
       "      <td>...</td>\n",
       "      <td>NaN</td>\n",
       "      <td>NaN</td>\n",
       "      <td>NaN</td>\n",
       "      <td>NaN</td>\n",
       "      <td>0.0</td>\n",
       "      <td>0.0</td>\n",
       "      <td>NaN</td>\n",
       "      <td>0</td>\n",
       "      <td>NaN</td>\n",
       "      <td>0</td>\n",
       "    </tr>\n",
       "  </tbody>\n",
       "</table>\n",
       "<p>5 rows × 54 columns</p>\n",
       "</div>"
      ],
      "text/plain": [
       "   srch_id            date_time  site_id  visitor_location_country_id  \\\n",
       "0        1  2013-04-04 08:32:15       12                          187   \n",
       "1        4  2012-12-31 08:59:22        5                          219   \n",
       "2        4  2012-12-31 08:59:22        5                          219   \n",
       "3        4  2012-12-31 08:59:22        5                          219   \n",
       "4        8  2013-03-20 17:50:44        5                          219   \n",
       "\n",
       "   visitor_hist_starrating  visitor_hist_adr_usd  prop_country_id  prop_id  \\\n",
       "0                      NaN                   NaN              219   122844   \n",
       "1                      NaN                   NaN              219    83045   \n",
       "2                      NaN                   NaN              219    85567   \n",
       "3                      NaN                   NaN              219    97099   \n",
       "4                      NaN                   NaN              219    10250   \n",
       "\n",
       "   prop_starrating  prop_review_score  ...  comp6_rate_percent_diff  \\\n",
       "0                3                4.5  ...                      NaN   \n",
       "1                3                3.5  ...                      NaN   \n",
       "2                2                4.0  ...                      NaN   \n",
       "3                4                4.0  ...                      NaN   \n",
       "4                3                3.5  ...                      NaN   \n",
       "\n",
       "   comp7_rate  comp7_inv  comp7_rate_percent_diff  comp8_rate  comp8_inv  \\\n",
       "0         NaN        NaN                      NaN         0.0        0.0   \n",
       "1         NaN        NaN                      NaN         NaN        NaN   \n",
       "2         NaN        NaN                      NaN         NaN        NaN   \n",
       "3         NaN        NaN                      NaN         NaN        NaN   \n",
       "4         NaN        NaN                      NaN         0.0        0.0   \n",
       "\n",
       "   comp8_rate_percent_diff  click_bool  gross_bookings_usd  booking_bool  \n",
       "0                      NaN           0                 NaN             0  \n",
       "1                      NaN           0                 NaN             0  \n",
       "2                      NaN           0                 NaN             0  \n",
       "3                      NaN           0                 NaN             0  \n",
       "4                      NaN           0                 NaN             0  \n",
       "\n",
       "[5 rows x 54 columns]"
      ]
     },
     "execution_count": 7,
     "metadata": {},
     "output_type": "execute_result"
    }
   ],
   "source": [
    "df.head()"
   ]
  },
  {
   "cell_type": "code",
   "execution_count": 8,
   "metadata": {},
   "outputs": [
    {
     "name": "stdout",
     "output_type": "stream",
     "text": [
      "<class 'pandas.core.frame.DataFrame'>\n",
      "RangeIndex: 991392 entries, 0 to 991391\n",
      "Data columns (total 54 columns):\n",
      "srch_id                        991392 non-null int64\n",
      "date_time                      991392 non-null object\n",
      "site_id                        991392 non-null int64\n",
      "visitor_location_country_id    991392 non-null int64\n",
      "visitor_hist_starrating        50383 non-null float64\n",
      "visitor_hist_adr_usd           50616 non-null float64\n",
      "prop_country_id                991392 non-null int64\n",
      "prop_id                        991392 non-null int64\n",
      "prop_starrating                991392 non-null int64\n",
      "prop_review_score              990047 non-null float64\n",
      "prop_brand_bool                991392 non-null int64\n",
      "prop_location_score1           991392 non-null float64\n",
      "prop_location_score2           773821 non-null float64\n",
      "prop_log_historical_price      991392 non-null float64\n",
      "position                       991392 non-null int64\n",
      "price_usd                      991392 non-null float64\n",
      "promotion_flag                 991392 non-null int64\n",
      "srch_destination_id            991392 non-null int64\n",
      "srch_length_of_stay            991392 non-null int64\n",
      "srch_booking_window            991392 non-null int64\n",
      "srch_adults_count              991392 non-null int64\n",
      "srch_children_count            991392 non-null int64\n",
      "srch_room_count                991392 non-null int64\n",
      "srch_saturday_night_bool       991392 non-null int64\n",
      "srch_query_affinity_score      63452 non-null float64\n",
      "orig_destination_distance      669746 non-null float64\n",
      "random_bool                    991392 non-null int64\n",
      "comp1_rate                     23652 non-null float64\n",
      "comp1_inv                      25555 non-null float64\n",
      "comp1_rate_percent_diff        18557 non-null float64\n",
      "comp2_rate                     403499 non-null float64\n",
      "comp2_inv                      424471 non-null float64\n",
      "comp2_rate_percent_diff        110853 non-null float64\n",
      "comp3_rate                     305325 non-null float64\n",
      "comp3_inv                      328611 non-null float64\n",
      "comp3_rate_percent_diff        94142 non-null float64\n",
      "comp4_rate                     62146 non-null float64\n",
      "comp4_inv                      69392 non-null float64\n",
      "comp4_rate_percent_diff        26531 non-null float64\n",
      "comp5_rate                     444553 non-null float64\n",
      "comp5_inv                      472386 non-null float64\n",
      "comp5_rate_percent_diff        168869 non-null float64\n",
      "comp6_rate                     48324 non-null float64\n",
      "comp6_inv                      52564 non-null float64\n",
      "comp6_rate_percent_diff        19278 non-null float64\n",
      "comp7_rate                     63277 non-null float64\n",
      "comp7_inv                      71454 non-null float64\n",
      "comp7_rate_percent_diff        27896 non-null float64\n",
      "comp8_rate                     381059 non-null float64\n",
      "comp8_inv                      395136 non-null float64\n",
      "comp8_rate_percent_diff        122547 non-null float64\n",
      "click_bool                     991392 non-null int64\n",
      "gross_bookings_usd             27683 non-null float64\n",
      "booking_bool                   991392 non-null int64\n",
      "dtypes: float64(34), int64(19), object(1)\n",
      "memory usage: 408.4+ MB\n"
     ]
    }
   ],
   "source": [
    "df.info()"
   ]
  },
  {
   "cell_type": "code",
   "execution_count": 9,
   "metadata": {},
   "outputs": [
    {
     "data": {
      "text/plain": [
       "srch_id                        991392\n",
       "date_time                      991392\n",
       "site_id                        991392\n",
       "visitor_location_country_id    991392\n",
       "visitor_hist_starrating         50383\n",
       "visitor_hist_adr_usd            50616\n",
       "prop_country_id                991392\n",
       "prop_id                        991392\n",
       "prop_starrating                991392\n",
       "prop_review_score              990047\n",
       "prop_brand_bool                991392\n",
       "prop_location_score1           991392\n",
       "prop_location_score2           773821\n",
       "prop_log_historical_price      991392\n",
       "position                       991392\n",
       "price_usd                      991392\n",
       "promotion_flag                 991392\n",
       "srch_destination_id            991392\n",
       "srch_length_of_stay            991392\n",
       "srch_booking_window            991392\n",
       "srch_adults_count              991392\n",
       "srch_children_count            991392\n",
       "srch_room_count                991392\n",
       "srch_saturday_night_bool       991392\n",
       "srch_query_affinity_score       63452\n",
       "orig_destination_distance      669746\n",
       "random_bool                    991392\n",
       "comp1_rate                      23652\n",
       "comp1_inv                       25555\n",
       "comp1_rate_percent_diff         18557\n",
       "comp2_rate                     403499\n",
       "comp2_inv                      424471\n",
       "comp2_rate_percent_diff        110853\n",
       "comp3_rate                     305325\n",
       "comp3_inv                      328611\n",
       "comp3_rate_percent_diff         94142\n",
       "comp4_rate                      62146\n",
       "comp4_inv                       69392\n",
       "comp4_rate_percent_diff         26531\n",
       "comp5_rate                     444553\n",
       "comp5_inv                      472386\n",
       "comp5_rate_percent_diff        168869\n",
       "comp6_rate                      48324\n",
       "comp6_inv                       52564\n",
       "comp6_rate_percent_diff         19278\n",
       "comp7_rate                      63277\n",
       "comp7_inv                       71454\n",
       "comp7_rate_percent_diff         27896\n",
       "comp8_rate                     381059\n",
       "comp8_inv                      395136\n",
       "comp8_rate_percent_diff        122547\n",
       "click_bool                     991392\n",
       "gross_bookings_usd              27683\n",
       "booking_bool                   991392\n",
       "dtype: int64"
      ]
     },
     "execution_count": 9,
     "metadata": {},
     "output_type": "execute_result"
    }
   ],
   "source": [
    "df.count()"
   ]
  },
  {
   "cell_type": "code",
   "execution_count": 10,
   "metadata": {},
   "outputs": [
    {
     "data": {
      "text/plain": [
       "array([0, 1])"
      ]
     },
     "execution_count": 10,
     "metadata": {},
     "output_type": "execute_result"
    }
   ],
   "source": [
    "df['booking_bool'].unique()"
   ]
  },
  {
   "cell_type": "code",
   "execution_count": 11,
   "metadata": {},
   "outputs": [
    {
     "data": {
      "text/html": [
       "<div>\n",
       "<style scoped>\n",
       "    .dataframe tbody tr th:only-of-type {\n",
       "        vertical-align: middle;\n",
       "    }\n",
       "\n",
       "    .dataframe tbody tr th {\n",
       "        vertical-align: top;\n",
       "    }\n",
       "\n",
       "    .dataframe thead th {\n",
       "        text-align: right;\n",
       "    }\n",
       "</style>\n",
       "<table border=\"1\" class=\"dataframe\">\n",
       "  <thead>\n",
       "    <tr style=\"text-align: right;\">\n",
       "      <th></th>\n",
       "      <th>srch_id</th>\n",
       "      <th>site_id</th>\n",
       "      <th>visitor_location_country_id</th>\n",
       "      <th>visitor_hist_starrating</th>\n",
       "      <th>visitor_hist_adr_usd</th>\n",
       "      <th>prop_country_id</th>\n",
       "      <th>prop_id</th>\n",
       "      <th>prop_starrating</th>\n",
       "      <th>prop_review_score</th>\n",
       "      <th>prop_brand_bool</th>\n",
       "      <th>...</th>\n",
       "      <th>comp6_rate_percent_diff</th>\n",
       "      <th>comp7_rate</th>\n",
       "      <th>comp7_inv</th>\n",
       "      <th>comp7_rate_percent_diff</th>\n",
       "      <th>comp8_rate</th>\n",
       "      <th>comp8_inv</th>\n",
       "      <th>comp8_rate_percent_diff</th>\n",
       "      <th>click_bool</th>\n",
       "      <th>gross_bookings_usd</th>\n",
       "      <th>booking_bool</th>\n",
       "    </tr>\n",
       "  </thead>\n",
       "  <tbody>\n",
       "    <tr>\n",
       "      <th>count</th>\n",
       "      <td>991392.000000</td>\n",
       "      <td>991392.00000</td>\n",
       "      <td>991392.000000</td>\n",
       "      <td>50383.000000</td>\n",
       "      <td>50616.000000</td>\n",
       "      <td>991392.000000</td>\n",
       "      <td>991392.000000</td>\n",
       "      <td>991392.000000</td>\n",
       "      <td>990047.000000</td>\n",
       "      <td>991392.000000</td>\n",
       "      <td>...</td>\n",
       "      <td>19278.000000</td>\n",
       "      <td>63277.000000</td>\n",
       "      <td>71454.000000</td>\n",
       "      <td>27896.000000</td>\n",
       "      <td>381059.000000</td>\n",
       "      <td>395136.000000</td>\n",
       "      <td>122547.000000</td>\n",
       "      <td>991392.000000</td>\n",
       "      <td>27683.000000</td>\n",
       "      <td>991392.000000</td>\n",
       "    </tr>\n",
       "    <tr>\n",
       "      <th>mean</th>\n",
       "      <td>333136.969343</td>\n",
       "      <td>9.96017</td>\n",
       "      <td>175.265549</td>\n",
       "      <td>3.378422</td>\n",
       "      <td>176.384164</td>\n",
       "      <td>173.938439</td>\n",
       "      <td>70108.873379</td>\n",
       "      <td>3.182075</td>\n",
       "      <td>3.777329</td>\n",
       "      <td>0.634028</td>\n",
       "      <td>...</td>\n",
       "      <td>17.142753</td>\n",
       "      <td>0.145993</td>\n",
       "      <td>0.083158</td>\n",
       "      <td>19.792372</td>\n",
       "      <td>-0.061594</td>\n",
       "      <td>0.009776</td>\n",
       "      <td>20.845684</td>\n",
       "      <td>0.044667</td>\n",
       "      <td>387.042275</td>\n",
       "      <td>0.027923</td>\n",
       "    </tr>\n",
       "    <tr>\n",
       "      <th>std</th>\n",
       "      <td>192263.435125</td>\n",
       "      <td>7.65639</td>\n",
       "      <td>65.948573</td>\n",
       "      <td>0.693593</td>\n",
       "      <td>109.010899</td>\n",
       "      <td>68.318498</td>\n",
       "      <td>40630.200229</td>\n",
       "      <td>1.050548</td>\n",
       "      <td>1.051191</td>\n",
       "      <td>0.481702</td>\n",
       "      <td>...</td>\n",
       "      <td>28.947681</td>\n",
       "      <td>0.579008</td>\n",
       "      <td>0.316285</td>\n",
       "      <td>46.468097</td>\n",
       "      <td>0.469440</td>\n",
       "      <td>0.203225</td>\n",
       "      <td>782.083724</td>\n",
       "      <td>0.206573</td>\n",
       "      <td>587.516806</td>\n",
       "      <td>0.164753</td>\n",
       "    </tr>\n",
       "    <tr>\n",
       "      <th>min</th>\n",
       "      <td>1.000000</td>\n",
       "      <td>1.00000</td>\n",
       "      <td>1.000000</td>\n",
       "      <td>1.000000</td>\n",
       "      <td>0.000000</td>\n",
       "      <td>1.000000</td>\n",
       "      <td>1.000000</td>\n",
       "      <td>0.000000</td>\n",
       "      <td>0.000000</td>\n",
       "      <td>0.000000</td>\n",
       "      <td>...</td>\n",
       "      <td>2.000000</td>\n",
       "      <td>-1.000000</td>\n",
       "      <td>-1.000000</td>\n",
       "      <td>2.000000</td>\n",
       "      <td>-1.000000</td>\n",
       "      <td>-1.000000</td>\n",
       "      <td>2.000000</td>\n",
       "      <td>0.000000</td>\n",
       "      <td>0.000000</td>\n",
       "      <td>0.000000</td>\n",
       "    </tr>\n",
       "    <tr>\n",
       "      <th>25%</th>\n",
       "      <td>166900.000000</td>\n",
       "      <td>5.00000</td>\n",
       "      <td>100.000000</td>\n",
       "      <td>2.920000</td>\n",
       "      <td>110.345000</td>\n",
       "      <td>100.000000</td>\n",
       "      <td>35035.000000</td>\n",
       "      <td>3.000000</td>\n",
       "      <td>3.500000</td>\n",
       "      <td>0.000000</td>\n",
       "      <td>...</td>\n",
       "      <td>6.000000</td>\n",
       "      <td>0.000000</td>\n",
       "      <td>0.000000</td>\n",
       "      <td>7.000000</td>\n",
       "      <td>0.000000</td>\n",
       "      <td>0.000000</td>\n",
       "      <td>7.000000</td>\n",
       "      <td>0.000000</td>\n",
       "      <td>124.770000</td>\n",
       "      <td>0.000000</td>\n",
       "    </tr>\n",
       "    <tr>\n",
       "      <th>50%</th>\n",
       "      <td>333089.000000</td>\n",
       "      <td>5.00000</td>\n",
       "      <td>219.000000</td>\n",
       "      <td>3.450000</td>\n",
       "      <td>151.540000</td>\n",
       "      <td>219.000000</td>\n",
       "      <td>69615.000000</td>\n",
       "      <td>3.000000</td>\n",
       "      <td>4.000000</td>\n",
       "      <td>1.000000</td>\n",
       "      <td>...</td>\n",
       "      <td>11.000000</td>\n",
       "      <td>0.000000</td>\n",
       "      <td>0.000000</td>\n",
       "      <td>12.000000</td>\n",
       "      <td>0.000000</td>\n",
       "      <td>0.000000</td>\n",
       "      <td>11.000000</td>\n",
       "      <td>0.000000</td>\n",
       "      <td>220.080000</td>\n",
       "      <td>0.000000</td>\n",
       "    </tr>\n",
       "    <tr>\n",
       "      <th>75%</th>\n",
       "      <td>500277.250000</td>\n",
       "      <td>14.00000</td>\n",
       "      <td>219.000000</td>\n",
       "      <td>3.950000</td>\n",
       "      <td>214.790000</td>\n",
       "      <td>219.000000</td>\n",
       "      <td>105258.500000</td>\n",
       "      <td>4.000000</td>\n",
       "      <td>4.500000</td>\n",
       "      <td>1.000000</td>\n",
       "      <td>...</td>\n",
       "      <td>19.000000</td>\n",
       "      <td>1.000000</td>\n",
       "      <td>0.000000</td>\n",
       "      <td>20.000000</td>\n",
       "      <td>0.000000</td>\n",
       "      <td>0.000000</td>\n",
       "      <td>17.000000</td>\n",
       "      <td>0.000000</td>\n",
       "      <td>435.560000</td>\n",
       "      <td>0.000000</td>\n",
       "    </tr>\n",
       "    <tr>\n",
       "      <th>max</th>\n",
       "      <td>665573.000000</td>\n",
       "      <td>34.00000</td>\n",
       "      <td>231.000000</td>\n",
       "      <td>5.000000</td>\n",
       "      <td>2768.930000</td>\n",
       "      <td>230.000000</td>\n",
       "      <td>140821.000000</td>\n",
       "      <td>5.000000</td>\n",
       "      <td>5.000000</td>\n",
       "      <td>1.000000</td>\n",
       "      <td>...</td>\n",
       "      <td>1620.000000</td>\n",
       "      <td>1.000000</td>\n",
       "      <td>1.000000</td>\n",
       "      <td>1426.000000</td>\n",
       "      <td>1.000000</td>\n",
       "      <td>1.000000</td>\n",
       "      <td>144900.000000</td>\n",
       "      <td>1.000000</td>\n",
       "      <td>41036.430000</td>\n",
       "      <td>1.000000</td>\n",
       "    </tr>\n",
       "  </tbody>\n",
       "</table>\n",
       "<p>8 rows × 53 columns</p>\n",
       "</div>"
      ],
      "text/plain": [
       "             srch_id       site_id  visitor_location_country_id  \\\n",
       "count  991392.000000  991392.00000                991392.000000   \n",
       "mean   333136.969343       9.96017                   175.265549   \n",
       "std    192263.435125       7.65639                    65.948573   \n",
       "min         1.000000       1.00000                     1.000000   \n",
       "25%    166900.000000       5.00000                   100.000000   \n",
       "50%    333089.000000       5.00000                   219.000000   \n",
       "75%    500277.250000      14.00000                   219.000000   \n",
       "max    665573.000000      34.00000                   231.000000   \n",
       "\n",
       "       visitor_hist_starrating  visitor_hist_adr_usd  prop_country_id  \\\n",
       "count             50383.000000          50616.000000    991392.000000   \n",
       "mean                  3.378422            176.384164       173.938439   \n",
       "std                   0.693593            109.010899        68.318498   \n",
       "min                   1.000000              0.000000         1.000000   \n",
       "25%                   2.920000            110.345000       100.000000   \n",
       "50%                   3.450000            151.540000       219.000000   \n",
       "75%                   3.950000            214.790000       219.000000   \n",
       "max                   5.000000           2768.930000       230.000000   \n",
       "\n",
       "             prop_id  prop_starrating  prop_review_score  prop_brand_bool  \\\n",
       "count  991392.000000    991392.000000      990047.000000    991392.000000   \n",
       "mean    70108.873379         3.182075           3.777329         0.634028   \n",
       "std     40630.200229         1.050548           1.051191         0.481702   \n",
       "min         1.000000         0.000000           0.000000         0.000000   \n",
       "25%     35035.000000         3.000000           3.500000         0.000000   \n",
       "50%     69615.000000         3.000000           4.000000         1.000000   \n",
       "75%    105258.500000         4.000000           4.500000         1.000000   \n",
       "max    140821.000000         5.000000           5.000000         1.000000   \n",
       "\n",
       "       ...  comp6_rate_percent_diff    comp7_rate     comp7_inv  \\\n",
       "count  ...             19278.000000  63277.000000  71454.000000   \n",
       "mean   ...                17.142753      0.145993      0.083158   \n",
       "std    ...                28.947681      0.579008      0.316285   \n",
       "min    ...                 2.000000     -1.000000     -1.000000   \n",
       "25%    ...                 6.000000      0.000000      0.000000   \n",
       "50%    ...                11.000000      0.000000      0.000000   \n",
       "75%    ...                19.000000      1.000000      0.000000   \n",
       "max    ...              1620.000000      1.000000      1.000000   \n",
       "\n",
       "       comp7_rate_percent_diff     comp8_rate      comp8_inv  \\\n",
       "count             27896.000000  381059.000000  395136.000000   \n",
       "mean                 19.792372      -0.061594       0.009776   \n",
       "std                  46.468097       0.469440       0.203225   \n",
       "min                   2.000000      -1.000000      -1.000000   \n",
       "25%                   7.000000       0.000000       0.000000   \n",
       "50%                  12.000000       0.000000       0.000000   \n",
       "75%                  20.000000       0.000000       0.000000   \n",
       "max                1426.000000       1.000000       1.000000   \n",
       "\n",
       "       comp8_rate_percent_diff     click_bool  gross_bookings_usd  \\\n",
       "count            122547.000000  991392.000000        27683.000000   \n",
       "mean                 20.845684       0.044667          387.042275   \n",
       "std                 782.083724       0.206573          587.516806   \n",
       "min                   2.000000       0.000000            0.000000   \n",
       "25%                   7.000000       0.000000          124.770000   \n",
       "50%                  11.000000       0.000000          220.080000   \n",
       "75%                  17.000000       0.000000          435.560000   \n",
       "max              144900.000000       1.000000        41036.430000   \n",
       "\n",
       "        booking_bool  \n",
       "count  991392.000000  \n",
       "mean        0.027923  \n",
       "std         0.164753  \n",
       "min         0.000000  \n",
       "25%         0.000000  \n",
       "50%         0.000000  \n",
       "75%         0.000000  \n",
       "max         1.000000  \n",
       "\n",
       "[8 rows x 53 columns]"
      ]
     },
     "execution_count": 11,
     "metadata": {},
     "output_type": "execute_result"
    }
   ],
   "source": [
    "df.describe()"
   ]
  },
  {
   "cell_type": "code",
   "execution_count": 12,
   "metadata": {},
   "outputs": [
    {
     "data": {
      "text/plain": [
       "Index(['srch_id', 'date_time', 'site_id', 'visitor_location_country_id',\n",
       "       'visitor_hist_starrating', 'visitor_hist_adr_usd', 'prop_country_id',\n",
       "       'prop_id', 'prop_starrating', 'prop_review_score', 'prop_brand_bool',\n",
       "       'prop_location_score1', 'prop_location_score2',\n",
       "       'prop_log_historical_price', 'position', 'price_usd', 'promotion_flag',\n",
       "       'srch_destination_id', 'srch_length_of_stay', 'srch_booking_window',\n",
       "       'srch_adults_count', 'srch_children_count', 'srch_room_count',\n",
       "       'srch_saturday_night_bool', 'srch_query_affinity_score',\n",
       "       'orig_destination_distance', 'random_bool', 'comp1_rate', 'comp1_inv',\n",
       "       'comp1_rate_percent_diff', 'comp2_rate', 'comp2_inv',\n",
       "       'comp2_rate_percent_diff', 'comp3_rate', 'comp3_inv',\n",
       "       'comp3_rate_percent_diff', 'comp4_rate', 'comp4_inv',\n",
       "       'comp4_rate_percent_diff', 'comp5_rate', 'comp5_inv',\n",
       "       'comp5_rate_percent_diff', 'comp6_rate', 'comp6_inv',\n",
       "       'comp6_rate_percent_diff', 'comp7_rate', 'comp7_inv',\n",
       "       'comp7_rate_percent_diff', 'comp8_rate', 'comp8_inv',\n",
       "       'comp8_rate_percent_diff', 'click_bool', 'gross_bookings_usd',\n",
       "       'booking_bool'],\n",
       "      dtype='object')"
      ]
     },
     "execution_count": 12,
     "metadata": {},
     "output_type": "execute_result"
    }
   ],
   "source": [
    "df.columns"
   ]
  },
  {
   "cell_type": "code",
   "execution_count": 13,
   "metadata": {},
   "outputs": [
    {
     "data": {
      "text/plain": [
       "srch_id                             0\n",
       "date_time                           0\n",
       "site_id                             0\n",
       "visitor_location_country_id         0\n",
       "visitor_hist_starrating        941009\n",
       "visitor_hist_adr_usd           940776\n",
       "prop_country_id                     0\n",
       "prop_id                             0\n",
       "prop_starrating                     0\n",
       "prop_review_score                1345\n",
       "prop_brand_bool                     0\n",
       "prop_location_score1                0\n",
       "prop_location_score2           217571\n",
       "prop_log_historical_price           0\n",
       "position                            0\n",
       "price_usd                           0\n",
       "promotion_flag                      0\n",
       "srch_destination_id                 0\n",
       "srch_length_of_stay                 0\n",
       "srch_booking_window                 0\n",
       "srch_adults_count                   0\n",
       "srch_children_count                 0\n",
       "srch_room_count                     0\n",
       "srch_saturday_night_bool            0\n",
       "srch_query_affinity_score      927940\n",
       "orig_destination_distance      321646\n",
       "random_bool                         0\n",
       "comp1_rate                     967740\n",
       "comp1_inv                      965837\n",
       "comp1_rate_percent_diff        972835\n",
       "comp2_rate                     587893\n",
       "comp2_inv                      566921\n",
       "comp2_rate_percent_diff        880539\n",
       "comp3_rate                     686067\n",
       "comp3_inv                      662781\n",
       "comp3_rate_percent_diff        897250\n",
       "comp4_rate                     929246\n",
       "comp4_inv                      922000\n",
       "comp4_rate_percent_diff        964861\n",
       "comp5_rate                     546839\n",
       "comp5_inv                      519006\n",
       "comp5_rate_percent_diff        822523\n",
       "comp6_rate                     943068\n",
       "comp6_inv                      938828\n",
       "comp6_rate_percent_diff        972114\n",
       "comp7_rate                     928115\n",
       "comp7_inv                      919938\n",
       "comp7_rate_percent_diff        963496\n",
       "comp8_rate                     610333\n",
       "comp8_inv                      596256\n",
       "comp8_rate_percent_diff        868845\n",
       "click_bool                          0\n",
       "gross_bookings_usd             963709\n",
       "booking_bool                        0\n",
       "dtype: int64"
      ]
     },
     "execution_count": 13,
     "metadata": {},
     "output_type": "execute_result"
    }
   ],
   "source": [
    "df.isnull().sum()"
   ]
  },
  {
   "cell_type": "code",
   "execution_count": 16,
   "metadata": {},
   "outputs": [
    {
     "data": {
      "text/plain": [
       "26"
      ]
     },
     "execution_count": 16,
     "metadata": {},
     "output_type": "execute_result"
    }
   ],
   "source": [
    "null_counts = df.isnull().sum()\n",
    "len(null_counts[null_counts <500000])"
   ]
  },
  {
   "cell_type": "code",
   "execution_count": 17,
   "metadata": {},
   "outputs": [
    {
     "data": {
      "text/plain": [
       "0"
      ]
     },
     "execution_count": 17,
     "metadata": {},
     "output_type": "execute_result"
    }
   ],
   "source": [
    "len(null_counts[null_counts >5000000])"
   ]
  },
  {
   "cell_type": "code",
   "execution_count": 18,
   "metadata": {},
   "outputs": [],
   "source": [
    "refined_cols = null_counts[null_counts <5000000]"
   ]
  },
  {
   "cell_type": "code",
   "execution_count": 19,
   "metadata": {},
   "outputs": [
    {
     "data": {
      "text/plain": [
       "srch_id                             0\n",
       "date_time                           0\n",
       "site_id                             0\n",
       "visitor_location_country_id         0\n",
       "visitor_hist_starrating        941009\n",
       "visitor_hist_adr_usd           940776\n",
       "prop_country_id                     0\n",
       "prop_id                             0\n",
       "prop_starrating                     0\n",
       "prop_review_score                1345\n",
       "prop_brand_bool                     0\n",
       "prop_location_score1                0\n",
       "prop_location_score2           217571\n",
       "prop_log_historical_price           0\n",
       "position                            0\n",
       "price_usd                           0\n",
       "promotion_flag                      0\n",
       "srch_destination_id                 0\n",
       "srch_length_of_stay                 0\n",
       "srch_booking_window                 0\n",
       "srch_adults_count                   0\n",
       "srch_children_count                 0\n",
       "srch_room_count                     0\n",
       "srch_saturday_night_bool            0\n",
       "srch_query_affinity_score      927940\n",
       "orig_destination_distance      321646\n",
       "random_bool                         0\n",
       "comp1_rate                     967740\n",
       "comp1_inv                      965837\n",
       "comp1_rate_percent_diff        972835\n",
       "comp2_rate                     587893\n",
       "comp2_inv                      566921\n",
       "comp2_rate_percent_diff        880539\n",
       "comp3_rate                     686067\n",
       "comp3_inv                      662781\n",
       "comp3_rate_percent_diff        897250\n",
       "comp4_rate                     929246\n",
       "comp4_inv                      922000\n",
       "comp4_rate_percent_diff        964861\n",
       "comp5_rate                     546839\n",
       "comp5_inv                      519006\n",
       "comp5_rate_percent_diff        822523\n",
       "comp6_rate                     943068\n",
       "comp6_inv                      938828\n",
       "comp6_rate_percent_diff        972114\n",
       "comp7_rate                     928115\n",
       "comp7_inv                      919938\n",
       "comp7_rate_percent_diff        963496\n",
       "comp8_rate                     610333\n",
       "comp8_inv                      596256\n",
       "comp8_rate_percent_diff        868845\n",
       "click_bool                          0\n",
       "gross_bookings_usd             963709\n",
       "booking_bool                        0\n",
       "dtype: int64"
      ]
     },
     "execution_count": 19,
     "metadata": {},
     "output_type": "execute_result"
    }
   ],
   "source": [
    "refined_cols"
   ]
  },
  {
   "cell_type": "code",
   "execution_count": 20,
   "metadata": {},
   "outputs": [],
   "source": [
    "cols = []\n",
    "for items in refined_cols.iteritems():\n",
    "    cols.append(items[0])"
   ]
  },
  {
   "cell_type": "code",
   "execution_count": 21,
   "metadata": {},
   "outputs": [
    {
     "data": {
      "text/plain": [
       "['srch_id',\n",
       " 'date_time',\n",
       " 'site_id',\n",
       " 'visitor_location_country_id',\n",
       " 'visitor_hist_starrating',\n",
       " 'visitor_hist_adr_usd',\n",
       " 'prop_country_id',\n",
       " 'prop_id',\n",
       " 'prop_starrating',\n",
       " 'prop_review_score',\n",
       " 'prop_brand_bool',\n",
       " 'prop_location_score1',\n",
       " 'prop_location_score2',\n",
       " 'prop_log_historical_price',\n",
       " 'position',\n",
       " 'price_usd',\n",
       " 'promotion_flag',\n",
       " 'srch_destination_id',\n",
       " 'srch_length_of_stay',\n",
       " 'srch_booking_window',\n",
       " 'srch_adults_count',\n",
       " 'srch_children_count',\n",
       " 'srch_room_count',\n",
       " 'srch_saturday_night_bool',\n",
       " 'srch_query_affinity_score',\n",
       " 'orig_destination_distance',\n",
       " 'random_bool',\n",
       " 'comp1_rate',\n",
       " 'comp1_inv',\n",
       " 'comp1_rate_percent_diff',\n",
       " 'comp2_rate',\n",
       " 'comp2_inv',\n",
       " 'comp2_rate_percent_diff',\n",
       " 'comp3_rate',\n",
       " 'comp3_inv',\n",
       " 'comp3_rate_percent_diff',\n",
       " 'comp4_rate',\n",
       " 'comp4_inv',\n",
       " 'comp4_rate_percent_diff',\n",
       " 'comp5_rate',\n",
       " 'comp5_inv',\n",
       " 'comp5_rate_percent_diff',\n",
       " 'comp6_rate',\n",
       " 'comp6_inv',\n",
       " 'comp6_rate_percent_diff',\n",
       " 'comp7_rate',\n",
       " 'comp7_inv',\n",
       " 'comp7_rate_percent_diff',\n",
       " 'comp8_rate',\n",
       " 'comp8_inv',\n",
       " 'comp8_rate_percent_diff',\n",
       " 'click_bool',\n",
       " 'gross_bookings_usd',\n",
       " 'booking_bool']"
      ]
     },
     "execution_count": 21,
     "metadata": {},
     "output_type": "execute_result"
    }
   ],
   "source": [
    "cols"
   ]
  },
  {
   "cell_type": "code",
   "execution_count": 22,
   "metadata": {},
   "outputs": [],
   "source": [
    "new = df.filter(cols, axis=1)"
   ]
  },
  {
   "cell_type": "code",
   "execution_count": 23,
   "metadata": {},
   "outputs": [
    {
     "data": {
      "text/html": [
       "<div>\n",
       "<style scoped>\n",
       "    .dataframe tbody tr th:only-of-type {\n",
       "        vertical-align: middle;\n",
       "    }\n",
       "\n",
       "    .dataframe tbody tr th {\n",
       "        vertical-align: top;\n",
       "    }\n",
       "\n",
       "    .dataframe thead th {\n",
       "        text-align: right;\n",
       "    }\n",
       "</style>\n",
       "<table border=\"1\" class=\"dataframe\">\n",
       "  <thead>\n",
       "    <tr style=\"text-align: right;\">\n",
       "      <th></th>\n",
       "      <th>srch_id</th>\n",
       "      <th>date_time</th>\n",
       "      <th>site_id</th>\n",
       "      <th>visitor_location_country_id</th>\n",
       "      <th>visitor_hist_starrating</th>\n",
       "      <th>visitor_hist_adr_usd</th>\n",
       "      <th>prop_country_id</th>\n",
       "      <th>prop_id</th>\n",
       "      <th>prop_starrating</th>\n",
       "      <th>prop_review_score</th>\n",
       "      <th>...</th>\n",
       "      <th>comp6_rate_percent_diff</th>\n",
       "      <th>comp7_rate</th>\n",
       "      <th>comp7_inv</th>\n",
       "      <th>comp7_rate_percent_diff</th>\n",
       "      <th>comp8_rate</th>\n",
       "      <th>comp8_inv</th>\n",
       "      <th>comp8_rate_percent_diff</th>\n",
       "      <th>click_bool</th>\n",
       "      <th>gross_bookings_usd</th>\n",
       "      <th>booking_bool</th>\n",
       "    </tr>\n",
       "  </thead>\n",
       "  <tbody>\n",
       "    <tr>\n",
       "      <th>0</th>\n",
       "      <td>1</td>\n",
       "      <td>2013-04-04 08:32:15</td>\n",
       "      <td>12</td>\n",
       "      <td>187</td>\n",
       "      <td>NaN</td>\n",
       "      <td>NaN</td>\n",
       "      <td>219</td>\n",
       "      <td>122844</td>\n",
       "      <td>3</td>\n",
       "      <td>4.5</td>\n",
       "      <td>...</td>\n",
       "      <td>NaN</td>\n",
       "      <td>NaN</td>\n",
       "      <td>NaN</td>\n",
       "      <td>NaN</td>\n",
       "      <td>0.0</td>\n",
       "      <td>0.0</td>\n",
       "      <td>NaN</td>\n",
       "      <td>0</td>\n",
       "      <td>NaN</td>\n",
       "      <td>0</td>\n",
       "    </tr>\n",
       "    <tr>\n",
       "      <th>1</th>\n",
       "      <td>4</td>\n",
       "      <td>2012-12-31 08:59:22</td>\n",
       "      <td>5</td>\n",
       "      <td>219</td>\n",
       "      <td>NaN</td>\n",
       "      <td>NaN</td>\n",
       "      <td>219</td>\n",
       "      <td>83045</td>\n",
       "      <td>3</td>\n",
       "      <td>3.5</td>\n",
       "      <td>...</td>\n",
       "      <td>NaN</td>\n",
       "      <td>NaN</td>\n",
       "      <td>NaN</td>\n",
       "      <td>NaN</td>\n",
       "      <td>NaN</td>\n",
       "      <td>NaN</td>\n",
       "      <td>NaN</td>\n",
       "      <td>0</td>\n",
       "      <td>NaN</td>\n",
       "      <td>0</td>\n",
       "    </tr>\n",
       "    <tr>\n",
       "      <th>2</th>\n",
       "      <td>4</td>\n",
       "      <td>2012-12-31 08:59:22</td>\n",
       "      <td>5</td>\n",
       "      <td>219</td>\n",
       "      <td>NaN</td>\n",
       "      <td>NaN</td>\n",
       "      <td>219</td>\n",
       "      <td>85567</td>\n",
       "      <td>2</td>\n",
       "      <td>4.0</td>\n",
       "      <td>...</td>\n",
       "      <td>NaN</td>\n",
       "      <td>NaN</td>\n",
       "      <td>NaN</td>\n",
       "      <td>NaN</td>\n",
       "      <td>NaN</td>\n",
       "      <td>NaN</td>\n",
       "      <td>NaN</td>\n",
       "      <td>0</td>\n",
       "      <td>NaN</td>\n",
       "      <td>0</td>\n",
       "    </tr>\n",
       "    <tr>\n",
       "      <th>3</th>\n",
       "      <td>4</td>\n",
       "      <td>2012-12-31 08:59:22</td>\n",
       "      <td>5</td>\n",
       "      <td>219</td>\n",
       "      <td>NaN</td>\n",
       "      <td>NaN</td>\n",
       "      <td>219</td>\n",
       "      <td>97099</td>\n",
       "      <td>4</td>\n",
       "      <td>4.0</td>\n",
       "      <td>...</td>\n",
       "      <td>NaN</td>\n",
       "      <td>NaN</td>\n",
       "      <td>NaN</td>\n",
       "      <td>NaN</td>\n",
       "      <td>NaN</td>\n",
       "      <td>NaN</td>\n",
       "      <td>NaN</td>\n",
       "      <td>0</td>\n",
       "      <td>NaN</td>\n",
       "      <td>0</td>\n",
       "    </tr>\n",
       "    <tr>\n",
       "      <th>4</th>\n",
       "      <td>8</td>\n",
       "      <td>2013-03-20 17:50:44</td>\n",
       "      <td>5</td>\n",
       "      <td>219</td>\n",
       "      <td>NaN</td>\n",
       "      <td>NaN</td>\n",
       "      <td>219</td>\n",
       "      <td>10250</td>\n",
       "      <td>3</td>\n",
       "      <td>3.5</td>\n",
       "      <td>...</td>\n",
       "      <td>NaN</td>\n",
       "      <td>NaN</td>\n",
       "      <td>NaN</td>\n",
       "      <td>NaN</td>\n",
       "      <td>0.0</td>\n",
       "      <td>0.0</td>\n",
       "      <td>NaN</td>\n",
       "      <td>0</td>\n",
       "      <td>NaN</td>\n",
       "      <td>0</td>\n",
       "    </tr>\n",
       "  </tbody>\n",
       "</table>\n",
       "<p>5 rows × 54 columns</p>\n",
       "</div>"
      ],
      "text/plain": [
       "   srch_id            date_time  site_id  visitor_location_country_id  \\\n",
       "0        1  2013-04-04 08:32:15       12                          187   \n",
       "1        4  2012-12-31 08:59:22        5                          219   \n",
       "2        4  2012-12-31 08:59:22        5                          219   \n",
       "3        4  2012-12-31 08:59:22        5                          219   \n",
       "4        8  2013-03-20 17:50:44        5                          219   \n",
       "\n",
       "   visitor_hist_starrating  visitor_hist_adr_usd  prop_country_id  prop_id  \\\n",
       "0                      NaN                   NaN              219   122844   \n",
       "1                      NaN                   NaN              219    83045   \n",
       "2                      NaN                   NaN              219    85567   \n",
       "3                      NaN                   NaN              219    97099   \n",
       "4                      NaN                   NaN              219    10250   \n",
       "\n",
       "   prop_starrating  prop_review_score  ...  comp6_rate_percent_diff  \\\n",
       "0                3                4.5  ...                      NaN   \n",
       "1                3                3.5  ...                      NaN   \n",
       "2                2                4.0  ...                      NaN   \n",
       "3                4                4.0  ...                      NaN   \n",
       "4                3                3.5  ...                      NaN   \n",
       "\n",
       "   comp7_rate  comp7_inv  comp7_rate_percent_diff  comp8_rate  comp8_inv  \\\n",
       "0         NaN        NaN                      NaN         0.0        0.0   \n",
       "1         NaN        NaN                      NaN         NaN        NaN   \n",
       "2         NaN        NaN                      NaN         NaN        NaN   \n",
       "3         NaN        NaN                      NaN         NaN        NaN   \n",
       "4         NaN        NaN                      NaN         0.0        0.0   \n",
       "\n",
       "   comp8_rate_percent_diff  click_bool  gross_bookings_usd  booking_bool  \n",
       "0                      NaN           0                 NaN             0  \n",
       "1                      NaN           0                 NaN             0  \n",
       "2                      NaN           0                 NaN             0  \n",
       "3                      NaN           0                 NaN             0  \n",
       "4                      NaN           0                 NaN             0  \n",
       "\n",
       "[5 rows x 54 columns]"
      ]
     },
     "execution_count": 23,
     "metadata": {},
     "output_type": "execute_result"
    }
   ],
   "source": [
    "new.head()"
   ]
  },
  {
   "cell_type": "code",
   "execution_count": 25,
   "metadata": {},
   "outputs": [
    {
     "data": {
      "text/plain": [
       "<matplotlib.axes._subplots.AxesSubplot at 0x7f14ec27c4d0>"
      ]
     },
     "execution_count": 25,
     "metadata": {},
     "output_type": "execute_result"
    },
    {
     "data": {
      "image/png": "[encoded data removed]",
      "text/plain": [
       "<Figure size 432x288 with 1 Axes>"
      ]
     },
     "metadata": {
      "needs_background": "light"
     },
     "output_type": "display_data"
    }
   ],
   "source": [
    "new['prop_review_score'].plot.hist()"
   ]
  },
  {
   "cell_type": "code",
   "execution_count": 26,
   "metadata": {},
   "outputs": [
    {
     "data": {
      "text/plain": [
       "<matplotlib.axes._subplots.AxesSubplot at 0x7f14ec14f690>"
      ]
     },
     "execution_count": 26,
     "metadata": {},
     "output_type": "execute_result"
    },
    {
     "data": {
      "image/png": "[encoded data removed]",
      "text/plain": [
       "<Figure size 432x288 with 1 Axes>"
      ]
     },
     "metadata": {
      "needs_background": "light"
     },
     "output_type": "display_data"
    }
   ],
   "source": [
    "new['prop_location_score1'].plot.hist()"
   ]
  },
  {
   "cell_type": "code",
   "execution_count": 27,
   "metadata": {},
   "outputs": [
    {
     "data": {
      "text/plain": [
       "<matplotlib.axes._subplots.AxesSubplot at 0x7f14ec0f6850>"
      ]
     },
     "execution_count": 27,
     "metadata": {},
     "output_type": "execute_result"
    },
    {
     "data": {
      "image/png": "[encoded data removed]",
      "text/plain": [
       "<Figure size 432x288 with 1 Axes>"
      ]
     },
     "metadata": {
      "needs_background": "light"
     },
     "output_type": "display_data"
    }
   ],
   "source": [
    "new['prop_location_score2'].plot.hist()"
   ]
  },
  {
   "cell_type": "code",
   "execution_count": 21,
   "metadata": {},
   "outputs": [
    {
     "data": {
      "text/plain": [
       "<matplotlib.axes._subplots.AxesSubplot at 0x7f6f793cdcc0>"
      ]
     },
     "execution_count": 21,
     "metadata": {},
     "output_type": "execute_result"
    },
    {
     "data": {
      "image/png": "[encoded data removed]",
      "text/plain": [
       "<Figure size 432x288 with 1 Axes>"
      ]
     },
     "metadata": {
      "needs_background": "light"
     },
     "output_type": "display_data"
    }
   ],
   "source": [
    "new['prop_starrating'].plot.hist()"
   ]
  },
  {
   "cell_type": "code",
   "execution_count": 22,
   "metadata": {},
   "outputs": [
    {
     "data": {
      "text/html": [
       "<div>\n",
       "<style scoped>\n",
       "    .dataframe tbody tr th:only-of-type {\n",
       "        vertical-align: middle;\n",
       "    }\n",
       "\n",
       "    .dataframe tbody tr th {\n",
       "        vertical-align: top;\n",
       "    }\n",
       "\n",
       "    .dataframe thead th {\n",
       "        text-align: right;\n",
       "    }\n",
       "</style>\n",
       "<table border=\"1\" class=\"dataframe\">\n",
       "  <thead>\n",
       "    <tr style=\"text-align: right;\">\n",
       "      <th></th>\n",
       "      <th>srch_id</th>\n",
       "      <th>date_time</th>\n",
       "      <th>site_id</th>\n",
       "      <th>visitor_location_country_id</th>\n",
       "      <th>prop_country_id</th>\n",
       "      <th>prop_id</th>\n",
       "      <th>prop_starrating</th>\n",
       "      <th>prop_review_score</th>\n",
       "      <th>prop_brand_bool</th>\n",
       "      <th>prop_location_score1</th>\n",
       "      <th>...</th>\n",
       "      <th>srch_length_of_stay</th>\n",
       "      <th>srch_booking_window</th>\n",
       "      <th>srch_adults_count</th>\n",
       "      <th>srch_children_count</th>\n",
       "      <th>srch_room_count</th>\n",
       "      <th>srch_saturday_night_bool</th>\n",
       "      <th>orig_destination_distance</th>\n",
       "      <th>random_bool</th>\n",
       "      <th>click_bool</th>\n",
       "      <th>booking_bool</th>\n",
       "    </tr>\n",
       "  </thead>\n",
       "  <tbody>\n",
       "    <tr>\n",
       "      <th>0</th>\n",
       "      <td>1</td>\n",
       "      <td>2013-04-04 08:32:15</td>\n",
       "      <td>12</td>\n",
       "      <td>187</td>\n",
       "      <td>219</td>\n",
       "      <td>893</td>\n",
       "      <td>3</td>\n",
       "      <td>3.5</td>\n",
       "      <td>1</td>\n",
       "      <td>2.83</td>\n",
       "      <td>...</td>\n",
       "      <td>1</td>\n",
       "      <td>0</td>\n",
       "      <td>4</td>\n",
       "      <td>0</td>\n",
       "      <td>1</td>\n",
       "      <td>1</td>\n",
       "      <td>NaN</td>\n",
       "      <td>1</td>\n",
       "      <td>0</td>\n",
       "      <td>0</td>\n",
       "    </tr>\n",
       "    <tr>\n",
       "      <th>1</th>\n",
       "      <td>1</td>\n",
       "      <td>2013-04-04 08:32:15</td>\n",
       "      <td>12</td>\n",
       "      <td>187</td>\n",
       "      <td>219</td>\n",
       "      <td>10404</td>\n",
       "      <td>4</td>\n",
       "      <td>4.0</td>\n",
       "      <td>1</td>\n",
       "      <td>2.20</td>\n",
       "      <td>...</td>\n",
       "      <td>1</td>\n",
       "      <td>0</td>\n",
       "      <td>4</td>\n",
       "      <td>0</td>\n",
       "      <td>1</td>\n",
       "      <td>1</td>\n",
       "      <td>NaN</td>\n",
       "      <td>1</td>\n",
       "      <td>0</td>\n",
       "      <td>0</td>\n",
       "    </tr>\n",
       "    <tr>\n",
       "      <th>2</th>\n",
       "      <td>1</td>\n",
       "      <td>2013-04-04 08:32:15</td>\n",
       "      <td>12</td>\n",
       "      <td>187</td>\n",
       "      <td>219</td>\n",
       "      <td>21315</td>\n",
       "      <td>3</td>\n",
       "      <td>4.5</td>\n",
       "      <td>1</td>\n",
       "      <td>2.20</td>\n",
       "      <td>...</td>\n",
       "      <td>1</td>\n",
       "      <td>0</td>\n",
       "      <td>4</td>\n",
       "      <td>0</td>\n",
       "      <td>1</td>\n",
       "      <td>1</td>\n",
       "      <td>NaN</td>\n",
       "      <td>1</td>\n",
       "      <td>0</td>\n",
       "      <td>0</td>\n",
       "    </tr>\n",
       "    <tr>\n",
       "      <th>3</th>\n",
       "      <td>1</td>\n",
       "      <td>2013-04-04 08:32:15</td>\n",
       "      <td>12</td>\n",
       "      <td>187</td>\n",
       "      <td>219</td>\n",
       "      <td>27348</td>\n",
       "      <td>2</td>\n",
       "      <td>4.0</td>\n",
       "      <td>1</td>\n",
       "      <td>2.83</td>\n",
       "      <td>...</td>\n",
       "      <td>1</td>\n",
       "      <td>0</td>\n",
       "      <td>4</td>\n",
       "      <td>0</td>\n",
       "      <td>1</td>\n",
       "      <td>1</td>\n",
       "      <td>NaN</td>\n",
       "      <td>1</td>\n",
       "      <td>0</td>\n",
       "      <td>0</td>\n",
       "    </tr>\n",
       "    <tr>\n",
       "      <th>4</th>\n",
       "      <td>1</td>\n",
       "      <td>2013-04-04 08:32:15</td>\n",
       "      <td>12</td>\n",
       "      <td>187</td>\n",
       "      <td>219</td>\n",
       "      <td>29604</td>\n",
       "      <td>4</td>\n",
       "      <td>3.5</td>\n",
       "      <td>1</td>\n",
       "      <td>2.64</td>\n",
       "      <td>...</td>\n",
       "      <td>1</td>\n",
       "      <td>0</td>\n",
       "      <td>4</td>\n",
       "      <td>0</td>\n",
       "      <td>1</td>\n",
       "      <td>1</td>\n",
       "      <td>NaN</td>\n",
       "      <td>1</td>\n",
       "      <td>0</td>\n",
       "      <td>0</td>\n",
       "    </tr>\n",
       "  </tbody>\n",
       "</table>\n",
       "<p>5 rows × 26 columns</p>\n",
       "</div>"
      ],
      "text/plain": [
       "   srch_id            date_time  site_id  visitor_location_country_id  \\\n",
       "0        1  2013-04-04 08:32:15       12                          187   \n",
       "1        1  2013-04-04 08:32:15       12                          187   \n",
       "2        1  2013-04-04 08:32:15       12                          187   \n",
       "3        1  2013-04-04 08:32:15       12                          187   \n",
       "4        1  2013-04-04 08:32:15       12                          187   \n",
       "\n",
       "   prop_country_id  prop_id  prop_starrating  prop_review_score  \\\n",
       "0              219      893                3                3.5   \n",
       "1              219    10404                4                4.0   \n",
       "2              219    21315                3                4.5   \n",
       "3              219    27348                2                4.0   \n",
       "4              219    29604                4                3.5   \n",
       "\n",
       "   prop_brand_bool  prop_location_score1  ...  srch_length_of_stay  \\\n",
       "0                1                  2.83  ...                    1   \n",
       "1                1                  2.20  ...                    1   \n",
       "2                1                  2.20  ...                    1   \n",
       "3                1                  2.83  ...                    1   \n",
       "4                1                  2.64  ...                    1   \n",
       "\n",
       "   srch_booking_window  srch_adults_count  srch_children_count  \\\n",
       "0                    0                  4                    0   \n",
       "1                    0                  4                    0   \n",
       "2                    0                  4                    0   \n",
       "3                    0                  4                    0   \n",
       "4                    0                  4                    0   \n",
       "\n",
       "   srch_room_count  srch_saturday_night_bool  orig_destination_distance  \\\n",
       "0                1                         1                        NaN   \n",
       "1                1                         1                        NaN   \n",
       "2                1                         1                        NaN   \n",
       "3                1                         1                        NaN   \n",
       "4                1                         1                        NaN   \n",
       "\n",
       "   random_bool  click_bool  booking_bool  \n",
       "0            1           0             0  \n",
       "1            1           0             0  \n",
       "2            1           0             0  \n",
       "3            1           0             0  \n",
       "4            1           0             0  \n",
       "\n",
       "[5 rows x 26 columns]"
      ]
     },
     "execution_count": 22,
     "metadata": {},
     "output_type": "execute_result"
    }
   ],
   "source": [
    "new.head()"
   ]
  },
  {
   "cell_type": "code",
   "execution_count": 23,
   "metadata": {},
   "outputs": [
    {
     "data": {
      "text/html": [
       "<div>\n",
       "<style scoped>\n",
       "    .dataframe tbody tr th:only-of-type {\n",
       "        vertical-align: middle;\n",
       "    }\n",
       "\n",
       "    .dataframe tbody tr th {\n",
       "        vertical-align: top;\n",
       "    }\n",
       "\n",
       "    .dataframe thead th {\n",
       "        text-align: right;\n",
       "    }\n",
       "</style>\n",
       "<table border=\"1\" class=\"dataframe\">\n",
       "  <thead>\n",
       "    <tr style=\"text-align: right;\">\n",
       "      <th></th>\n",
       "      <th>srch_id</th>\n",
       "      <th>site_id</th>\n",
       "      <th>visitor_location_country_id</th>\n",
       "      <th>prop_country_id</th>\n",
       "      <th>prop_id</th>\n",
       "      <th>prop_starrating</th>\n",
       "      <th>prop_review_score</th>\n",
       "      <th>prop_brand_bool</th>\n",
       "      <th>prop_location_score1</th>\n",
       "      <th>prop_location_score2</th>\n",
       "      <th>...</th>\n",
       "      <th>srch_length_of_stay</th>\n",
       "      <th>srch_booking_window</th>\n",
       "      <th>srch_adults_count</th>\n",
       "      <th>srch_children_count</th>\n",
       "      <th>srch_room_count</th>\n",
       "      <th>srch_saturday_night_bool</th>\n",
       "      <th>orig_destination_distance</th>\n",
       "      <th>random_bool</th>\n",
       "      <th>click_bool</th>\n",
       "      <th>booking_bool</th>\n",
       "    </tr>\n",
       "  </thead>\n",
       "  <tbody>\n",
       "    <tr>\n",
       "      <th>count</th>\n",
       "      <td>9.917530e+06</td>\n",
       "      <td>9.917530e+06</td>\n",
       "      <td>9.917530e+06</td>\n",
       "      <td>9.917530e+06</td>\n",
       "      <td>9.917530e+06</td>\n",
       "      <td>9.917530e+06</td>\n",
       "      <td>9.902900e+06</td>\n",
       "      <td>9.917530e+06</td>\n",
       "      <td>9.917530e+06</td>\n",
       "      <td>7.739150e+06</td>\n",
       "      <td>...</td>\n",
       "      <td>9.917530e+06</td>\n",
       "      <td>9.917530e+06</td>\n",
       "      <td>9.917530e+06</td>\n",
       "      <td>9.917530e+06</td>\n",
       "      <td>9.917530e+06</td>\n",
       "      <td>9.917530e+06</td>\n",
       "      <td>6.701069e+06</td>\n",
       "      <td>9.917530e+06</td>\n",
       "      <td>9.917530e+06</td>\n",
       "      <td>9.917530e+06</td>\n",
       "    </tr>\n",
       "    <tr>\n",
       "      <th>mean</th>\n",
       "      <td>3.329138e+05</td>\n",
       "      <td>9.966175e+00</td>\n",
       "      <td>1.752954e+02</td>\n",
       "      <td>1.739055e+02</td>\n",
       "      <td>7.008015e+04</td>\n",
       "      <td>3.181534e+00</td>\n",
       "      <td>3.777702e+00</td>\n",
       "      <td>6.343042e-01</td>\n",
       "      <td>2.875978e+00</td>\n",
       "      <td>1.304190e-01</td>\n",
       "      <td>...</td>\n",
       "      <td>2.390011e+00</td>\n",
       "      <td>3.762379e+01</td>\n",
       "      <td>1.972597e+00</td>\n",
       "      <td>3.487331e-01</td>\n",
       "      <td>1.110800e+00</td>\n",
       "      <td>5.002563e-01</td>\n",
       "      <td>1.307018e+03</td>\n",
       "      <td>2.964097e-01</td>\n",
       "      <td>4.473614e-02</td>\n",
       "      <td>2.788930e-02</td>\n",
       "    </tr>\n",
       "    <tr>\n",
       "      <th>std</th>\n",
       "      <td>1.922876e+05</td>\n",
       "      <td>7.657325e+00</td>\n",
       "      <td>6.590955e+01</td>\n",
       "      <td>6.834768e+01</td>\n",
       "      <td>4.061177e+04</td>\n",
       "      <td>1.050191e+00</td>\n",
       "      <td>1.050806e+00</td>\n",
       "      <td>4.816248e-01</td>\n",
       "      <td>1.532092e+00</td>\n",
       "      <td>1.595145e-01</td>\n",
       "      <td>...</td>\n",
       "      <td>2.066758e+00</td>\n",
       "      <td>5.210799e+01</td>\n",
       "      <td>8.590720e-01</td>\n",
       "      <td>7.297288e-01</td>\n",
       "      <td>4.241494e-01</td>\n",
       "      <td>5.000000e-01</td>\n",
       "      <td>2.030283e+03</td>\n",
       "      <td>4.566739e-01</td>\n",
       "      <td>2.067240e-01</td>\n",
       "      <td>1.646557e-01</td>\n",
       "    </tr>\n",
       "    <tr>\n",
       "      <th>min</th>\n",
       "      <td>1.000000e+00</td>\n",
       "      <td>1.000000e+00</td>\n",
       "      <td>1.000000e+00</td>\n",
       "      <td>1.000000e+00</td>\n",
       "      <td>1.000000e+00</td>\n",
       "      <td>0.000000e+00</td>\n",
       "      <td>0.000000e+00</td>\n",
       "      <td>0.000000e+00</td>\n",
       "      <td>0.000000e+00</td>\n",
       "      <td>0.000000e+00</td>\n",
       "      <td>...</td>\n",
       "      <td>1.000000e+00</td>\n",
       "      <td>0.000000e+00</td>\n",
       "      <td>1.000000e+00</td>\n",
       "      <td>0.000000e+00</td>\n",
       "      <td>1.000000e+00</td>\n",
       "      <td>0.000000e+00</td>\n",
       "      <td>1.000000e-02</td>\n",
       "      <td>0.000000e+00</td>\n",
       "      <td>0.000000e+00</td>\n",
       "      <td>0.000000e+00</td>\n",
       "    </tr>\n",
       "    <tr>\n",
       "      <th>25%</th>\n",
       "      <td>1.665160e+05</td>\n",
       "      <td>5.000000e+00</td>\n",
       "      <td>1.000000e+02</td>\n",
       "      <td>1.000000e+02</td>\n",
       "      <td>3.501000e+04</td>\n",
       "      <td>3.000000e+00</td>\n",
       "      <td>3.500000e+00</td>\n",
       "      <td>0.000000e+00</td>\n",
       "      <td>1.790000e+00</td>\n",
       "      <td>1.900000e-02</td>\n",
       "      <td>...</td>\n",
       "      <td>1.000000e+00</td>\n",
       "      <td>4.000000e+00</td>\n",
       "      <td>2.000000e+00</td>\n",
       "      <td>0.000000e+00</td>\n",
       "      <td>1.000000e+00</td>\n",
       "      <td>0.000000e+00</td>\n",
       "      <td>1.411200e+02</td>\n",
       "      <td>0.000000e+00</td>\n",
       "      <td>0.000000e+00</td>\n",
       "      <td>0.000000e+00</td>\n",
       "    </tr>\n",
       "    <tr>\n",
       "      <th>50%</th>\n",
       "      <td>3.328140e+05</td>\n",
       "      <td>5.000000e+00</td>\n",
       "      <td>2.190000e+02</td>\n",
       "      <td>2.190000e+02</td>\n",
       "      <td>6.961500e+04</td>\n",
       "      <td>3.000000e+00</td>\n",
       "      <td>4.000000e+00</td>\n",
       "      <td>1.000000e+00</td>\n",
       "      <td>2.770000e+00</td>\n",
       "      <td>6.910000e-02</td>\n",
       "      <td>...</td>\n",
       "      <td>2.000000e+00</td>\n",
       "      <td>1.700000e+01</td>\n",
       "      <td>2.000000e+00</td>\n",
       "      <td>0.000000e+00</td>\n",
       "      <td>1.000000e+00</td>\n",
       "      <td>1.000000e+00</td>\n",
       "      <td>3.871800e+02</td>\n",
       "      <td>0.000000e+00</td>\n",
       "      <td>0.000000e+00</td>\n",
       "      <td>0.000000e+00</td>\n",
       "    </tr>\n",
       "    <tr>\n",
       "      <th>75%</th>\n",
       "      <td>4.999000e+05</td>\n",
       "      <td>1.400000e+01</td>\n",
       "      <td>2.190000e+02</td>\n",
       "      <td>2.190000e+02</td>\n",
       "      <td>1.051770e+05</td>\n",
       "      <td>4.000000e+00</td>\n",
       "      <td>4.500000e+00</td>\n",
       "      <td>1.000000e+00</td>\n",
       "      <td>4.040000e+00</td>\n",
       "      <td>1.806000e-01</td>\n",
       "      <td>...</td>\n",
       "      <td>3.000000e+00</td>\n",
       "      <td>4.900000e+01</td>\n",
       "      <td>2.000000e+00</td>\n",
       "      <td>0.000000e+00</td>\n",
       "      <td>1.000000e+00</td>\n",
       "      <td>1.000000e+00</td>\n",
       "      <td>1.509030e+03</td>\n",
       "      <td>1.000000e+00</td>\n",
       "      <td>0.000000e+00</td>\n",
       "      <td>0.000000e+00</td>\n",
       "    </tr>\n",
       "    <tr>\n",
       "      <th>max</th>\n",
       "      <td>6.655740e+05</td>\n",
       "      <td>3.400000e+01</td>\n",
       "      <td>2.310000e+02</td>\n",
       "      <td>2.300000e+02</td>\n",
       "      <td>1.408210e+05</td>\n",
       "      <td>5.000000e+00</td>\n",
       "      <td>5.000000e+00</td>\n",
       "      <td>1.000000e+00</td>\n",
       "      <td>6.980000e+00</td>\n",
       "      <td>1.000000e+00</td>\n",
       "      <td>...</td>\n",
       "      <td>5.900000e+01</td>\n",
       "      <td>4.980000e+02</td>\n",
       "      <td>9.000000e+00</td>\n",
       "      <td>9.000000e+00</td>\n",
       "      <td>8.000000e+00</td>\n",
       "      <td>1.000000e+00</td>\n",
       "      <td>1.169298e+04</td>\n",
       "      <td>1.000000e+00</td>\n",
       "      <td>1.000000e+00</td>\n",
       "      <td>1.000000e+00</td>\n",
       "    </tr>\n",
       "  </tbody>\n",
       "</table>\n",
       "<p>8 rows × 25 columns</p>\n",
       "</div>"
      ],
      "text/plain": [
       "            srch_id       site_id  visitor_location_country_id  \\\n",
       "count  9.917530e+06  9.917530e+06                 9.917530e+06   \n",
       "mean   3.329138e+05  9.966175e+00                 1.752954e+02   \n",
       "std    1.922876e+05  7.657325e+00                 6.590955e+01   \n",
       "min    1.000000e+00  1.000000e+00                 1.000000e+00   \n",
       "25%    1.665160e+05  5.000000e+00                 1.000000e+02   \n",
       "50%    3.328140e+05  5.000000e+00                 2.190000e+02   \n",
       "75%    4.999000e+05  1.400000e+01                 2.190000e+02   \n",
       "max    6.655740e+05  3.400000e+01                 2.310000e+02   \n",
       "\n",
       "       prop_country_id       prop_id  prop_starrating  prop_review_score  \\\n",
       "count     9.917530e+06  9.917530e+06     9.917530e+06       9.902900e+06   \n",
       "mean      1.739055e+02  7.008015e+04     3.181534e+00       3.777702e+00   \n",
       "std       6.834768e+01  4.061177e+04     1.050191e+00       1.050806e+00   \n",
       "min       1.000000e+00  1.000000e+00     0.000000e+00       0.000000e+00   \n",
       "25%       1.000000e+02  3.501000e+04     3.000000e+00       3.500000e+00   \n",
       "50%       2.190000e+02  6.961500e+04     3.000000e+00       4.000000e+00   \n",
       "75%       2.190000e+02  1.051770e+05     4.000000e+00       4.500000e+00   \n",
       "max       2.300000e+02  1.408210e+05     5.000000e+00       5.000000e+00   \n",
       "\n",
       "       prop_brand_bool  prop_location_score1  prop_location_score2  ...  \\\n",
       "count     9.917530e+06          9.917530e+06          7.739150e+06  ...   \n",
       "mean      6.343042e-01          2.875978e+00          1.304190e-01  ...   \n",
       "std       4.816248e-01          1.532092e+00          1.595145e-01  ...   \n",
       "min       0.000000e+00          0.000000e+00          0.000000e+00  ...   \n",
       "25%       0.000000e+00          1.790000e+00          1.900000e-02  ...   \n",
       "50%       1.000000e+00          2.770000e+00          6.910000e-02  ...   \n",
       "75%       1.000000e+00          4.040000e+00          1.806000e-01  ...   \n",
       "max       1.000000e+00          6.980000e+00          1.000000e+00  ...   \n",
       "\n",
       "       srch_length_of_stay  srch_booking_window  srch_adults_count  \\\n",
       "count         9.917530e+06         9.917530e+06       9.917530e+06   \n",
       "mean          2.390011e+00         3.762379e+01       1.972597e+00   \n",
       "std           2.066758e+00         5.210799e+01       8.590720e-01   \n",
       "min           1.000000e+00         0.000000e+00       1.000000e+00   \n",
       "25%           1.000000e+00         4.000000e+00       2.000000e+00   \n",
       "50%           2.000000e+00         1.700000e+01       2.000000e+00   \n",
       "75%           3.000000e+00         4.900000e+01       2.000000e+00   \n",
       "max           5.900000e+01         4.980000e+02       9.000000e+00   \n",
       "\n",
       "       srch_children_count  srch_room_count  srch_saturday_night_bool  \\\n",
       "count         9.917530e+06     9.917530e+06              9.917530e+06   \n",
       "mean          3.487331e-01     1.110800e+00              5.002563e-01   \n",
       "std           7.297288e-01     4.241494e-01              5.000000e-01   \n",
       "min           0.000000e+00     1.000000e+00              0.000000e+00   \n",
       "25%           0.000000e+00     1.000000e+00              0.000000e+00   \n",
       "50%           0.000000e+00     1.000000e+00              1.000000e+00   \n",
       "75%           0.000000e+00     1.000000e+00              1.000000e+00   \n",
       "max           9.000000e+00     8.000000e+00              1.000000e+00   \n",
       "\n",
       "       orig_destination_distance   random_bool    click_bool  booking_bool  \n",
       "count               6.701069e+06  9.917530e+06  9.917530e+06  9.917530e+06  \n",
       "mean                1.307018e+03  2.964097e-01  4.473614e-02  2.788930e-02  \n",
       "std                 2.030283e+03  4.566739e-01  2.067240e-01  1.646557e-01  \n",
       "min                 1.000000e-02  0.000000e+00  0.000000e+00  0.000000e+00  \n",
       "25%                 1.411200e+02  0.000000e+00  0.000000e+00  0.000000e+00  \n",
       "50%                 3.871800e+02  0.000000e+00  0.000000e+00  0.000000e+00  \n",
       "75%                 1.509030e+03  1.000000e+00  0.000000e+00  0.000000e+00  \n",
       "max                 1.169298e+04  1.000000e+00  1.000000e+00  1.000000e+00  \n",
       "\n",
       "[8 rows x 25 columns]"
      ]
     },
     "execution_count": 23,
     "metadata": {},
     "output_type": "execute_result"
    }
   ],
   "source": [
    "new.describe()"
   ]
  },
  {
   "cell_type": "code",
   "execution_count": 24,
   "metadata": {},
   "outputs": [
    {
     "data": {
      "text/plain": [
       "<matplotlib.axes._subplots.AxesSubplot at 0x7f6f7942c860>"
      ]
     },
     "execution_count": 24,
     "metadata": {},
     "output_type": "execute_result"
    },
    {
     "data": {
      "image/png": "[encoded data removed]",
      "text/plain": [
       "<Figure size 432x288 with 1 Axes>"
      ]
     },
     "metadata": {
      "needs_background": "light"
     },
     "output_type": "display_data"
    }
   ],
   "source": [
    "new['prop_location_score2'].plot.hist()"
   ]
  },
  {
   "cell_type": "code",
   "execution_count": 25,
   "metadata": {},
   "outputs": [
    {
     "data": {
      "text/plain": [
       "<matplotlib.axes._subplots.AxesSubplot at 0x7f6f792bbc18>"
      ]
     },
     "execution_count": 25,
     "metadata": {},
     "output_type": "execute_result"
    },
    {
     "data": {
      "image/png": "[encoded data removed]",
      "text/plain": [
       "<Figure size 432x288 with 1 Axes>"
      ]
     },
     "metadata": {
      "needs_background": "light"
     },
     "output_type": "display_data"
    }
   ],
   "source": [
    "new['prop_location_score2'].plot.box()"
   ]
  },
  {
   "cell_type": "code",
   "execution_count": 26,
   "metadata": {},
   "outputs": [
    {
     "data": {
      "text/plain": [
       "<matplotlib.axes._subplots.AxesSubplot at 0x7f6f7929ed30>"
      ]
     },
     "execution_count": 26,
     "metadata": {},
     "output_type": "execute_result"
    },
    {
     "data": {
      "image/png": "[encoded data removed]",
      "text/plain": [
       "<Figure size 432x288 with 1 Axes>"
      ]
     },
     "metadata": {
      "needs_background": "light"
     },
     "output_type": "display_data"
    }
   ],
   "source": [
    "new['orig_destination_distance'].plot.hist()"
   ]
  },
  {
   "cell_type": "code",
   "execution_count": 27,
   "metadata": {},
   "outputs": [
    {
     "data": {
      "text/plain": [
       "<matplotlib.axes._subplots.AxesSubplot at 0x7f6f7921ea90>"
      ]
     },
     "execution_count": 27,
     "metadata": {},
     "output_type": "execute_result"
    },
    {
     "data": {
      "image/png": "[encoded data removed]",
      "text/plain": [
       "<Figure size 432x288 with 1 Axes>"
      ]
     },
     "metadata": {
      "needs_background": "light"
     },
     "output_type": "display_data"
    }
   ],
   "source": [
    "new['orig_destination_distance'].plot.box()"
   ]
  },
  {
   "cell_type": "code",
   "execution_count": 28,
   "metadata": {},
   "outputs": [],
   "source": [
    "# import seaborn as sns\n",
    "# sns.set(style=\"darkgrid\")  \n",
    "# sns.relplot(x=\"price_usd\", y=\"click_bool\", data=new);"
   ]
  },
  {
   "cell_type": "code",
   "execution_count": 29,
   "metadata": {},
   "outputs": [],
   "source": [
    "# # !pip install statsmodels\n",
    "# import seaborn as sns\n",
    "# sns.regplot(x='price_usd', y='click_bool', data=new, logistic=True)"
   ]
  },
  {
   "cell_type": "code",
   "execution_count": 30,
   "metadata": {},
   "outputs": [
    {
     "data": {
      "text/plain": [
       "<matplotlib.axes._subplots.AxesSubplot at 0x7f6f791793c8>"
      ]
     },
     "execution_count": 30,
     "metadata": {},
     "output_type": "execute_result"
    },
    {
     "data": {
      "image/png": "[encoded data removed]",
      "text/plain": [
       "<Figure size 432x288 with 1 Axes>"
      ]
     },
     "metadata": {
      "needs_background": "light"
     },
     "output_type": "display_data"
    }
   ],
   "source": [
    "new['price_usd'].plot.hist()"
   ]
  },
  {
   "cell_type": "code",
   "execution_count": 31,
   "metadata": {},
   "outputs": [
    {
     "data": {
      "text/plain": [
       "<matplotlib.axes._subplots.AxesSubplot at 0x7f6f790ffb38>"
      ]
     },
     "execution_count": 31,
     "metadata": {},
     "output_type": "execute_result"
    },
    {
     "data": {
      "image/png": "[encoded data removed]",
      "text/plain": [
       "<Figure size 432x288 with 1 Axes>"
      ]
     },
     "metadata": {
      "needs_background": "light"
     },
     "output_type": "display_data"
    }
   ],
   "source": [
    "new['price_usd'].plot.box()"
   ]
  },
  {
   "cell_type": "code",
   "execution_count": 32,
   "metadata": {},
   "outputs": [
    {
     "data": {
      "text/plain": [
       "[<matplotlib.lines.Line2D at 0x7f6f790ec1d0>]"
      ]
     },
     "execution_count": 32,
     "metadata": {},
     "output_type": "execute_result"
    },
    {
     "data": {
      "image/png": "[encoded data removed]",
      "text/plain": [
       "<Figure size 432x288 with 1 Axes>"
      ]
     },
     "metadata": {
      "needs_background": "light"
     },
     "output_type": "display_data"
    }
   ],
   "source": [
    "import matplotlib.pyplot as plt\n",
    "plt.plot(new['price_usd'], new['click_bool'])"
   ]
  },
  {
   "cell_type": "code",
   "execution_count": 33,
   "metadata": {},
   "outputs": [],
   "source": [
    "# import seaborn as sns\n",
    "# sns.regplot(x=new['price_usd'], y=new['click_bool'], data=new, logistic=True)"
   ]
  },
  {
   "cell_type": "code",
   "execution_count": 34,
   "metadata": {},
   "outputs": [
    {
     "name": "stderr",
     "output_type": "stream",
     "text": [
      "/home/shree/PycharmProjects/Click-Through-Rate/venv/lib/python3.6/site-packages/ipykernel_launcher.py:4: UserWarning: Matplotlib is currently using module://ipykernel.pylab.backend_inline, which is a non-GUI backend, so cannot show the figure.\n",
      "  after removing the cwd from sys.path.\n"
     ]
    },
    {
     "data": {
      "image/png": "[encoded data removed]",
      "text/plain": [
       "<Figure size 1440x720 with 1 Axes>"
      ]
     },
     "metadata": {
      "needs_background": "light"
     },
     "output_type": "display_data"
    }
   ],
   "source": [
    "fig=plt.figure(figsize =(20,10))\n",
    "ax=fig.add_axes([0,0,1,1])\n",
    "ax.scatter(new['price_usd'], new['click_bool'], color='r')\n",
    "fig.show()"
   ]
  },
  {
   "cell_type": "code",
   "execution_count": 35,
   "metadata": {},
   "outputs": [
    {
     "data": {
      "text/plain": [
       "<matplotlib.axes._subplots.AxesSubplot at 0x7f6f5270a978>"
      ]
     },
     "execution_count": 35,
     "metadata": {},
     "output_type": "execute_result"
    },
    {
     "data": {
      "image/png": "[encoded data removed]",
      "text/plain": [
       "<Figure size 432x288 with 1 Axes>"
      ]
     },
     "metadata": {
      "needs_background": "light"
     },
     "output_type": "display_data"
    }
   ],
   "source": [
    "import seaborn as sns\n",
    "sns.scatterplot(new['price_usd'], new['click_bool'])"
   ]
  },
  {
   "cell_type": "code",
   "execution_count": 36,
   "metadata": {},
   "outputs": [
    {
     "name": "stdout",
     "output_type": "stream",
     "text": [
      "<class 'pandas.core.frame.DataFrame'>\n",
      "RangeIndex: 9917530 entries, 0 to 9917529\n",
      "Data columns (total 26 columns):\n",
      "srch_id                        int64\n",
      "date_time                      object\n",
      "site_id                        int64\n",
      "visitor_location_country_id    int64\n",
      "prop_country_id                int64\n",
      "prop_id                        int64\n",
      "prop_starrating                int64\n",
      "prop_review_score              float64\n",
      "prop_brand_bool                int64\n",
      "prop_location_score1           float64\n",
      "prop_location_score2           float64\n",
      "prop_log_historical_price      float64\n",
      "position                       int64\n",
      "price_usd                      float64\n",
      "promotion_flag                 int64\n",
      "srch_destination_id            int64\n",
      "srch_length_of_stay            int64\n",
      "srch_booking_window            int64\n",
      "srch_adults_count              int64\n",
      "srch_children_count            int64\n",
      "srch_room_count                int64\n",
      "srch_saturday_night_bool       int64\n",
      "orig_destination_distance      float64\n",
      "random_bool                    int64\n",
      "click_bool                     int64\n",
      "booking_bool                   int64\n",
      "dtypes: float64(6), int64(19), object(1)\n",
      "memory usage: 1.9+ GB\n"
     ]
    }
   ],
   "source": [
    "new.info()"
   ]
  },
  {
   "cell_type": "code",
   "execution_count": 37,
   "metadata": {},
   "outputs": [
    {
     "data": {
      "text/plain": [
       "991752.9"
      ]
     },
     "execution_count": 37,
     "metadata": {},
     "output_type": "execute_result"
    }
   ],
   "source": [
    "9917529*0.1"
   ]
  },
  {
   "cell_type": "code",
   "execution_count": 38,
   "metadata": {},
   "outputs": [],
   "source": [
    "df_sampled =new.sample(n=991752)"
   ]
  },
  {
   "cell_type": "code",
   "execution_count": null,
   "metadata": {},
   "outputs": [],
   "source": []
  },
  {
   "cell_type": "code",
   "execution_count": 39,
   "metadata": {},
   "outputs": [],
   "source": [
    "df_sampled = df_sampled.drop(columns=['prop_review_score','prop_location_score2', 'orig_destination_distance'])"
   ]
  },
  {
   "cell_type": "code",
   "execution_count": 45,
   "metadata": {},
   "outputs": [
    {
     "data": {
      "text/plain": [
       "array([[<matplotlib.axes._subplots.AxesSubplot object at 0x7f6f3da62390>,\n",
       "        <matplotlib.axes._subplots.AxesSubplot object at 0x7f6f3da695c0>,\n",
       "        <matplotlib.axes._subplots.AxesSubplot object at 0x7f6f3d9b0e48>,\n",
       "        <matplotlib.axes._subplots.AxesSubplot object at 0x7f6f3d961438>,\n",
       "        <matplotlib.axes._subplots.AxesSubplot object at 0x7f6f3d90f9e8>],\n",
       "       [<matplotlib.axes._subplots.AxesSubplot object at 0x7f6f3d8c2f98>,\n",
       "        <matplotlib.axes._subplots.AxesSubplot object at 0x7f6f3d8fd588>,\n",
       "        <matplotlib.axes._subplots.AxesSubplot object at 0x7f6f3d8afb70>,\n",
       "        <matplotlib.axes._subplots.AxesSubplot object at 0x7f6f3d8afba8>,\n",
       "        <matplotlib.axes._subplots.AxesSubplot object at 0x7f6f3d81e6d8>],\n",
       "       [<matplotlib.axes._subplots.AxesSubplot object at 0x7f6f3d7d1c88>,\n",
       "        <matplotlib.axes._subplots.AxesSubplot object at 0x7f6f3d78e278>,\n",
       "        <matplotlib.axes._subplots.AxesSubplot object at 0x7f6f3d741828>,\n",
       "        <matplotlib.axes._subplots.AxesSubplot object at 0x7f6f3d771dd8>,\n",
       "        <matplotlib.axes._subplots.AxesSubplot object at 0x7f6f3d72f3c8>],\n",
       "       [<matplotlib.axes._subplots.AxesSubplot object at 0x7f6f3d6e0978>,\n",
       "        <matplotlib.axes._subplots.AxesSubplot object at 0x7f6f3d691f28>,\n",
       "        <matplotlib.axes._subplots.AxesSubplot object at 0x7f6f3d64f518>,\n",
       "        <matplotlib.axes._subplots.AxesSubplot object at 0x7f6f3d5ffac8>,\n",
       "        <matplotlib.axes._subplots.AxesSubplot object at 0x7f6f3d63e0b8>],\n",
       "       [<matplotlib.axes._subplots.AxesSubplot object at 0x7f6f3d5ed668>,\n",
       "        <matplotlib.axes._subplots.AxesSubplot object at 0x7f6f3d5a0c18>,\n",
       "        <matplotlib.axes._subplots.AxesSubplot object at 0x7f6f3d55f208>,\n",
       "        <matplotlib.axes._subplots.AxesSubplot object at 0x7f6f3d50c7b8>,\n",
       "        <matplotlib.axes._subplots.AxesSubplot object at 0x7f6f3d4c0d68>]],\n",
       "      dtype=object)"
      ]
     },
     "execution_count": 45,
     "metadata": {},
     "output_type": "execute_result"
    },
    {
     "data": {
      "image/png": "[encoded data removed]",
      "text/plain": [
       "<Figure size 432x288 with 25 Axes>"
      ]
     },
     "metadata": {
      "needs_background": "light"
     },
     "output_type": "display_data"
    }
   ],
   "source": [
    "df_sampled.hist(bins =50)"
   ]
  },
  {
   "cell_type": "code",
   "execution_count": 40,
   "metadata": {},
   "outputs": [
    {
     "name": "stdout",
     "output_type": "stream",
     "text": [
      "<class 'pandas.core.frame.DataFrame'>\n",
      "Int64Index: 991752 entries, 4504860 to 9307914\n",
      "Data columns (total 23 columns):\n",
      "srch_id                        991752 non-null int64\n",
      "date_time                      991752 non-null object\n",
      "site_id                        991752 non-null int64\n",
      "visitor_location_country_id    991752 non-null int64\n",
      "prop_country_id                991752 non-null int64\n",
      "prop_id                        991752 non-null int64\n",
      "prop_starrating                991752 non-null int64\n",
      "prop_brand_bool                991752 non-null int64\n",
      "prop_location_score1           991752 non-null float64\n",
      "prop_log_historical_price      991752 non-null float64\n",
      "position                       991752 non-null int64\n",
      "price_usd                      991752 non-null float64\n",
      "promotion_flag                 991752 non-null int64\n",
      "srch_destination_id            991752 non-null int64\n",
      "srch_length_of_stay            991752 non-null int64\n",
      "srch_booking_window            991752 non-null int64\n",
      "srch_adults_count              991752 non-null int64\n",
      "srch_children_count            991752 non-null int64\n",
      "srch_room_count                991752 non-null int64\n",
      "srch_saturday_night_bool       991752 non-null int64\n",
      "random_bool                    991752 non-null int64\n",
      "click_bool                     991752 non-null int64\n",
      "booking_bool                   991752 non-null int64\n",
      "dtypes: float64(3), int64(19), object(1)\n",
      "memory usage: 181.6+ MB\n"
     ]
    }
   ],
   "source": [
    "df_sampled.info()"
   ]
  },
  {
   "cell_type": "code",
   "execution_count": 42,
   "metadata": {},
   "outputs": [
    {
     "ename": "TypeError",
     "evalue": "ufunc 'isnan' not supported for the input types, and the inputs could not be safely coerced to any supported types according to the casting rule ''safe''",
     "output_type": "error",
     "traceback": [
      "\u001b[0;31m---------------------------------------------------------------------------\u001b[0m",
      "\u001b[0;31mTypeError\u001b[0m                                 Traceback (most recent call last)",
      "\u001b[0;32m<ipython-input-42-65197bfd6c60>\u001b[0m in \u001b[0;36m<module>\u001b[0;34m\u001b[0m\n\u001b[1;32m      1\u001b[0m \u001b[0;32mimport\u001b[0m \u001b[0mseaborn\u001b[0m \u001b[0;32mas\u001b[0m \u001b[0msns\u001b[0m\u001b[0;34m\u001b[0m\u001b[0;34m\u001b[0m\u001b[0m\n\u001b[0;32m----> 2\u001b[0;31m \u001b[0msns\u001b[0m\u001b[0;34m.\u001b[0m\u001b[0mheatmap\u001b[0m\u001b[0;34m(\u001b[0m\u001b[0mdata\u001b[0m\u001b[0;34m=\u001b[0m\u001b[0mdf_sampled\u001b[0m\u001b[0;34m)\u001b[0m\u001b[0;34m\u001b[0m\u001b[0;34m\u001b[0m\u001b[0m\n\u001b[0m",
      "\u001b[0;32m~/PycharmProjects/Click-Through-Rate/venv/lib/python3.6/site-packages/seaborn/matrix.py\u001b[0m in \u001b[0;36mheatmap\u001b[0;34m(data, vmin, vmax, cmap, center, robust, annot, fmt, annot_kws, linewidths, linecolor, cbar, cbar_kws, cbar_ax, square, xticklabels, yticklabels, mask, ax, **kwargs)\u001b[0m\n\u001b[1;32m    515\u001b[0m     plotter = _HeatMapper(data, vmin, vmax, cmap, center, robust, annot, fmt,\n\u001b[1;32m    516\u001b[0m                           \u001b[0mannot_kws\u001b[0m\u001b[0;34m,\u001b[0m \u001b[0mcbar\u001b[0m\u001b[0;34m,\u001b[0m \u001b[0mcbar_kws\u001b[0m\u001b[0;34m,\u001b[0m \u001b[0mxticklabels\u001b[0m\u001b[0;34m,\u001b[0m\u001b[0;34m\u001b[0m\u001b[0;34m\u001b[0m\u001b[0m\n\u001b[0;32m--> 517\u001b[0;31m                           yticklabels, mask)\n\u001b[0m\u001b[1;32m    518\u001b[0m \u001b[0;34m\u001b[0m\u001b[0m\n\u001b[1;32m    519\u001b[0m     \u001b[0;31m# Add the pcolormesh kwargs here\u001b[0m\u001b[0;34m\u001b[0m\u001b[0;34m\u001b[0m\u001b[0;34m\u001b[0m\u001b[0m\n",
      "\u001b[0;32m~/PycharmProjects/Click-Through-Rate/venv/lib/python3.6/site-packages/seaborn/matrix.py\u001b[0m in \u001b[0;36m__init__\u001b[0;34m(self, data, vmin, vmax, cmap, center, robust, annot, fmt, annot_kws, cbar, cbar_kws, xticklabels, yticklabels, mask)\u001b[0m\n\u001b[1;32m    165\u001b[0m         \u001b[0;31m# Determine good default values for the colormapping\u001b[0m\u001b[0;34m\u001b[0m\u001b[0;34m\u001b[0m\u001b[0;34m\u001b[0m\u001b[0m\n\u001b[1;32m    166\u001b[0m         self._determine_cmap_params(plot_data, vmin, vmax,\n\u001b[0;32m--> 167\u001b[0;31m                                     cmap, center, robust)\n\u001b[0m\u001b[1;32m    168\u001b[0m \u001b[0;34m\u001b[0m\u001b[0m\n\u001b[1;32m    169\u001b[0m         \u001b[0;31m# Sort out the annotations\u001b[0m\u001b[0;34m\u001b[0m\u001b[0;34m\u001b[0m\u001b[0;34m\u001b[0m\u001b[0m\n",
      "\u001b[0;32m~/PycharmProjects/Click-Through-Rate/venv/lib/python3.6/site-packages/seaborn/matrix.py\u001b[0m in \u001b[0;36m_determine_cmap_params\u001b[0;34m(self, plot_data, vmin, vmax, cmap, center, robust)\u001b[0m\n\u001b[1;32m    202\u001b[0m                                cmap, center, robust):\n\u001b[1;32m    203\u001b[0m         \u001b[0;34m\"\"\"Use some heuristics to set good defaults for colorbar and range.\"\"\"\u001b[0m\u001b[0;34m\u001b[0m\u001b[0;34m\u001b[0m\u001b[0m\n\u001b[0;32m--> 204\u001b[0;31m         \u001b[0mcalc_data\u001b[0m \u001b[0;34m=\u001b[0m \u001b[0mplot_data\u001b[0m\u001b[0;34m.\u001b[0m\u001b[0mdata\u001b[0m\u001b[0;34m[\u001b[0m\u001b[0;34m~\u001b[0m\u001b[0mnp\u001b[0m\u001b[0;34m.\u001b[0m\u001b[0misnan\u001b[0m\u001b[0;34m(\u001b[0m\u001b[0mplot_data\u001b[0m\u001b[0;34m.\u001b[0m\u001b[0mdata\u001b[0m\u001b[0;34m)\u001b[0m\u001b[0;34m]\u001b[0m\u001b[0;34m\u001b[0m\u001b[0;34m\u001b[0m\u001b[0m\n\u001b[0m\u001b[1;32m    205\u001b[0m         \u001b[0;32mif\u001b[0m \u001b[0mvmin\u001b[0m \u001b[0;32mis\u001b[0m \u001b[0;32mNone\u001b[0m\u001b[0;34m:\u001b[0m\u001b[0;34m\u001b[0m\u001b[0;34m\u001b[0m\u001b[0m\n\u001b[1;32m    206\u001b[0m             \u001b[0mvmin\u001b[0m \u001b[0;34m=\u001b[0m \u001b[0mnp\u001b[0m\u001b[0;34m.\u001b[0m\u001b[0mpercentile\u001b[0m\u001b[0;34m(\u001b[0m\u001b[0mcalc_data\u001b[0m\u001b[0;34m,\u001b[0m \u001b[0;36m2\u001b[0m\u001b[0;34m)\u001b[0m \u001b[0;32mif\u001b[0m \u001b[0mrobust\u001b[0m \u001b[0;32melse\u001b[0m \u001b[0mcalc_data\u001b[0m\u001b[0;34m.\u001b[0m\u001b[0mmin\u001b[0m\u001b[0;34m(\u001b[0m\u001b[0;34m)\u001b[0m\u001b[0;34m\u001b[0m\u001b[0;34m\u001b[0m\u001b[0m\n",
      "\u001b[0;31mTypeError\u001b[0m: ufunc 'isnan' not supported for the input types, and the inputs could not be safely coerced to any supported types according to the casting rule ''safe''"
     ]
    }
   ],
   "source": [
    "import seaborn as sns\n",
    "sns.heatmap(data=df_sampled)"
   ]
  },
  {
   "cell_type": "code",
   "execution_count": null,
   "metadata": {},
   "outputs": [],
   "source": [
    "df_sampled.dtypes"
   ]
  },
  {
   "cell_type": "code",
   "execution_count": null,
   "metadata": {},
   "outputs": [],
   "source": [
    "df_sampled.info()"
   ]
  },
  {
   "cell_type": "code",
   "execution_count": null,
   "metadata": {},
   "outputs": [],
   "source": [
    "6+7"
   ]
  },
  {
   "cell_type": "code",
   "execution_count": null,
   "metadata": {},
   "outputs": [],
   "source": []
  }
 ],
 "metadata": {
  "kernelspec": {
   "display_name": "Python 3",
   "language": "python",
   "name": "python3"
  },
  "language_info": {
   "codemirror_mode": {
    "name": "ipython",
    "version": 3
   },
   "file_extension": ".py",
   "mimetype": "text/x-python",
   "name": "python",
   "nbconvert_exporter": "python",
   "pygments_lexer": "ipython3",
   "version": "3.7.4"
  }
 },
 "nbformat": 4,
 "nbformat_minor": 1
}
