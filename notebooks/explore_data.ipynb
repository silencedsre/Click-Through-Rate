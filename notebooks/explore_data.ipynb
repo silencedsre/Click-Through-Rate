{
 "cells": [
  {
   "cell_type": "code",
   "execution_count": 1,
   "metadata": {},
   "outputs": [],
   "source": [
    "import numpy as np\n",
    "import pandas as pd\n",
    "import matplotlib.pyplot as plt\n",
    "import seaborn as sns\n",
    "import random"
   ]
  },
  {
   "cell_type": "code",
   "execution_count": 2,
   "metadata": {
    "scrolled": true
   },
   "outputs": [
    {
     "data": {
      "text/html": [
       "<div>\n",
       "<style scoped>\n",
       "    .dataframe tbody tr th:only-of-type {\n",
       "        vertical-align: middle;\n",
       "    }\n",
       "\n",
       "    .dataframe tbody tr th {\n",
       "        vertical-align: top;\n",
       "    }\n",
       "\n",
       "    .dataframe thead th {\n",
       "        text-align: right;\n",
       "    }\n",
       "</style>\n",
       "<table border=\"1\" class=\"dataframe\">\n",
       "  <thead>\n",
       "    <tr style=\"text-align: right;\">\n",
       "      <th></th>\n",
       "      <th>Unnamed: 0</th>\n",
       "      <th>srch_id</th>\n",
       "      <th>date_time</th>\n",
       "      <th>site_id</th>\n",
       "      <th>visitor_location_country_id</th>\n",
       "      <th>visitor_hist_starrating</th>\n",
       "      <th>visitor_hist_adr_usd</th>\n",
       "      <th>prop_country_id</th>\n",
       "      <th>prop_id</th>\n",
       "      <th>prop_starrating</th>\n",
       "      <th>...</th>\n",
       "      <th>comp6_rate_percent_diff</th>\n",
       "      <th>comp7_rate</th>\n",
       "      <th>comp7_inv</th>\n",
       "      <th>comp7_rate_percent_diff</th>\n",
       "      <th>comp8_rate</th>\n",
       "      <th>comp8_inv</th>\n",
       "      <th>comp8_rate_percent_diff</th>\n",
       "      <th>click_bool</th>\n",
       "      <th>gross_bookings_usd</th>\n",
       "      <th>booking_bool</th>\n",
       "    </tr>\n",
       "  </thead>\n",
       "  <tbody>\n",
       "    <tr>\n",
       "      <th>0</th>\n",
       "      <td>0</td>\n",
       "      <td>1</td>\n",
       "      <td>2013-04-04 08:32:15</td>\n",
       "      <td>12</td>\n",
       "      <td>187</td>\n",
       "      <td>NaN</td>\n",
       "      <td>NaN</td>\n",
       "      <td>219</td>\n",
       "      <td>893</td>\n",
       "      <td>3</td>\n",
       "      <td>...</td>\n",
       "      <td>NaN</td>\n",
       "      <td>NaN</td>\n",
       "      <td>NaN</td>\n",
       "      <td>NaN</td>\n",
       "      <td>0.0</td>\n",
       "      <td>0.0</td>\n",
       "      <td>NaN</td>\n",
       "      <td>0</td>\n",
       "      <td>NaN</td>\n",
       "      <td>0</td>\n",
       "    </tr>\n",
       "    <tr>\n",
       "      <th>1</th>\n",
       "      <td>1</td>\n",
       "      <td>1</td>\n",
       "      <td>2013-04-04 08:32:15</td>\n",
       "      <td>12</td>\n",
       "      <td>187</td>\n",
       "      <td>NaN</td>\n",
       "      <td>NaN</td>\n",
       "      <td>219</td>\n",
       "      <td>74474</td>\n",
       "      <td>3</td>\n",
       "      <td>...</td>\n",
       "      <td>NaN</td>\n",
       "      <td>NaN</td>\n",
       "      <td>NaN</td>\n",
       "      <td>NaN</td>\n",
       "      <td>0.0</td>\n",
       "      <td>0.0</td>\n",
       "      <td>NaN</td>\n",
       "      <td>0</td>\n",
       "      <td>NaN</td>\n",
       "      <td>0</td>\n",
       "    </tr>\n",
       "    <tr>\n",
       "      <th>2</th>\n",
       "      <td>2</td>\n",
       "      <td>1</td>\n",
       "      <td>2013-04-04 08:32:15</td>\n",
       "      <td>12</td>\n",
       "      <td>187</td>\n",
       "      <td>NaN</td>\n",
       "      <td>NaN</td>\n",
       "      <td>219</td>\n",
       "      <td>89073</td>\n",
       "      <td>4</td>\n",
       "      <td>...</td>\n",
       "      <td>NaN</td>\n",
       "      <td>NaN</td>\n",
       "      <td>NaN</td>\n",
       "      <td>NaN</td>\n",
       "      <td>0.0</td>\n",
       "      <td>0.0</td>\n",
       "      <td>5.0</td>\n",
       "      <td>0</td>\n",
       "      <td>NaN</td>\n",
       "      <td>0</td>\n",
       "    </tr>\n",
       "    <tr>\n",
       "      <th>3</th>\n",
       "      <td>3</td>\n",
       "      <td>4</td>\n",
       "      <td>2012-12-31 08:59:22</td>\n",
       "      <td>5</td>\n",
       "      <td>219</td>\n",
       "      <td>NaN</td>\n",
       "      <td>NaN</td>\n",
       "      <td>219</td>\n",
       "      <td>11622</td>\n",
       "      <td>4</td>\n",
       "      <td>...</td>\n",
       "      <td>NaN</td>\n",
       "      <td>NaN</td>\n",
       "      <td>NaN</td>\n",
       "      <td>NaN</td>\n",
       "      <td>NaN</td>\n",
       "      <td>NaN</td>\n",
       "      <td>NaN</td>\n",
       "      <td>0</td>\n",
       "      <td>NaN</td>\n",
       "      <td>0</td>\n",
       "    </tr>\n",
       "    <tr>\n",
       "      <th>4</th>\n",
       "      <td>4</td>\n",
       "      <td>4</td>\n",
       "      <td>2012-12-31 08:59:22</td>\n",
       "      <td>5</td>\n",
       "      <td>219</td>\n",
       "      <td>NaN</td>\n",
       "      <td>NaN</td>\n",
       "      <td>219</td>\n",
       "      <td>75491</td>\n",
       "      <td>2</td>\n",
       "      <td>...</td>\n",
       "      <td>NaN</td>\n",
       "      <td>NaN</td>\n",
       "      <td>NaN</td>\n",
       "      <td>NaN</td>\n",
       "      <td>NaN</td>\n",
       "      <td>NaN</td>\n",
       "      <td>NaN</td>\n",
       "      <td>0</td>\n",
       "      <td>NaN</td>\n",
       "      <td>0</td>\n",
       "    </tr>\n",
       "    <tr>\n",
       "      <th>5</th>\n",
       "      <td>5</td>\n",
       "      <td>4</td>\n",
       "      <td>2012-12-31 08:59:22</td>\n",
       "      <td>5</td>\n",
       "      <td>219</td>\n",
       "      <td>NaN</td>\n",
       "      <td>NaN</td>\n",
       "      <td>219</td>\n",
       "      <td>109185</td>\n",
       "      <td>4</td>\n",
       "      <td>...</td>\n",
       "      <td>NaN</td>\n",
       "      <td>NaN</td>\n",
       "      <td>NaN</td>\n",
       "      <td>NaN</td>\n",
       "      <td>NaN</td>\n",
       "      <td>NaN</td>\n",
       "      <td>NaN</td>\n",
       "      <td>0</td>\n",
       "      <td>NaN</td>\n",
       "      <td>0</td>\n",
       "    </tr>\n",
       "    <tr>\n",
       "      <th>6</th>\n",
       "      <td>6</td>\n",
       "      <td>4</td>\n",
       "      <td>2012-12-31 08:59:22</td>\n",
       "      <td>5</td>\n",
       "      <td>219</td>\n",
       "      <td>NaN</td>\n",
       "      <td>NaN</td>\n",
       "      <td>219</td>\n",
       "      <td>137826</td>\n",
       "      <td>2</td>\n",
       "      <td>...</td>\n",
       "      <td>NaN</td>\n",
       "      <td>NaN</td>\n",
       "      <td>NaN</td>\n",
       "      <td>NaN</td>\n",
       "      <td>NaN</td>\n",
       "      <td>NaN</td>\n",
       "      <td>NaN</td>\n",
       "      <td>0</td>\n",
       "      <td>NaN</td>\n",
       "      <td>0</td>\n",
       "    </tr>\n",
       "    <tr>\n",
       "      <th>7</th>\n",
       "      <td>7</td>\n",
       "      <td>6</td>\n",
       "      <td>2013-06-05 12:27:51</td>\n",
       "      <td>14</td>\n",
       "      <td>100</td>\n",
       "      <td>NaN</td>\n",
       "      <td>NaN</td>\n",
       "      <td>100</td>\n",
       "      <td>10759</td>\n",
       "      <td>0</td>\n",
       "      <td>...</td>\n",
       "      <td>NaN</td>\n",
       "      <td>NaN</td>\n",
       "      <td>NaN</td>\n",
       "      <td>NaN</td>\n",
       "      <td>NaN</td>\n",
       "      <td>NaN</td>\n",
       "      <td>NaN</td>\n",
       "      <td>0</td>\n",
       "      <td>NaN</td>\n",
       "      <td>0</td>\n",
       "    </tr>\n",
       "    <tr>\n",
       "      <th>8</th>\n",
       "      <td>8</td>\n",
       "      <td>6</td>\n",
       "      <td>2013-06-05 12:27:51</td>\n",
       "      <td>14</td>\n",
       "      <td>100</td>\n",
       "      <td>NaN</td>\n",
       "      <td>NaN</td>\n",
       "      <td>100</td>\n",
       "      <td>52376</td>\n",
       "      <td>2</td>\n",
       "      <td>...</td>\n",
       "      <td>NaN</td>\n",
       "      <td>NaN</td>\n",
       "      <td>NaN</td>\n",
       "      <td>NaN</td>\n",
       "      <td>NaN</td>\n",
       "      <td>NaN</td>\n",
       "      <td>NaN</td>\n",
       "      <td>0</td>\n",
       "      <td>NaN</td>\n",
       "      <td>0</td>\n",
       "    </tr>\n",
       "    <tr>\n",
       "      <th>9</th>\n",
       "      <td>9</td>\n",
       "      <td>6</td>\n",
       "      <td>2013-06-05 12:27:51</td>\n",
       "      <td>14</td>\n",
       "      <td>100</td>\n",
       "      <td>NaN</td>\n",
       "      <td>NaN</td>\n",
       "      <td>100</td>\n",
       "      <td>118866</td>\n",
       "      <td>2</td>\n",
       "      <td>...</td>\n",
       "      <td>NaN</td>\n",
       "      <td>NaN</td>\n",
       "      <td>NaN</td>\n",
       "      <td>NaN</td>\n",
       "      <td>NaN</td>\n",
       "      <td>NaN</td>\n",
       "      <td>NaN</td>\n",
       "      <td>0</td>\n",
       "      <td>NaN</td>\n",
       "      <td>0</td>\n",
       "    </tr>\n",
       "  </tbody>\n",
       "</table>\n",
       "<p>10 rows × 55 columns</p>\n",
       "</div>"
      ],
      "text/plain": [
       "   Unnamed: 0  srch_id            date_time  site_id  \\\n",
       "0           0        1  2013-04-04 08:32:15       12   \n",
       "1           1        1  2013-04-04 08:32:15       12   \n",
       "2           2        1  2013-04-04 08:32:15       12   \n",
       "3           3        4  2012-12-31 08:59:22        5   \n",
       "4           4        4  2012-12-31 08:59:22        5   \n",
       "5           5        4  2012-12-31 08:59:22        5   \n",
       "6           6        4  2012-12-31 08:59:22        5   \n",
       "7           7        6  2013-06-05 12:27:51       14   \n",
       "8           8        6  2013-06-05 12:27:51       14   \n",
       "9           9        6  2013-06-05 12:27:51       14   \n",
       "\n",
       "   visitor_location_country_id  visitor_hist_starrating  visitor_hist_adr_usd  \\\n",
       "0                          187                      NaN                   NaN   \n",
       "1                          187                      NaN                   NaN   \n",
       "2                          187                      NaN                   NaN   \n",
       "3                          219                      NaN                   NaN   \n",
       "4                          219                      NaN                   NaN   \n",
       "5                          219                      NaN                   NaN   \n",
       "6                          219                      NaN                   NaN   \n",
       "7                          100                      NaN                   NaN   \n",
       "8                          100                      NaN                   NaN   \n",
       "9                          100                      NaN                   NaN   \n",
       "\n",
       "   prop_country_id  prop_id  prop_starrating  ...  comp6_rate_percent_diff  \\\n",
       "0              219      893                3  ...                      NaN   \n",
       "1              219    74474                3  ...                      NaN   \n",
       "2              219    89073                4  ...                      NaN   \n",
       "3              219    11622                4  ...                      NaN   \n",
       "4              219    75491                2  ...                      NaN   \n",
       "5              219   109185                4  ...                      NaN   \n",
       "6              219   137826                2  ...                      NaN   \n",
       "7              100    10759                0  ...                      NaN   \n",
       "8              100    52376                2  ...                      NaN   \n",
       "9              100   118866                2  ...                      NaN   \n",
       "\n",
       "   comp7_rate  comp7_inv  comp7_rate_percent_diff  comp8_rate  comp8_inv  \\\n",
       "0         NaN        NaN                      NaN         0.0        0.0   \n",
       "1         NaN        NaN                      NaN         0.0        0.0   \n",
       "2         NaN        NaN                      NaN         0.0        0.0   \n",
       "3         NaN        NaN                      NaN         NaN        NaN   \n",
       "4         NaN        NaN                      NaN         NaN        NaN   \n",
       "5         NaN        NaN                      NaN         NaN        NaN   \n",
       "6         NaN        NaN                      NaN         NaN        NaN   \n",
       "7         NaN        NaN                      NaN         NaN        NaN   \n",
       "8         NaN        NaN                      NaN         NaN        NaN   \n",
       "9         NaN        NaN                      NaN         NaN        NaN   \n",
       "\n",
       "   comp8_rate_percent_diff  click_bool  gross_bookings_usd  booking_bool  \n",
       "0                      NaN           0                 NaN             0  \n",
       "1                      NaN           0                 NaN             0  \n",
       "2                      5.0           0                 NaN             0  \n",
       "3                      NaN           0                 NaN             0  \n",
       "4                      NaN           0                 NaN             0  \n",
       "5                      NaN           0                 NaN             0  \n",
       "6                      NaN           0                 NaN             0  \n",
       "7                      NaN           0                 NaN             0  \n",
       "8                      NaN           0                 NaN             0  \n",
       "9                      NaN           0                 NaN             0  \n",
       "\n",
       "[10 rows x 55 columns]"
      ]
     },
     "execution_count": 2,
     "metadata": {},
     "output_type": "execute_result"
    }
   ],
   "source": [
    "data = pd.read_csv('../datasets/data/train_explore.csv')\n",
    "data.head(10)"
   ]
  },
  {
   "cell_type": "code",
   "execution_count": 3,
   "metadata": {},
   "outputs": [
    {
     "data": {
      "text/plain": [
       "Index([u'Unnamed: 0', u'srch_id', u'date_time', u'site_id',\n",
       "       u'visitor_location_country_id', u'visitor_hist_starrating',\n",
       "       u'visitor_hist_adr_usd', u'prop_country_id', u'prop_id',\n",
       "       u'prop_starrating', u'prop_review_score', u'prop_brand_bool',\n",
       "       u'prop_location_score1', u'prop_location_score2',\n",
       "       u'prop_log_historical_price', u'position', u'price_usd',\n",
       "       u'promotion_flag', u'srch_destination_id', u'srch_length_of_stay',\n",
       "       u'srch_booking_window', u'srch_adults_count', u'srch_children_count',\n",
       "       u'srch_room_count', u'srch_saturday_night_bool',\n",
       "       u'srch_query_affinity_score', u'orig_destination_distance',\n",
       "       u'random_bool', u'comp1_rate', u'comp1_inv', u'comp1_rate_percent_diff',\n",
       "       u'comp2_rate', u'comp2_inv', u'comp2_rate_percent_diff', u'comp3_rate',\n",
       "       u'comp3_inv', u'comp3_rate_percent_diff', u'comp4_rate', u'comp4_inv',\n",
       "       u'comp4_rate_percent_diff', u'comp5_rate', u'comp5_inv',\n",
       "       u'comp5_rate_percent_diff', u'comp6_rate', u'comp6_inv',\n",
       "       u'comp6_rate_percent_diff', u'comp7_rate', u'comp7_inv',\n",
       "       u'comp7_rate_percent_diff', u'comp8_rate', u'comp8_inv',\n",
       "       u'comp8_rate_percent_diff', u'click_bool', u'gross_bookings_usd',\n",
       "       u'booking_bool'],\n",
       "      dtype='object')"
      ]
     },
     "execution_count": 3,
     "metadata": {},
     "output_type": "execute_result"
    }
   ],
   "source": [
    "data.columns.unique()"
   ]
  },
  {
   "cell_type": "code",
   "execution_count": 8,
   "metadata": {},
   "outputs": [],
   "source": [
    "def num_missing(x):\n",
    "    return sum(x.isnull())"
   ]
  },
  {
   "cell_type": "code",
   "execution_count": 6,
   "metadata": {},
   "outputs": [
    {
     "data": {
      "text/plain": [
       "0         21\n",
       "1         21\n",
       "2         21\n",
       "3         29\n",
       "4         28\n",
       "5         28\n",
       "6         28\n",
       "7         28\n",
       "8         29\n",
       "9         29\n",
       "10        21\n",
       "11        21\n",
       "12        20\n",
       "13        20\n",
       "14        20\n",
       "15        29\n",
       "16        28\n",
       "17        29\n",
       "18        24\n",
       "19        28\n",
       "20        26\n",
       "21        26\n",
       "22        27\n",
       "23        22\n",
       "24        22\n",
       "25        20\n",
       "26        20\n",
       "27        22\n",
       "28        22\n",
       "29        24\n",
       "          ..\n",
       "991722    22\n",
       "991723    23\n",
       "991724    24\n",
       "991725    29\n",
       "991726    24\n",
       "991727    29\n",
       "991728    24\n",
       "991729    28\n",
       "991730    28\n",
       "991731    28\n",
       "991732    28\n",
       "991733    29\n",
       "991734    30\n",
       "991735    19\n",
       "991736    20\n",
       "991737    21\n",
       "991738    20\n",
       "991739    19\n",
       "991740    23\n",
       "991741    22\n",
       "991742    23\n",
       "991743    17\n",
       "991744    22\n",
       "991745    20\n",
       "991746    28\n",
       "991747    22\n",
       "991748    19\n",
       "991749    29\n",
       "991750    20\n",
       "991751    18\n",
       "Length: 991752, dtype: int64"
      ]
     },
     "execution_count": 6,
     "metadata": {},
     "output_type": "execute_result"
    }
   ],
   "source": [
    "# Find if any row has missing value\n",
    "data.apply(num_missing, axis=1)"
   ]
  },
  {
   "cell_type": "code",
   "execution_count": 11,
   "metadata": {},
   "outputs": [
    {
     "data": {
      "text/plain": [
       "srch_id                        0\n",
       "site_id                        0\n",
       "visitor_location_country_id    0\n",
       "prop_country_id                0\n",
       "prop_id                        0\n",
       "prop_starrating                0\n",
       "prop_brand_bool                0\n",
       "prop_location_score1           0\n",
       "prop_log_historical_price      0\n",
       "position                       0\n",
       "price_usd                      0\n",
       "promotion_flag                 0\n",
       "srch_destination_id            0\n",
       "srch_length_of_stay            0\n",
       "srch_booking_window            0\n",
       "srch_adults_count              0\n",
       "srch_children_count            0\n",
       "srch_room_count                0\n",
       "srch_saturday_night_bool       0\n",
       "random_bool                    0\n",
       "booking_bool                   0\n",
       "dtype: int64"
      ]
     },
     "execution_count": 11,
     "metadata": {},
     "output_type": "execute_result"
    }
   ],
   "source": [
    "# Find which columns has how much missing vlaue \n",
    "\n",
    "data.apply(num_missing, axis=0)"
   ]
  },
  {
   "cell_type": "code",
   "execution_count": 8,
   "metadata": {},
   "outputs": [
    {
     "data": {
      "text/plain": [
       "(991752, 55)"
      ]
     },
     "execution_count": 8,
     "metadata": {},
     "output_type": "execute_result"
    }
   ],
   "source": [
    "data.shape"
   ]
  },
  {
   "cell_type": "code",
   "execution_count": 27,
   "metadata": {},
   "outputs": [
    {
     "name": "stdout",
     "output_type": "stream",
     "text": [
      "<class 'pandas.core.frame.DataFrame'>\n",
      "RangeIndex: 991752 entries, 0 to 991751\n",
      "Data columns (total 19 columns):\n",
      "srch_id                        991752 non-null int64\n",
      "site_id                        991752 non-null int64\n",
      "visitor_location_country_id    991752 non-null int64\n",
      "prop_country_id                991752 non-null int64\n",
      "prop_id                        991752 non-null int64\n",
      "prop_starrating                991752 non-null int64\n",
      "prop_brand_bool                991752 non-null int64\n",
      "prop_location_score1           991752 non-null float64\n",
      "prop_log_historical_price      991752 non-null float64\n",
      "price_usd                      991752 non-null float64\n",
      "promotion_flag                 991752 non-null int64\n",
      "srch_destination_id            991752 non-null int64\n",
      "srch_length_of_stay            991752 non-null int64\n",
      "srch_booking_window            991752 non-null int64\n",
      "srch_adults_count              991752 non-null int64\n",
      "srch_children_count            991752 non-null int64\n",
      "srch_room_count                991752 non-null int64\n",
      "srch_saturday_night_bool       991752 non-null int64\n",
      "random_bool                    991752 non-null int64\n",
      "dtypes: float64(3), int64(16)\n",
      "memory usage: 143.8 MB\n"
     ]
    }
   ],
   "source": [
    "data.info()"
   ]
  },
  {
   "cell_type": "code",
   "execution_count": 26,
   "metadata": {},
   "outputs": [],
   "source": [
    "data.drop(['position', 'booking_bool'], axis=1, inplace=True)"
   ]
  },
  {
   "cell_type": "code",
   "execution_count": 18,
   "metadata": {},
   "outputs": [
    {
     "data": {
      "text/html": [
       "<div>\n",
       "<style scoped>\n",
       "    .dataframe tbody tr th:only-of-type {\n",
       "        vertical-align: middle;\n",
       "    }\n",
       "\n",
       "    .dataframe tbody tr th {\n",
       "        vertical-align: top;\n",
       "    }\n",
       "\n",
       "    .dataframe thead th {\n",
       "        text-align: right;\n",
       "    }\n",
       "</style>\n",
       "<table border=\"1\" class=\"dataframe\">\n",
       "  <thead>\n",
       "    <tr style=\"text-align: right;\">\n",
       "      <th></th>\n",
       "      <th>Unnamed: 0</th>\n",
       "      <th>srch_id</th>\n",
       "      <th>site_id</th>\n",
       "      <th>visitor_location_country_id</th>\n",
       "      <th>visitor_hist_starrating</th>\n",
       "      <th>visitor_hist_adr_usd</th>\n",
       "      <th>prop_country_id</th>\n",
       "      <th>prop_id</th>\n",
       "      <th>prop_starrating</th>\n",
       "      <th>prop_review_score</th>\n",
       "      <th>...</th>\n",
       "      <th>comp5_rate_percent_diff</th>\n",
       "      <th>comp6_rate</th>\n",
       "      <th>comp6_inv</th>\n",
       "      <th>comp6_rate_percent_diff</th>\n",
       "      <th>comp7_rate</th>\n",
       "      <th>comp7_inv</th>\n",
       "      <th>comp7_rate_percent_diff</th>\n",
       "      <th>comp8_rate</th>\n",
       "      <th>comp8_inv</th>\n",
       "      <th>comp8_rate_percent_diff</th>\n",
       "    </tr>\n",
       "  </thead>\n",
       "  <tbody>\n",
       "    <tr>\n",
       "      <th>count</th>\n",
       "      <td>662336.000000</td>\n",
       "      <td>662336.000000</td>\n",
       "      <td>662336.000000</td>\n",
       "      <td>662336.000000</td>\n",
       "      <td>33637.000000</td>\n",
       "      <td>33824.000000</td>\n",
       "      <td>662336.000000</td>\n",
       "      <td>662336.00000</td>\n",
       "      <td>662336.000000</td>\n",
       "      <td>661388.000000</td>\n",
       "      <td>...</td>\n",
       "      <td>112627.000000</td>\n",
       "      <td>32377.000000</td>\n",
       "      <td>35203.000000</td>\n",
       "      <td>13143.000000</td>\n",
       "      <td>42653.000000</td>\n",
       "      <td>48051.000000</td>\n",
       "      <td>18909.000000</td>\n",
       "      <td>254659.000000</td>\n",
       "      <td>264068.000000</td>\n",
       "      <td>81567.000000</td>\n",
       "    </tr>\n",
       "    <tr>\n",
       "      <th>mean</th>\n",
       "      <td>331167.500000</td>\n",
       "      <td>333153.343986</td>\n",
       "      <td>9.954343</td>\n",
       "      <td>175.336541</td>\n",
       "      <td>3.354464</td>\n",
       "      <td>174.797830</td>\n",
       "      <td>173.793566</td>\n",
       "      <td>70033.97650</td>\n",
       "      <td>3.182136</td>\n",
       "      <td>3.782473</td>\n",
       "      <td>...</td>\n",
       "      <td>24.744599</td>\n",
       "      <td>0.134416</td>\n",
       "      <td>0.077493</td>\n",
       "      <td>17.108727</td>\n",
       "      <td>0.150869</td>\n",
       "      <td>0.082496</td>\n",
       "      <td>19.966577</td>\n",
       "      <td>-0.060249</td>\n",
       "      <td>0.010293</td>\n",
       "      <td>22.160482</td>\n",
       "    </tr>\n",
       "    <tr>\n",
       "      <th>std</th>\n",
       "      <td>191200.078285</td>\n",
       "      <td>192178.478006</td>\n",
       "      <td>7.647157</td>\n",
       "      <td>65.843001</td>\n",
       "      <td>0.691506</td>\n",
       "      <td>106.747157</td>\n",
       "      <td>68.456242</td>\n",
       "      <td>40642.18782</td>\n",
       "      <td>1.048269</td>\n",
       "      <td>1.044966</td>\n",
       "      <td>...</td>\n",
       "      <td>832.203179</td>\n",
       "      <td>0.566087</td>\n",
       "      <td>0.304717</td>\n",
       "      <td>28.899736</td>\n",
       "      <td>0.581615</td>\n",
       "      <td>0.312720</td>\n",
       "      <td>48.016657</td>\n",
       "      <td>0.469275</td>\n",
       "      <td>0.202926</td>\n",
       "      <td>810.761592</td>\n",
       "    </tr>\n",
       "    <tr>\n",
       "      <th>min</th>\n",
       "      <td>0.000000</td>\n",
       "      <td>3.000000</td>\n",
       "      <td>1.000000</td>\n",
       "      <td>1.000000</td>\n",
       "      <td>1.000000</td>\n",
       "      <td>0.000000</td>\n",
       "      <td>1.000000</td>\n",
       "      <td>1.00000</td>\n",
       "      <td>0.000000</td>\n",
       "      <td>0.000000</td>\n",
       "      <td>...</td>\n",
       "      <td>2.000000</td>\n",
       "      <td>-1.000000</td>\n",
       "      <td>-1.000000</td>\n",
       "      <td>2.000000</td>\n",
       "      <td>-1.000000</td>\n",
       "      <td>-1.000000</td>\n",
       "      <td>2.000000</td>\n",
       "      <td>-1.000000</td>\n",
       "      <td>-1.000000</td>\n",
       "      <td>2.000000</td>\n",
       "    </tr>\n",
       "    <tr>\n",
       "      <th>25%</th>\n",
       "      <td>165583.750000</td>\n",
       "      <td>166443.750000</td>\n",
       "      <td>5.000000</td>\n",
       "      <td>100.000000</td>\n",
       "      <td>2.900000</td>\n",
       "      <td>109.595000</td>\n",
       "      <td>100.000000</td>\n",
       "      <td>34966.00000</td>\n",
       "      <td>3.000000</td>\n",
       "      <td>3.500000</td>\n",
       "      <td>...</td>\n",
       "      <td>7.000000</td>\n",
       "      <td>0.000000</td>\n",
       "      <td>0.000000</td>\n",
       "      <td>6.000000</td>\n",
       "      <td>0.000000</td>\n",
       "      <td>0.000000</td>\n",
       "      <td>7.000000</td>\n",
       "      <td>0.000000</td>\n",
       "      <td>0.000000</td>\n",
       "      <td>7.000000</td>\n",
       "    </tr>\n",
       "    <tr>\n",
       "      <th>50%</th>\n",
       "      <td>331167.500000</td>\n",
       "      <td>333844.000000</td>\n",
       "      <td>5.000000</td>\n",
       "      <td>219.000000</td>\n",
       "      <td>3.400000</td>\n",
       "      <td>150.930000</td>\n",
       "      <td>219.000000</td>\n",
       "      <td>69512.00000</td>\n",
       "      <td>3.000000</td>\n",
       "      <td>4.000000</td>\n",
       "      <td>...</td>\n",
       "      <td>12.000000</td>\n",
       "      <td>0.000000</td>\n",
       "      <td>0.000000</td>\n",
       "      <td>11.000000</td>\n",
       "      <td>0.000000</td>\n",
       "      <td>0.000000</td>\n",
       "      <td>12.000000</td>\n",
       "      <td>0.000000</td>\n",
       "      <td>0.000000</td>\n",
       "      <td>11.000000</td>\n",
       "    </tr>\n",
       "    <tr>\n",
       "      <th>75%</th>\n",
       "      <td>496751.250000</td>\n",
       "      <td>499285.000000</td>\n",
       "      <td>14.000000</td>\n",
       "      <td>219.000000</td>\n",
       "      <td>3.910000</td>\n",
       "      <td>212.040000</td>\n",
       "      <td>219.000000</td>\n",
       "      <td>105183.00000</td>\n",
       "      <td>4.000000</td>\n",
       "      <td>4.500000</td>\n",
       "      <td>...</td>\n",
       "      <td>21.000000</td>\n",
       "      <td>0.000000</td>\n",
       "      <td>0.000000</td>\n",
       "      <td>18.000000</td>\n",
       "      <td>1.000000</td>\n",
       "      <td>0.000000</td>\n",
       "      <td>20.000000</td>\n",
       "      <td>0.000000</td>\n",
       "      <td>0.000000</td>\n",
       "      <td>17.000000</td>\n",
       "    </tr>\n",
       "    <tr>\n",
       "      <th>max</th>\n",
       "      <td>662335.000000</td>\n",
       "      <td>665571.000000</td>\n",
       "      <td>34.000000</td>\n",
       "      <td>231.000000</td>\n",
       "      <td>5.000000</td>\n",
       "      <td>1654.920000</td>\n",
       "      <td>230.000000</td>\n",
       "      <td>140821.00000</td>\n",
       "      <td>5.000000</td>\n",
       "      <td>5.000000</td>\n",
       "      <td>...</td>\n",
       "      <td>119400.000000</td>\n",
       "      <td>1.000000</td>\n",
       "      <td>1.000000</td>\n",
       "      <td>998.000000</td>\n",
       "      <td>1.000000</td>\n",
       "      <td>1.000000</td>\n",
       "      <td>1597.000000</td>\n",
       "      <td>1.000000</td>\n",
       "      <td>1.000000</td>\n",
       "      <td>149400.000000</td>\n",
       "    </tr>\n",
       "  </tbody>\n",
       "</table>\n",
       "<p>8 rows × 50 columns</p>\n",
       "</div>"
      ],
      "text/plain": [
       "          Unnamed: 0        srch_id        site_id  \\\n",
       "count  662336.000000  662336.000000  662336.000000   \n",
       "mean   331167.500000  333153.343986       9.954343   \n",
       "std    191200.078285  192178.478006       7.647157   \n",
       "min         0.000000       3.000000       1.000000   \n",
       "25%    165583.750000  166443.750000       5.000000   \n",
       "50%    331167.500000  333844.000000       5.000000   \n",
       "75%    496751.250000  499285.000000      14.000000   \n",
       "max    662335.000000  665571.000000      34.000000   \n",
       "\n",
       "       visitor_location_country_id  visitor_hist_starrating  \\\n",
       "count                662336.000000             33637.000000   \n",
       "mean                    175.336541                 3.354464   \n",
       "std                      65.843001                 0.691506   \n",
       "min                       1.000000                 1.000000   \n",
       "25%                     100.000000                 2.900000   \n",
       "50%                     219.000000                 3.400000   \n",
       "75%                     219.000000                 3.910000   \n",
       "max                     231.000000                 5.000000   \n",
       "\n",
       "       visitor_hist_adr_usd  prop_country_id       prop_id  prop_starrating  \\\n",
       "count          33824.000000    662336.000000  662336.00000    662336.000000   \n",
       "mean             174.797830       173.793566   70033.97650         3.182136   \n",
       "std              106.747157        68.456242   40642.18782         1.048269   \n",
       "min                0.000000         1.000000       1.00000         0.000000   \n",
       "25%              109.595000       100.000000   34966.00000         3.000000   \n",
       "50%              150.930000       219.000000   69512.00000         3.000000   \n",
       "75%              212.040000       219.000000  105183.00000         4.000000   \n",
       "max             1654.920000       230.000000  140821.00000         5.000000   \n",
       "\n",
       "       prop_review_score  ...  comp5_rate_percent_diff    comp6_rate  \\\n",
       "count      661388.000000  ...            112627.000000  32377.000000   \n",
       "mean            3.782473  ...                24.744599      0.134416   \n",
       "std             1.044966  ...               832.203179      0.566087   \n",
       "min             0.000000  ...                 2.000000     -1.000000   \n",
       "25%             3.500000  ...                 7.000000      0.000000   \n",
       "50%             4.000000  ...                12.000000      0.000000   \n",
       "75%             4.500000  ...                21.000000      0.000000   \n",
       "max             5.000000  ...            119400.000000      1.000000   \n",
       "\n",
       "          comp6_inv  comp6_rate_percent_diff    comp7_rate     comp7_inv  \\\n",
       "count  35203.000000             13143.000000  42653.000000  48051.000000   \n",
       "mean       0.077493                17.108727      0.150869      0.082496   \n",
       "std        0.304717                28.899736      0.581615      0.312720   \n",
       "min       -1.000000                 2.000000     -1.000000     -1.000000   \n",
       "25%        0.000000                 6.000000      0.000000      0.000000   \n",
       "50%        0.000000                11.000000      0.000000      0.000000   \n",
       "75%        0.000000                18.000000      1.000000      0.000000   \n",
       "max        1.000000               998.000000      1.000000      1.000000   \n",
       "\n",
       "       comp7_rate_percent_diff     comp8_rate      comp8_inv  \\\n",
       "count             18909.000000  254659.000000  264068.000000   \n",
       "mean                 19.966577      -0.060249       0.010293   \n",
       "std                  48.016657       0.469275       0.202926   \n",
       "min                   2.000000      -1.000000      -1.000000   \n",
       "25%                   7.000000       0.000000       0.000000   \n",
       "50%                  12.000000       0.000000       0.000000   \n",
       "75%                  20.000000       0.000000       0.000000   \n",
       "max                1597.000000       1.000000       1.000000   \n",
       "\n",
       "       comp8_rate_percent_diff  \n",
       "count             81567.000000  \n",
       "mean                 22.160482  \n",
       "std                 810.761592  \n",
       "min                   2.000000  \n",
       "25%                   7.000000  \n",
       "50%                  11.000000  \n",
       "75%                  17.000000  \n",
       "max              149400.000000  \n",
       "\n",
       "[8 rows x 50 columns]"
      ]
     },
     "execution_count": 18,
     "metadata": {},
     "output_type": "execute_result"
    }
   ],
   "source": [
    "data.describe()"
   ]
  },
  {
   "cell_type": "code",
   "execution_count": 4,
   "metadata": {},
   "outputs": [],
   "source": [
    "data.drop(['Unnamed: 0', 'comp1_rate', 'comp1_inv','comp1_rate_percent_diff', \n",
    "          'comp2_rate', 'comp2_inv', 'comp2_rate_percent_diff',\n",
    "          'comp3_rate', 'comp4_rate', 'comp5_rate', 'comp6_rate', 'comp7_rate', 'comp8_rate',\n",
    "          'comp3_inv','comp4_inv', 'comp5_inv', 'comp6_inv', 'comp7_inv', 'comp8_inv',\n",
    "          'comp3_rate_percent_diff', 'comp4_rate_percent_diff', 'comp5_rate_percent_diff',\n",
    "           'comp6_rate_percent_diff', 'comp7_rate_percent_diff', 'comp8_rate_percent_diff'], axis=1, inplace=True)"
   ]
  },
  {
   "cell_type": "code",
   "execution_count": 5,
   "metadata": {},
   "outputs": [],
   "source": [
    "y = data['click_bool']\n",
    "data.drop(['click_bool'], axis=1, inplace=True)"
   ]
  },
  {
   "cell_type": "code",
   "execution_count": 6,
   "metadata": {},
   "outputs": [],
   "source": [
    "data.drop(['date_time'], axis=1, inplace=True)"
   ]
  },
  {
   "cell_type": "code",
   "execution_count": 10,
   "metadata": {},
   "outputs": [],
   "source": [
    "data.drop(['visitor_hist_starrating', 'visitor_hist_adr_usd', 'prop_review_score', 'prop_location_score2',\n",
    "          'srch_query_affinity_score', 'orig_destination_distance', 'gross_bookings_usd'], axis=1, inplace=True)"
   ]
  },
  {
   "cell_type": "code",
   "execution_count": 31,
   "metadata": {},
   "outputs": [],
   "source": [
    "from sklearn.model_selection import train_test_split\n",
    "X_train, x_test, Y_train, y_test = train_test_split(data, y, test_size=.2, random_state=42)"
   ]
  },
  {
   "cell_type": "code",
   "execution_count": 4,
   "metadata": {},
   "outputs": [
    {
     "name": "stdout",
     "output_type": "stream",
     "text": [
      "('Mean price: ', 227.98688687292784)\n",
      "('Minimum price: ', 0.0)\n",
      "('Maximum price: ', 5097647.93)\n",
      "('Standard deviation: ', 10649.132521922766)\n"
     ]
    }
   ],
   "source": [
    "price = np.array(data['price_usd'])\n",
    "print('Mean price: ', price.mean())\n",
    "print('Minimum price: ', price.min())\n",
    "print('Maximum price: ', price.max())\n",
    "print('Standard deviation: ', price.std())"
   ]
  },
  {
   "cell_type": "code",
   "execution_count": 10,
   "metadata": {},
   "outputs": [
    {
     "data": {
      "image/png": "[encoded data removed]",
      "text/plain": [
       "<Figure size 432x288 with 1 Axes>"
      ]
     },
     "metadata": {},
     "output_type": "display_data"
    }
   ],
   "source": [
    "sns.set()\n",
    "plt.hist(price)\n",
    "plt.xlabel('Price in usd')\n",
    "plt.ylabel('Number')\n",
    "plt.title('Price distribution');\n"
   ]
  },
  {
   "cell_type": "code",
   "execution_count": 12,
   "metadata": {},
   "outputs": [
    {
     "data": {
      "text/plain": [
       "363"
      ]
     },
     "execution_count": 12,
     "metadata": {},
     "output_type": "execute_result"
    }
   ],
   "source": [
    "np.count_nonzero(price>10000)"
   ]
  },
  {
   "cell_type": "code",
   "execution_count": 13,
   "metadata": {},
   "outputs": [
    {
     "data": {
      "text/plain": [
       "149"
      ]
     },
     "execution_count": 13,
     "metadata": {},
     "output_type": "execute_result"
    }
   ],
   "source": [
    "np.count_nonzero(price>100000)"
   ]
  },
  {
   "cell_type": "code",
   "execution_count": 20,
   "metadata": {},
   "outputs": [
    {
     "data": {
      "text/plain": [
       "<matplotlib.collections.PathCollection at 0x7f640791aa10>"
      ]
     },
     "execution_count": 20,
     "metadata": {},
     "output_type": "execute_result"
    },
    {
     "data": {
      "image/png": "[encoded data removed]",
      "text/plain": [
       "<Figure size 432x288 with 1 Axes>"
      ]
     },
     "metadata": {},
     "output_type": "display_data"
    }
   ],
   "source": [
    "plt.scatter(price, price)"
   ]
  },
  {
   "cell_type": "code",
   "execution_count": 22,
   "metadata": {},
   "outputs": [
    {
     "name": "stdout",
     "output_type": "stream",
     "text": [
      "('price > 5000000', 1)\n",
      "('price > 3000000', 4)\n",
      "('price > 1000000', 14)\n"
     ]
    }
   ],
   "source": [
    "print('price > 5000000', np.count_nonzero(price>5000000))\n",
    "print('price > 3000000', np.count_nonzero(price>3000000))\n",
    "print('price > 1000000', np.count_nonzero(price>1000000))"
   ]
  },
  {
   "cell_type": "code",
   "execution_count": 46,
   "metadata": {},
   "outputs": [
    {
     "name": "stdout",
     "output_type": "stream",
     "text": [
      "('Mean saturday night price: ', 257.5277427264307)\n",
      "('Max saturday night price: ', 5097647.93)\n",
      "('Min saturday night price: ', 0.0)\n",
      "('Total :', 495527)\n"
     ]
    }
   ],
   "source": [
    "saturday_night = data.groupby('srch_saturday_night_bool')\n",
    "saturday_night_price = np.array(saturday_night.get_group(0)['price_usd'])\n",
    "print('Mean saturday night price: ',saturday_night_price.mean())\n",
    "print('Max saturday night price: ',saturday_night_price.max())\n",
    "print('Min saturday night price: ',saturday_night_price.min())\n",
    "print('Total :', saturday_night_price.size)"
   ]
  },
  {
   "cell_type": "code",
   "execution_count": 44,
   "metadata": {},
   "outputs": [
    {
     "data": {
      "text/plain": [
       "<matplotlib.collections.PathCollection at 0x7f640790a310>"
      ]
     },
     "execution_count": 44,
     "metadata": {},
     "output_type": "execute_result"
    },
    {
     "data": {
      "image/png": "[encoded data removed]",
      "text/plain": [
       "<Figure size 432x288 with 1 Axes>"
      ]
     },
     "metadata": {},
     "output_type": "display_data"
    }
   ],
   "source": [
    "plt.scatter(saturday_night_price, saturday_night_price)"
   ]
  },
  {
   "cell_type": "code",
   "execution_count": null,
   "metadata": {},
   "outputs": [],
   "source": [
    "pivot_data = data.loc[:,[\"price_usd\", \"srch_saturday_night_bool\", \"prop_location_score1\", \n",
    "                  \"prop_log_historical_price\",  \"srch_booking_window\", \"srch_adults_count\", \n",
    "                  \"srch_children_count\",  \"srch_room_count\",\"orig_destination_distance\"]]\n",
    "ax = sns.heatmap(pivot_data, annot=True, fmt=\"d\")\n",
    "pivot_data.head()"
   ]
  },
  {
   "cell_type": "code",
   "execution_count": 28,
   "metadata": {},
   "outputs": [],
   "source": [
    "from sklearn.tree import DecisionTreeClassifier\n",
    "\n",
    "parameters = {'max_depth': [3, 10, None]}\n",
    "decision_tree = DecisionTreeClassifier(criterion='gini', min_samples_split=30)"
   ]
  },
  {
   "cell_type": "code",
   "execution_count": 32,
   "metadata": {},
   "outputs": [
    {
     "name": "stdout",
     "output_type": "stream",
     "text": [
      "{'max_depth': 10}\n"
     ]
    }
   ],
   "source": [
    "from sklearn.model_selection import GridSearchCV\n",
    "\n",
    "grid_search = GridSearchCV(decision_tree, parameters, cv=3, scoring='roc_auc')\n",
    "grid_search.fit(X_train, Y_train)\n",
    "print(grid_search.best_params_)"
   ]
  },
  {
   "cell_type": "code",
   "execution_count": 34,
   "metadata": {},
   "outputs": [],
   "source": [
    "from sklearn.metrics import roc_auc_score\n",
    "\n",
    "decision_tree_best = grid_search.best_estimator_\n",
    "pos_prob = decision_tree_best.predict_proba(x_test)\n",
    "# print('The roc on testing set is: ', roc_auc_score(y_test, pos_prob))"
   ]
  },
  {
   "cell_type": "code",
   "execution_count": 35,
   "metadata": {},
   "outputs": [
    {
     "data": {
      "text/plain": [
       "(198351, 2)"
      ]
     },
     "execution_count": 35,
     "metadata": {},
     "output_type": "execute_result"
    }
   ],
   "source": [
    "pos_prob.shape"
   ]
  },
  {
   "cell_type": "code",
   "execution_count": 37,
   "metadata": {},
   "outputs": [
    {
     "data": {
      "text/plain": [
       "array([[0.95335295, 0.04664705],\n",
       "       [0.93422285, 0.06577715],\n",
       "       [0.97809917, 0.02190083],\n",
       "       ...,\n",
       "       [0.95335295, 0.04664705],\n",
       "       [0.94905545, 0.05094455],\n",
       "       [0.93422285, 0.06577715]])"
      ]
     },
     "execution_count": 37,
     "metadata": {},
     "output_type": "execute_result"
    }
   ],
   "source": [
    "pos_prob"
   ]
  },
  {
   "cell_type": "code",
   "execution_count": 39,
   "metadata": {},
   "outputs": [
    {
     "data": {
      "text/plain": [
       "array([0.04664705, 0.06577715, 0.02190083, ..., 0.04664705, 0.05094455,\n",
       "       0.06577715])"
      ]
     },
     "execution_count": 39,
     "metadata": {},
     "output_type": "execute_result"
    }
   ],
   "source": [
    "pos_prob[:, 1]"
   ]
  },
  {
   "cell_type": "code",
   "execution_count": 38,
   "metadata": {},
   "outputs": [
    {
     "data": {
      "text/plain": [
       "(198351,)"
      ]
     },
     "execution_count": 38,
     "metadata": {},
     "output_type": "execute_result"
    }
   ],
   "source": [
    "y_test.shape"
   ]
  },
  {
   "cell_type": "code",
   "execution_count": 40,
   "metadata": {},
   "outputs": [
    {
     "name": "stdout",
     "output_type": "stream",
     "text": [
      "('The roc on testing set is: ', 0.597316590617287)\n"
     ]
    }
   ],
   "source": [
    "print('The roc on testing set is: ', roc_auc_score(y_test, pos_prob[:, 1]))"
   ]
  },
  {
   "cell_type": "code",
   "execution_count": null,
   "metadata": {},
   "outputs": [],
   "source": []
  }
 ],
 "metadata": {
  "kernelspec": {
   "display_name": "Python 3",
   "language": "python",
   "name": "python3"
  },
  "language_info": {
   "codemirror_mode": {
    "name": "ipython",
    "version": 2
   },
   "file_extension": ".py",
   "mimetype": "text/x-python",
   "name": "python",
   "nbconvert_exporter": "python",
   "pygments_lexer": "ipython2",
   "version": "2.7.15+"
  }
 },
 "nbformat": 4,
 "nbformat_minor": 2
}
