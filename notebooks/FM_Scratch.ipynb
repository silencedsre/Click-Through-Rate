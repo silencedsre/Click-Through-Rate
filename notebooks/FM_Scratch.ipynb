{
 "cells": [
  {
   "cell_type": "code",
   "execution_count": 1,
   "metadata": {},
   "outputs": [],
   "source": [
    "import numpy as np\n",
    "import matplotlib.pyplot as plt"
   ]
  },
  {
   "cell_type": "code",
   "execution_count": 2,
   "metadata": {},
   "outputs": [],
   "source": [
    "X = np.array([\n",
    "    [1, 0, 0, 1, 0, 0, 0, 0.3, 0.3, 0.3, 0, 13, 0, 0, 0, 0],\n",
    "    [1, 0, 0, 0, 1, 0, 0, 0.3, 0.3, 0.3, 0, 14, 1, 0, 0, 0],\n",
    "    [1, 0, 0, 0, 1, 0, 0, 0.3, 0.3, 0.3, 0, 16, 0, 1, 0, 0],\n",
    "    [0, 1, 0, 0, 0, 1, 0, 0, 0, 0.5, 0.5, 5, 0, 0, 0 ,   0],\n",
    "    [0, 1, 0, 0, 0, 0, 1, 0, 0, 0.5, 0.5, 8, 0, 0, 1,    0],\n",
    "    [0, 0, 1, 1, 0, 0, 0, 0.5, 0, 0.5, 0, 9, 0, 0, 0,    0],\n",
    "    [0, 0, 1, 0, 0, 1, 0, 0.5, 0, 0.5, 0, 12, 1, 0, 0,   0]\n",
    "])"
   ]
  },
  {
   "cell_type": "code",
   "execution_count": 3,
   "metadata": {},
   "outputs": [],
   "source": [
    "Y = np.array([\n",
    "    [5],\n",
    "    [3],\n",
    "    [1],\n",
    "    [4],\n",
    "    [5],\n",
    "    [1],\n",
    "    [5]\n",
    "])"
   ]
  },
  {
   "cell_type": "code",
   "execution_count": 4,
   "metadata": {},
   "outputs": [],
   "source": [
    "def initialize_weights(X, k):\n",
    "    W0 = 0\n",
    "    W = np.zeros((1, X.shape[1]))\n",
    "#     V = np.zeros((X.shape[1], k))\n",
    "    V = np.random.normal(0, 0.0001, ((X.shape[1], k)))\n",
    "    return W0, W, V"
   ]
  },
  {
   "cell_type": "code",
   "execution_count": 5,
   "metadata": {},
   "outputs": [],
   "source": [
    "def forward_prop(W0, W, X, V):\n",
    "    linear_term = W0 + np.dot(X, W.T)\n",
    "    interactions = 0.5*np.sum((np.dot(X, V) - np.dot(X**2, V**2)), 1, keepdims=True)\n",
    "#     print(interactions)\n",
    "    y_hat = linear_term + interactions\n",
    "    return y_hat"
   ]
  },
  {
   "cell_type": "code",
   "execution_count": 6,
   "metadata": {},
   "outputs": [],
   "source": [
    "def cost_function(y, y_hat):\n",
    "    m = y.shape[0]\n",
    "    cost = (1/(2*m))*np.sum((y-y_hat)**2)\n",
    "    return cost"
   ]
  },
  {
   "cell_type": "code",
   "execution_count": 7,
   "metadata": {},
   "outputs": [],
   "source": [
    "def backprop(y, y_hat, X, V):\n",
    "    first_term = np.dot(X, V)\n",
    "    first_term = np.broadcast_to(first_term, (X.shape[1], V.shape[1]))\n",
    "    first_term = first_term * X.T\n",
    "    \n",
    "    second_term = V * (X.T)**2\n",
    "    \n",
    "    d_interactions = first_term - second_term\n",
    "    \n",
    "    d_W0 = -(y - y_hat)\n",
    "    \n",
    "    d_W = -(y - y_hat) * X\n",
    "    \n",
    "    d_V = -(y - y_hat) * d_interactions\n",
    "    \n",
    "    return d_W0, d_W, d_V\n",
    "    "
   ]
  },
  {
   "cell_type": "code",
   "execution_count": 8,
   "metadata": {},
   "outputs": [],
   "source": [
    "def update_weights(w0, w, v, learning_rate, dw0, dw, dv):\n",
    "    w0 -= learning_rate*dw0\n",
    "    w -= learning_rate*dw\n",
    "    v -= learning_rate*dv\n",
    "    return w0, w, v"
   ]
  },
  {
   "cell_type": "code",
   "execution_count": 9,
   "metadata": {},
   "outputs": [],
   "source": [
    "def model(X, Y, k, no_of_iters=1, learning_rate=0.1):\n",
    "    cost = []\n",
    "    w0, w, v = initialize_weights(X, k)\n",
    "    for j in range(no_of_iters):\n",
    "        y_hat_all = np.array([[]])\n",
    "        for i in range(len(X)): #ie: X[0], X[1],......X[m]\n",
    "            y_hat = forward_prop(w0, w, X[i].reshape(1, X.shape[1]), v)\n",
    "            y_hat_all = np.append(y_hat_all, y_hat)\n",
    "            dw0, dw, dv = backprop(Y[i].reshape(1,1), y_hat, X[i].reshape(1, X.shape[1]), v)\n",
    "            w0, w, v = update_weights(w0, w, v, learning_rate, dw0, dw, dv)\n",
    "        y_hat_all = y_hat_all.reshape(y_hat_all.shape[0], 1)\n",
    "        loss = cost_function(Y, y_hat_all)\n",
    "        cost.append(loss)\n",
    "    \n",
    "    return w0, w, v, cost"
   ]
  },
  {
   "cell_type": "code",
   "execution_count": 14,
   "metadata": {},
   "outputs": [],
   "source": [
    "w0, w, v, cost = model(X, Y, k=3, no_of_iters=30, learning_rate=0.0001)"
   ]
  },
  {
   "cell_type": "code",
   "execution_count": 15,
   "metadata": {},
   "outputs": [],
   "source": [
    "# w0, w, v"
   ]
  },
  {
   "cell_type": "code",
   "execution_count": 18,
   "metadata": {},
   "outputs": [
    {
     "data": {
      "text/plain": [
       "array([[3.29844675]])"
      ]
     },
     "execution_count": 18,
     "metadata": {},
     "output_type": "execute_result"
    }
   ],
   "source": [
    "forward_prop(w0, w, X[0].reshape(1, 16), v)"
   ]
  },
  {
   "cell_type": "code",
   "execution_count": 19,
   "metadata": {},
   "outputs": [
    {
     "data": {
      "text/plain": [
       "[<matplotlib.lines.Line2D at 0x7ff2426abd50>]"
      ]
     },
     "execution_count": 19,
     "metadata": {},
     "output_type": "execute_result"
    },
    {
     "data": {
      "image/png": "[encoded data removed]",
      "text/plain": [
       "<Figure size 432x288 with 1 Axes>"
      ]
     },
     "metadata": {
      "needs_background": "light"
     },
     "output_type": "display_data"
    }
   ],
   "source": [
    "plt.plot(cost)"
   ]
  },
  {
   "cell_type": "code",
   "execution_count": null,
   "metadata": {},
   "outputs": [],
   "source": []
  }
 ],
 "metadata": {
  "kernelspec": {
   "display_name": "Python 3",
   "language": "python",
   "name": "python3"
  },
  "language_info": {
   "codemirror_mode": {
    "name": "ipython",
    "version": 3
   },
   "file_extension": ".py",
   "mimetype": "text/x-python",
   "name": "python",
   "nbconvert_exporter": "python",
   "pygments_lexer": "ipython3",
   "version": "3.7.4"
  }
 },
 "nbformat": 4,
 "nbformat_minor": 2
}
