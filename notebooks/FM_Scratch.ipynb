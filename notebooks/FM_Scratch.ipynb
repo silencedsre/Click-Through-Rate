{
 "cells": [
  {
   "cell_type": "code",
   "execution_count": 57,
   "metadata": {},
   "outputs": [],
   "source": [
    "import numpy as np"
   ]
  },
  {
   "cell_type": "code",
   "execution_count": 58,
   "metadata": {},
   "outputs": [],
   "source": [
    "X = np.array([\n",
    "    [1, 0, 0, 1, 0, 0, 0, 0.3, 0.3, 0.3, 0, 13, 0, 0, 0, 0],\n",
    "    [1, 0, 0, 0, 1, 0, 0, 0.3, 0.3, 0.3, 0, 14, 1, 0, 0, 0],\n",
    "    [1, 0, 0, 0, 1, 0, 0, 0.3, 0.3, 0.3, 0, 16, 0, 1, 0, 0],\n",
    "    [0, 1, 0, 0, 0, 1, 0, 0, 0, 0.5, 0.5, 5, 0, 0, 0 ,   0],\n",
    "    [0, 1, 0, 0, 0, 0, 1, 0, 0, 0.5, 0.5, 8, 0, 0, 1,    0],\n",
    "    [0, 0, 1, 1, 0, 0, 0, 0.5, 0, 0.5, 0, 9, 0, 0, 0,    0],\n",
    "    [0, 0, 1, 0, 0, 1, 0, 0.5, 0, 0.5, 0, 12, 1, 0, 0,   0]\n",
    "])"
   ]
  },
  {
   "cell_type": "code",
   "execution_count": 66,
   "metadata": {},
   "outputs": [
    {
     "data": {
      "text/plain": [
       "16"
      ]
     },
     "execution_count": 66,
     "metadata": {},
     "output_type": "execute_result"
    }
   ],
   "source": [
    "X.shape[1]"
   ]
  },
  {
   "cell_type": "code",
   "execution_count": 60,
   "metadata": {},
   "outputs": [],
   "source": [
    "Y = np.array([\n",
    "    [5],\n",
    "    [3],\n",
    "    [1],\n",
    "    [4],\n",
    "    [5],\n",
    "    [1],\n",
    "    [5]\n",
    "])"
   ]
  },
  {
   "cell_type": "code",
   "execution_count": 61,
   "metadata": {},
   "outputs": [
    {
     "data": {
      "text/plain": [
       "(7, 1)"
      ]
     },
     "execution_count": 61,
     "metadata": {},
     "output_type": "execute_result"
    }
   ],
   "source": [
    "Y.shape"
   ]
  },
  {
   "cell_type": "code",
   "execution_count": null,
   "metadata": {},
   "outputs": [],
   "source": [
    "def initialize_weights(X, k):\n",
    "    W0 = 0\n",
    "    W = np.zeros((1, X.shape[1]))\n",
    "    V = np.zeros((X.shape[1], k)\n",
    "    \n",
    "    return W0, W, V"
   ]
  },
  {
   "cell_type": "code",
   "execution_count": 62,
   "metadata": {},
   "outputs": [],
   "source": [
    "def forward_prop(W0, W, X_row_single, V):\n",
    "    linear_term = W0 + np.dot(X_row_single, V)\n",
    "    interactions = 0.5*np.sum((np.dot(X_row_single, V) - np.dot(X_row_single**2, V**2)), 1, keepdims=True)\n",
    "    y_hat = linear_term + interactions\n",
    "    return y_hat"
   ]
  },
  {
   "cell_type": "code",
   "execution_count": 63,
   "metadata": {},
   "outputs": [],
   "source": [
    "def cost_function(y_row_single, y_hat_row_single):\n",
    "    cost = 0.5(y_row_single - y_hat_row_single)**2\n",
    "    return cost"
   ]
  },
  {
   "cell_type": "code",
   "execution_count": 64,
   "metadata": {},
   "outputs": [],
   "source": [
    "def backprop(y_row_single, y_hat_row_single, X_row_single, V):\n",
    "    first_term = np.dot(X_row_single, V)\n",
    "    first_term = np.broadcast_to(first_term, (X_row_single.shape[1], V.shape[1]))\n",
    "    first_term = first_term * X_row_single.T\n",
    "    \n",
    "    second_term = (X_row_single.T)**2 * V\n",
    "    \n",
    "    d_interactions = first_term - second_term\n",
    "    \n",
    "    d_W0 = (y_row_single - y_hat_row_single)\n",
    "    \n",
    "    d_W = (y_row_single - y_hat_row_single) * X_row_single\n",
    "    \n",
    "    d_V = (y_row_single - y_hat_row_single) * d_interactions\n",
    "    \n",
    "    return d_W0, d_W, d_V\n",
    "    "
   ]
  },
  {
   "cell_type": "code",
   "execution_count": null,
   "metadata": {},
   "outputs": [],
   "source": [
    "def update_weights(cost, d_W0, d_W, d_V):\n",
    "    W0 -= d_W0\n",
    "    W -= dW\n",
    "    V -= d_V\n",
    "    return W0, W, V"
   ]
  }
 ],
 "metadata": {
  "kernelspec": {
   "display_name": "Python 3",
   "language": "python",
   "name": "python3"
  },
  "language_info": {
   "codemirror_mode": {
    "name": "ipython",
    "version": 3
   },
   "file_extension": ".py",
   "mimetype": "text/x-python",
   "name": "python",
   "nbconvert_exporter": "python",
   "pygments_lexer": "ipython3",
   "version": "3.7.4"
  }
 },
 "nbformat": 4,
 "nbformat_minor": 2
}
