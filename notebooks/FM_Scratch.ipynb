{
 "cells": [
  {
   "cell_type": "code",
   "execution_count": 1,
   "metadata": {},
   "outputs": [],
   "source": [
    "import numpy as np"
   ]
  },
  {
   "cell_type": "code",
   "execution_count": 2,
   "metadata": {},
   "outputs": [],
   "source": [
    "X = np.array([\n",
    "    [1, 0, 0, 1, 0, 0, 0, 0.3, 0.3, 0.3, 0, 13, 0, 0, 0, 0],\n",
    "    [1, 0, 0, 0, 1, 0, 0, 0.3, 0.3, 0.3, 0, 14, 1, 0, 0, 0],\n",
    "    [1, 0, 0, 0, 1, 0, 0, 0.3, 0.3, 0.3, 0, 16, 0, 1, 0, 0],\n",
    "    [0, 1, 0, 0, 0, 1, 0, 0, 0, 0.5, 0.5, 5, 0, 0, 0 ,   0],\n",
    "    [0, 1, 0, 0, 0, 0, 1, 0, 0, 0.5, 0.5, 8, 0, 0, 1,    0],\n",
    "    [0, 0, 1, 1, 0, 0, 0, 0.5, 0, 0.5, 0, 9, 0, 0, 0,    0],\n",
    "    [0, 0, 1, 0, 0, 1, 0, 0.5, 0, 0.5, 0, 12, 1, 0, 0,   0]\n",
    "])"
   ]
  },
  {
   "cell_type": "code",
   "execution_count": 3,
   "metadata": {},
   "outputs": [],
   "source": [
    "Y = np.array([\n",
    "    [5],\n",
    "    [3],\n",
    "    [1],\n",
    "    [4],\n",
    "    [5],\n",
    "    [1],\n",
    "    [5]\n",
    "])"
   ]
  },
  {
   "cell_type": "code",
   "execution_count": 4,
   "metadata": {},
   "outputs": [],
   "source": [
    "def initialize_weights(X, k):\n",
    "    W0 = 0\n",
    "    W = np.zeros((1, X.shape[1]))\n",
    "#     V = np.zeros((X.shape[1], k))\n",
    "    V = np.random.normal(0, 0.0001, ((X.shape[1], k)))\n",
    "    return W0, W, V"
   ]
  },
  {
   "cell_type": "code",
   "execution_count": 5,
   "metadata": {},
   "outputs": [],
   "source": [
    "def forward_prop(W0, W, X, V):\n",
    "    linear_term = W0 + np.dot(X, W.T)\n",
    "    interactions = 0.5*np.sum((np.dot(X, V) - np.dot(X**2, V**2)), 1, keepdims=True)\n",
    "    print(interactions)\n",
    "    y_hat = linear_term + interactions\n",
    "    return y_hat"
   ]
  },
  {
   "cell_type": "code",
   "execution_count": 6,
   "metadata": {},
   "outputs": [],
   "source": [
    "def cost_function(y, y_hat):\n",
    "    cost = 0.5*(y - y_hat)**2\n",
    "    return cost"
   ]
  },
  {
   "cell_type": "code",
   "execution_count": 7,
   "metadata": {},
   "outputs": [],
   "source": [
    "def backprop(y, y_hat, X, V):\n",
    "    first_term = np.dot(X, V)\n",
    "    first_term = np.broadcast_to(first_term, (X.shape[1], V.shape[1]))\n",
    "    first_term = first_term * X.T\n",
    "    \n",
    "    second_term = V * (X.T)**2\n",
    "    \n",
    "    d_interactions = first_term - second_term\n",
    "    \n",
    "    d_W0 = (y - y_hat)\n",
    "    \n",
    "    d_W = (y - y_hat) * X\n",
    "    \n",
    "    d_V = (y - y_hat) * d_interactions\n",
    "    \n",
    "    return d_W0, d_W, d_V\n",
    "    "
   ]
  },
  {
   "cell_type": "code",
   "execution_count": 8,
   "metadata": {},
   "outputs": [],
   "source": [
    "def update_weights(w0, w, v, learning_rate, dw0, dw, dv):\n",
    "    w0 -= learning_rate*dw0\n",
    "    w -= learning_rate*dw\n",
    "    v -= learning_rate*dv\n",
    "    return w0, w, v"
   ]
  },
  {
   "cell_type": "code",
   "execution_count": 9,
   "metadata": {},
   "outputs": [
    {
     "data": {
      "text/plain": [
       "array([[ 1. ,  0. ,  0. ,  0. ,  1. ,  0. ,  0. ,  0.3,  0.3,  0.3,  0. ,\n",
       "        14. ,  1. ,  0. ,  0. ,  0. ]])"
      ]
     },
     "execution_count": 9,
     "metadata": {},
     "output_type": "execute_result"
    }
   ],
   "source": [
    "X_row_single =X[1].reshape(1, X.shape[1])\n",
    "X_row_single"
   ]
  },
  {
   "cell_type": "code",
   "execution_count": 10,
   "metadata": {},
   "outputs": [
    {
     "data": {
      "text/plain": [
       "array([[3]])"
      ]
     },
     "execution_count": 10,
     "metadata": {},
     "output_type": "execute_result"
    }
   ],
   "source": [
    "y_row_single = Y[1].reshape(1,1)\n",
    "y_row_single"
   ]
  },
  {
   "cell_type": "code",
   "execution_count": 11,
   "metadata": {},
   "outputs": [],
   "source": [
    "w0, w, v = initialize_weights(X_row_single, k=2)"
   ]
  },
  {
   "cell_type": "code",
   "execution_count": 12,
   "metadata": {},
   "outputs": [
    {
     "data": {
      "text/plain": [
       "0"
      ]
     },
     "execution_count": 12,
     "metadata": {},
     "output_type": "execute_result"
    }
   ],
   "source": [
    "w0"
   ]
  },
  {
   "cell_type": "code",
   "execution_count": 13,
   "metadata": {},
   "outputs": [
    {
     "data": {
      "text/plain": [
       "(1, 16)"
      ]
     },
     "execution_count": 13,
     "metadata": {},
     "output_type": "execute_result"
    }
   ],
   "source": [
    "w.shape #1, n"
   ]
  },
  {
   "cell_type": "code",
   "execution_count": 14,
   "metadata": {},
   "outputs": [
    {
     "data": {
      "text/plain": [
       "(16, 2)"
      ]
     },
     "execution_count": 14,
     "metadata": {},
     "output_type": "execute_result"
    }
   ],
   "source": [
    "v.shape #n,2"
   ]
  },
  {
   "cell_type": "code",
   "execution_count": 15,
   "metadata": {},
   "outputs": [
    {
     "name": "stdout",
     "output_type": "stream",
     "text": [
      "[[0.00042392]]\n"
     ]
    },
    {
     "data": {
      "text/plain": [
       "array([[0.00042392]])"
      ]
     },
     "execution_count": 15,
     "metadata": {},
     "output_type": "execute_result"
    }
   ],
   "source": [
    "y_hat = forward_prop(W0=w0, W=w, X=X_row_single, V=v)\n",
    "y_hat"
   ]
  },
  {
   "cell_type": "code",
   "execution_count": 16,
   "metadata": {},
   "outputs": [],
   "source": [
    "d_w0, d_w, d_v = backprop(y= y_row_single, y_hat=y_hat, X=X_row_single, V=v)"
   ]
  },
  {
   "cell_type": "code",
   "execution_count": 17,
   "metadata": {},
   "outputs": [
    {
     "data": {
      "text/plain": [
       "array([[2.99957608]])"
      ]
     },
     "execution_count": 17,
     "metadata": {},
     "output_type": "execute_result"
    }
   ],
   "source": [
    "d_w0"
   ]
  },
  {
   "cell_type": "code",
   "execution_count": 18,
   "metadata": {},
   "outputs": [
    {
     "data": {
      "text/plain": [
       "array([[ 2.99957608,  0.        ,  0.        ,  0.        ,  2.99957608,\n",
       "         0.        ,  0.        ,  0.89987282,  0.89987282,  0.89987282,\n",
       "         0.        , 41.99406512,  2.99957608,  0.        ,  0.        ,\n",
       "         0.        ]])"
      ]
     },
     "execution_count": 18,
     "metadata": {},
     "output_type": "execute_result"
    }
   ],
   "source": [
    "d_w #1,n"
   ]
  },
  {
   "cell_type": "code",
   "execution_count": 19,
   "metadata": {},
   "outputs": [
    {
     "data": {
      "text/plain": [
       "array([[-0.00096458,  0.00343642],\n",
       "       [-0.        ,  0.        ],\n",
       "       [ 0.        ,  0.        ],\n",
       "       [ 0.        ,  0.        ],\n",
       "       [-0.00064553,  0.00342895],\n",
       "       [ 0.        ,  0.        ],\n",
       "       [ 0.        ,  0.        ],\n",
       "       [-0.0002797 ,  0.00105717],\n",
       "       [-0.00023046,  0.00104166],\n",
       "       [-0.00029181,  0.00110442],\n",
       "       [ 0.        ,  0.        ],\n",
       "       [-0.00269738, -0.00500769],\n",
       "       [-0.00140498,  0.00398744],\n",
       "       [ 0.        ,  0.        ],\n",
       "       [-0.        ,  0.        ],\n",
       "       [-0.        ,  0.        ]])"
      ]
     },
     "execution_count": 19,
     "metadata": {},
     "output_type": "execute_result"
    }
   ],
   "source": [
    "d_v #n, k"
   ]
  },
  {
   "cell_type": "code",
   "execution_count": 20,
   "metadata": {},
   "outputs": [],
   "source": [
    "def model(X, Y, k, no_of_iters=1, learning_rate=0.1):\n",
    "    cost = []\n",
    "    w0, w, v = initialize_weights(X, k)\n",
    "    for j in range(no_of_iters):\n",
    "        for i in range(len(X)): #ie: X[0], X[1],......X[m]\n",
    "            y_hat = forward_prop(w0, w, X[i].reshape(1, X.shape[1]), v)\n",
    "            loss = cost_function(Y[i].reshape(1, 1), y_hat)\n",
    "            cost.append(loss)\n",
    "            dw0, dw, dv = backprop(Y[i].reshape(1,1), y_hat, X[i].reshape(1, X.shape[1]), v)\n",
    "            w0, w, v = update_weights(w0, w, v, learning_rate, dw0, dw, dv)\n",
    "    \n",
    "    return w0, w, v, cost"
   ]
  },
  {
   "cell_type": "code",
   "execution_count": 21,
   "metadata": {},
   "outputs": [
    {
     "name": "stdout",
     "output_type": "stream",
     "text": [
      "[[-0.00171773]]\n",
      "[[0.00314257]]\n",
      "[[-7.00321608]]\n",
      "[[-14994520.22282087]]\n",
      "[[-5.81556579e+19]]\n",
      "[[-1.32865084e+61]]\n",
      "[[-2.94415042e+181]]\n"
     ]
    },
    {
     "name": "stderr",
     "output_type": "stream",
     "text": [
      "/home/shree/personal_projects/Click-Through-Rate/venv/lib/python3.7/site-packages/ipykernel_launcher.py:2: RuntimeWarning: overflow encountered in square\n",
      "  \n"
     ]
    }
   ],
   "source": [
    "w0, w, v, cost = model(X, Y, k=2)"
   ]
  },
  {
   "cell_type": "code",
   "execution_count": null,
   "metadata": {},
   "outputs": [],
   "source": []
  }
 ],
 "metadata": {
  "kernelspec": {
   "display_name": "Python 3",
   "language": "python",
   "name": "python3"
  },
  "language_info": {
   "codemirror_mode": {
    "name": "ipython",
    "version": 3
   },
   "file_extension": ".py",
   "mimetype": "text/x-python",
   "name": "python",
   "nbconvert_exporter": "python",
   "pygments_lexer": "ipython3",
   "version": "3.7.4"
  }
 },
 "nbformat": 4,
 "nbformat_minor": 2
}
